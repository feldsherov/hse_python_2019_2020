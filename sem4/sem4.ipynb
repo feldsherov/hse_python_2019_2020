{
 "cells": [
  {
   "cell_type": "markdown",
   "metadata": {},
   "source": [
    "## Семинар 4\n",
    "\n",
    "Программа минимум на сегодня\n",
    "* функции\n",
    "* рекурсия"
   ]
  },
  {
   "cell_type": "code",
   "execution_count": null,
   "metadata": {},
   "outputs": [],
   "source": [
    "def factorial(n):\n",
    "    if n == 0:\n",
    "        return 1\n",
    "    return factorial(n - 1) * n"
   ]
  },
  {
   "cell_type": "code",
   "execution_count": null,
   "metadata": {},
   "outputs": [],
   "source": [
    "print(f\"factorial(5) == {factorial(5)}\")"
   ]
  },
  {
   "cell_type": "markdown",
   "metadata": {},
   "source": [
    "Рекурсия была, функция была. Программа минимум выполнена, расходимся!"
   ]
  },
  {
   "cell_type": "code",
   "execution_count": null,
   "metadata": {},
   "outputs": [],
   "source": [
    "def binomial(n, k):\n",
    "    \"\"\"Calculate binomial coeficient\"\"\"\n",
    "    # please implement this function\n",
    "    pass"
   ]
  },
  {
   "cell_type": "markdown",
   "metadata": {},
   "source": [
    "Вы уже большие давайте научимся писать тесты!!!"
   ]
  },
  {
   "cell_type": "code",
   "execution_count": null,
   "metadata": {},
   "outputs": [],
   "source": [
    "import unittest\n",
    "\n",
    "#  Тут классы, все страшно, непонятно, на самом деле нет.\n",
    "#  https://docs.python.org/3/library/unittest.html#command-line-interface\n",
    "#  https://docs.python.org/3/library/unittest.html#command-line-interface\n",
    "class TestBinomial(unittest.TestCase):\n",
    "    def test_cornecases(self):\n",
    "        self.assertEqual(binomial(1, 1), 1)\n",
    "        self.assertEqual(binomial(1, 0), 1)\n",
    "        self.assertEqual(binomial(2, 2), 1)\n",
    "        self.assertEqual(binomial(2, 0), 1)\n",
    "        \n",
    "    def test_simple(self):\n",
    "        self.assertEqual(binomial(3, 0), 1)\n",
    "        self.assertEqual(binomial(3, 1), 3)\n",
    "        self.assertEqual(binomial(3, 2), 3)\n",
    "        self.assertEqual(binomial(3, 3), 1)\n",
    "        \n",
    "    def test_large(self):\n",
    "        self.assertEqual(binomial(179, 57), 278879298722207640447386651738273343486610700400)\n",
    "        self.assertEqual(binomial(10, 5), 252)\n",
    "        self.assertEqual(binomial(10, 2), 45)\n",
    "\n",
    "\n",
    "\n",
    "unittest.main(argv=['-m', 'TestBinomial'], verbosity=2, exit=False)"
   ]
  },
  {
   "cell_type": "markdown",
   "metadata": {},
   "source": [
    "### Устроили тут, функциональщину....\n",
    "\n",
    "Коль уж мы начали говорить про функции, давайте проговорим про \"High order functions\", они же функции высшего порядка! Есть идеи, что это."
   ]
  },
  {
   "cell_type": "code",
   "execution_count": null,
   "metadata": {},
   "outputs": [],
   "source": [
    "def high_order_func(some_usual_func, big_brother_action=\"watching\"):\n",
    "    def wrapper(*args, **kwargs): # Божечки, кошечки, что за *args, **kwargs.\n",
    "        print(f\"Big brother is watching you: \", end=\"\")\n",
    "        some_usual_func(*args, **kwargs)\n",
    "    return wrapper\n",
    "\n",
    "def usual_func(text):\n",
    "    print(f\"I am free function. My aim is {text}\")\n",
    "    \n",
    "result_func = high_order_func(usual_func)\n",
    "result_func(\"love\")"
   ]
  },
  {
   "cell_type": "code",
   "execution_count": null,
   "metadata": {},
   "outputs": [],
   "source": [
    "a = [1, 2, 3] #  эт список, знакомьтесь\n",
    "def baz(a, b, c):\n",
    "    print(f\"a={a}, b={b}, c={c}\")\n",
    "\n",
    "baz(*a)\n",
    "print(*a)"
   ]
  },
  {
   "cell_type": "code",
   "execution_count": null,
   "metadata": {},
   "outputs": [],
   "source": [
    "mydict = {\"a\": 1, \"b\": 2} #  эт дикт, знаете, наверное\n",
    "def foo(a, b):\n",
    "    return a + b\n",
    "\n",
    "foo(**mydict)"
   ]
  },
  {
   "cell_type": "markdown",
   "metadata": {},
   "source": [
    "```*args``` и ```**kwargs``` созданы, чтобы получать параметры и именованные параметры, про количество которых вы заранее ничего не знаете. Как вы видите, очень нужная штука для декораторов."
   ]
  },
  {
   "cell_type": "markdown",
   "metadata": {},
   "source": [
    "Жуть, да? Идеи зачем нужна такая конструкция?"
   ]
  },
  {
   "cell_type": "code",
   "execution_count": null,
   "metadata": {},
   "outputs": [],
   "source": [
    "#  Больше документации про функциональное счастье \n",
    "#  https://docs.python.org/3.7/library/functools.html\n",
    "\n",
    "def decorator_factory(big_brother_action=\"watching\"): #  Это же factory, Слава, прекрати!\n",
    "    def decorator(function):\n",
    "        def wrapper(*args, **kwargs):\n",
    "            print(f\"Big brother is {big_brother_action} you: \", end=\"\")\n",
    "            return function(*args, **kwargs)\n",
    "        return wrapper\n",
    "    return decorator\n",
    "\n",
    "\n",
    "@decorator_factory(\"hating\")\n",
    "def usual_func2(text):\n",
    "    print(f\"I am free function 2. My aim is {text}\")\n",
    "\n",
    "usual_func2(\"piece\")"
   ]
  },
  {
   "cell_type": "code",
   "execution_count": null,
   "metadata": {},
   "outputs": [],
   "source": [
    "import functools\n",
    "\n",
    "@functools.lru_cache(3) #  LRU means least recently used\n",
    "def some_long_func(a):\n",
    "    print(f\"I was actually called. With a={a}\")\n",
    "    return a"
   ]
  },
  {
   "cell_type": "code",
   "execution_count": null,
   "metadata": {},
   "outputs": [],
   "source": [
    "print(f\"call some_long_func(1)={some_long_func(1)}\")\n",
    "print(f\"call some_long_func(1)={some_long_func(1)}\")\n",
    "print(f\"call some_long_func(2)={some_long_func(2)}\")\n",
    "print(f\"call some_long_func(3)={some_long_func(3)}\")\n",
    "print(f\"call some_long_func(4)={some_long_func(4)}\")\n",
    "print(f\"call some_long_func(1)={some_long_func(1)}\")"
   ]
  },
  {
   "cell_type": "markdown",
   "metadata": {},
   "source": [
    "### А теперь давайте по делу"
   ]
  },
  {
   "cell_type": "markdown",
   "metadata": {},
   "source": [
    "Почему функции? Примеры, зачем, какие плюсы?"
   ]
  },
  {
   "cell_type": "code",
   "execution_count": null,
   "metadata": {},
   "outputs": [],
   "source": [
    "import requests\n",
    "\n",
    "def say_hello_to_ya():\n",
    "    \"\"\"\n",
    "    Just sends GET request to ya.ru\n",
    "    returns: response payload \n",
    "    \"\"\" \n",
    "    #  doc string, пишите doc стринги для своих функций\n",
    "    #  https://www.python.org/dev/peps/pep-0257/\n",
    "\n",
    "    r = requests.get(\"https://ya.ru\",)\n",
    "    return r.text"
   ]
  },
  {
   "cell_type": "code",
   "execution_count": null,
   "metadata": {},
   "outputs": [],
   "source": [
    "say_hello_to_ya()"
   ]
  },
  {
   "cell_type": "markdown",
   "metadata": {},
   "source": [
    "### Боже, что это было!?\n",
    "\n",
    "Давайте поговорим, что произошло? Расскажите, что вы понимаете?"
   ]
  },
  {
   "cell_type": "markdown",
   "metadata": {},
   "source": [
    "### HTTP\n",
    "\n",
    "[Википедия](https://ru.wikipedia.org/wiki/HTTP). Вопрос, откуда название?\n",
    "\n",
    "Быстрый пример http запросы.\n",
    "\n",
    "```\n",
    "GET /homepage.html HTTP/1.1\n",
    "Host: localhost\n",
    "\n",
    "```\n",
    "\n",
    "Что-то более сложное, но идейно именно такое браузер посылает на сервер, когда вы делает запрос. ```http://locahost/homepage.html```\n",
    "\n",
    "Вкратце, есть методы. Нам интересен сейчас 1 ```GET```, означает \"дай мне документ по этому адресу\".\n",
    "\n",
    "```/homepage.html``` путь до документа. ```HTTP/1.1``` версия протокола. Сейчас все пересаживаются на ```HTTP/2```, он бинарный с ним так просто не поиграешься.\n",
    "\n",
    "```Host: localhost```, это обязательный хедер для ```HTTP 1.1```, говорит к какому домену ты обращаял. Например для ```ya.ru```, получится ```Host: ya.ru```.\n",
    "\n",
    "Описание всех методов есть на вики. [Описание всего протокола RFC(request for comments)](https://tools.ietf.org/html/rfc2616). В таких штуках тру пацаны и паценессы читаю про протоколы и стандарты. Еще в коде больших опенсорс проектов. Например в хроумиуме.\n",
    "\n",
    "\n",
    "А теперь давайте начнем писать код."
   ]
  },
  {
   "cell_type": "code",
   "execution_count": null,
   "metadata": {},
   "outputs": [],
   "source": [
    "def parse_http_request(request):\n",
    "    '''Returns tuple of bytes (method, uri, http version)'''\n",
    "    # please implement\n",
    "    pass"
   ]
  },
  {
   "cell_type": "code",
   "execution_count": null,
   "metadata": {},
   "outputs": [],
   "source": [
    "class TestHttpParse(unittest.TestCase):\n",
    "    def test_simple(self):\n",
    "        method, uri, version = parse_http_request(\"GET / HTTP/1.1\\r\\nHost: ya.ru\")\n",
    "        self.assertEqual(method, \"GET\")\n",
    "        self.assertEqual(uri, \"/\")\n",
    "        self.assertEqual(version, \"HTTP/1.1\")\n",
    "        \n",
    "    def test_caseinsensitive(self):\n",
    "        method, uri, version = parse_http_request(\"Get /home_page.html HtTp/1.1\\r\\nhOsT: ya.ru\")\n",
    "        self.assertEqual(method, \"Get\")\n",
    "        self.assertEqual(uri, \"/home_page.html\")\n",
    "        self.assertEqual(version, \"HtTp/1.1\")\n",
    "                         \n",
    "unittest.main(argv=['-m', 'TestHttpParse'], verbosity=2, exit=False)"
   ]
  },
  {
   "cell_type": "markdown",
   "metadata": {},
   "source": [
    "### Сокеты\n",
    "\n",
    "Ну классно, а как по сети общаться то? \n",
    "Сейчас я расскажу [про то, что сам не знаю](https://docs.python.org/3.7/library/socket.html)"
   ]
  },
  {
   "cell_type": "code",
   "execution_count": null,
   "metadata": {},
   "outputs": [],
   "source": [
    "import socket"
   ]
  },
  {
   "cell_type": "code",
   "execution_count": null,
   "metadata": {},
   "outputs": [],
   "source": [
    "def simple_echo(port=8080):\n",
    "    # https://docs.python.org/3.7/library/socket.html#socket.socket\n",
    "    s = socket.socket()\n",
    "    s.setsockopt(socket.SOL_SOCKET, socket.SO_REUSEADDR, 1)\n",
    "    s.bind((\"0.0.0.0\", port))\n",
    "    s.listen(1) #  count of connetctions in queue\n",
    "    connection, addr = s.accept()\n",
    "    with connection:\n",
    "        print('Connected by', addr)\n",
    "        data = connection.recv(1024)\n",
    "        print(f'data={data}')\n",
    "        connection.sendall(data)\n",
    "    connection.close()\n",
    "    s.close()"
   ]
  },
  {
   "cell_type": "markdown",
   "metadata": {},
   "source": [
    "Небольшой кусочек моей консоли, как я дебагаю эту штуку.\n",
    "\n",
    "```\n",
    "> telnet localhost 8080                                                     \n",
    "Trying ::1...\n",
    "telnet: connect to address ::1: Connection refused\n",
    "Trying 127.0.0.1...\n",
    "Connected to localhost.\n",
    "Escape character is '^]'.\n",
    "GET /home_page.html HTTP/1.1\n",
    "\n",
    "\n",
    "```"
   ]
  },
  {
   "cell_type": "code",
   "execution_count": null,
   "metadata": {},
   "outputs": [],
   "source": [
    "simple_echo()"
   ]
  },
  {
   "cell_type": "markdown",
   "metadata": {},
   "source": [
    "Отлично, сеть есть. Давайте теперь научимся отвечать по HTTP.\n",
    "\n",
    "Это очень просто.\n",
    "\n",
    "```\n",
    "HTTP/1.1 200 OK\n",
    "Content-Length: 3\n",
    "\n",
    "LoL\n",
    "\n",
    "\n",
    "```\n",
    "\n",
    "Что там на самом деле написано:\n",
    "```\n",
    "<версия> <код ответа> <расшифровка ответа> <- вот тут один \\r\\n\n",
    "Content-Length: <длинна документа в ответе>\n",
    "<- вот тут два \\r\\n\n",
    "<документ данной длинны>\n",
    "<- вот тут два \\r\\n\n",
    "```"
   ]
  },
  {
   "cell_type": "code",
   "execution_count": null,
   "metadata": {},
   "outputs": [],
   "source": [
    "def prepare_http_response(data):\n",
    "    '''Returns 200 OK HTTP1.1 response with given payload'''\n",
    "    # please implement"
   ]
  },
  {
   "cell_type": "code",
   "execution_count": null,
   "metadata": {},
   "outputs": [],
   "source": [
    "class TestHttpResponse(unittest.TestCase):\n",
    "    def test_simple(self):\n",
    "        self.assertEqual(prepare_http_response(\"LoL\"), \"HTTP/1.1 200 OK\\r\\nContent-Length: 3\\r\\n\\r\\nLoL\\r\\n\\r\\n\")\n",
    "        \n",
    "unittest.main(argv=['-m', 'TestHttpResponse'], verbosity=2, exit=False)"
   ]
  },
  {
   "cell_type": "markdown",
   "metadata": {},
   "source": [
    "![Ну вы поняли](https://cs5.pikabu.ru/images/big_size_comm/2014-10_6/14145771591262.jpg)"
   ]
  },
  {
   "cell_type": "code",
   "execution_count": null,
   "metadata": {},
   "outputs": [],
   "source": [
    "import os\n",
    "\n",
    "def simple_http(port=8080):\n",
    "    \"\"\"serve one http request to static data(files on disk)\"\"\"\n",
    "    # You have example of echo server.\n",
    "    # Use it for you simple http server.\n",
    "    # Remeber that socket.recv and socket.sendall\n",
    "    # works with bytes.\n",
    "    # b\"some_bytes\".decode('utf-8') will decode bytes to string with utf-8 encoding\n",
    "    # \"some_bytes\".encode('utf-8') will encode string to bytes with utf-8 encoding\n",
    "    pass"
   ]
  },
  {
   "cell_type": "code",
   "execution_count": null,
   "metadata": {},
   "outputs": [],
   "source": [
    "simple_http()"
   ]
  },
  {
   "cell_type": "markdown",
   "metadata": {},
   "source": [
    "Теперь осталось совсем чуть-чуть. Открыть в браузере адрес [localhost:8080/home_page.html](localhost:8080/home_page.html)"
   ]
  }
 ],
 "metadata": {
  "kernelspec": {
   "display_name": "Python 3",
   "language": "python",
   "name": "python3"
  },
  "language_info": {
   "codemirror_mode": {
    "name": "ipython",
    "version": 3
   },
   "file_extension": ".py",
   "mimetype": "text/x-python",
   "name": "python",
   "nbconvert_exporter": "python",
   "pygments_lexer": "ipython3",
   "version": "3.7.0"
  }
 },
 "nbformat": 4,
 "nbformat_minor": 2
}
