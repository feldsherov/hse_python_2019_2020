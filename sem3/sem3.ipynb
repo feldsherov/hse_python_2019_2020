{
 "cells": [
  {
   "cell_type": "markdown",
   "metadata": {},
   "source": [
    "### Семинар 3\n",
    "\n",
    "#### Программа минимум на сегодня\n",
    "\n",
    "* тип float\n",
    "* функция help\n",
    "* методы у строк \n",
    "    - повторение срезов\n",
    "    - find, rfind\n",
    "    - replace\n",
    "    - count\n",
    "    \n",
    "##### Бонус трек\n",
    "* ast из семинара 2\n",
    "* устройство чисел с плавающей точкой"
   ]
  },
  {
   "cell_type": "markdown",
   "metadata": {},
   "source": [
    "### Float\n",
    "\n",
    "\n",
    "Тип, который хранит не целые числа. \n",
    "\n",
    "***Идеи, как оно может быть устроено?***\n",
    "\n",
    "Тривиальная часть."
   ]
  },
  {
   "cell_type": "code",
   "execution_count": 12,
   "metadata": {},
   "outputs": [
    {
     "name": "stdout",
     "output_type": "stream",
     "text": [
      "1\n",
      "2\n",
      "3.0\n"
     ]
    }
   ],
   "source": [
    "x = float(input())\n",
    "y = float(input())\n",
    "print(x + y)"
   ]
  },
  {
   "cell_type": "markdown",
   "metadata": {},
   "source": [
    "Иногда нам нужно вывести определенное количество знаков после запятой. \n",
    "Это удобно делается с f-strings и с format."
   ]
  },
  {
   "cell_type": "code",
   "execution_count": 13,
   "metadata": {},
   "outputs": [
    {
     "name": "stdout",
     "output_type": "stream",
     "text": [
      "a = 0.1000000000000000055511151\n",
      "b = 0.1000000000000000055511151\n"
     ]
    }
   ],
   "source": [
    "a = 0.1\n",
    "b = 1e-1\n",
    "print(f\"a = {a:.25}\") # \n",
    "print(\"b = {b:.25}\".format(b=b))"
   ]
  },
  {
   "cell_type": "markdown",
   "metadata": {},
   "source": [
    "Как вы могли заметить, что-то у нас не получилось ```0.1```. Вопрос почему?\n",
    "\n",
    "Вот более болезненные пример того же самого."
   ]
  },
  {
   "cell_type": "code",
   "execution_count": 14,
   "metadata": {},
   "outputs": [
    {
     "name": "stdout",
     "output_type": "stream",
     "text": [
      "WTF?!\n"
     ]
    }
   ],
   "source": [
    "if 0.1 + 0.2 == 0.3:\n",
    "    print('All right')\n",
    "else:\n",
    "    print('WTF?!')"
   ]
  },
  {
   "cell_type": "markdown",
   "metadata": {},
   "source": [
    "Но как быть то?"
   ]
  },
  {
   "cell_type": "code",
   "execution_count": 15,
   "metadata": {},
   "outputs": [
    {
     "name": "stdout",
     "output_type": "stream",
     "text": [
      "All right\n"
     ]
    }
   ],
   "source": [
    "EPS = 1e-5\n",
    "\n",
    "if abs((0.1 + 0.2) - 0.3) < EPS:\n",
    "    print('All right')\n",
    "else:\n",
    "    print('WTF?!')"
   ]
  },
  {
   "cell_type": "markdown",
   "metadata": {},
   "source": [
    "Вопрос, а как сравнивать на ```<```, ```<=```?"
   ]
  },
  {
   "cell_type": "markdown",
   "metadata": {},
   "source": [
    "Как вы уже, наверное, поняли. Float это боль редкостная. Идеи, как лучше?"
   ]
  },
  {
   "cell_type": "markdown",
   "metadata": {},
   "source": [
    "* попробуйте не использовать числа с плавающей точкой\n",
    "* не получилось? попробуйте еще раз!\n",
    "* может fraction?\n",
    "* не получилось, давайте попробуем приготовить float\n",
    "* точности не хватает, а времени и памяти вагон, посмотрите на decimal"
   ]
  },
  {
   "cell_type": "code",
   "execution_count": 16,
   "metadata": {},
   "outputs": [],
   "source": [
    "from fractions import Fraction\n",
    "from math import gcd # раньше gcd жил в fractions"
   ]
  },
  {
   "cell_type": "code",
   "execution_count": 17,
   "metadata": {},
   "outputs": [
    {
     "data": {
      "text/plain": [
       "3"
      ]
     },
     "execution_count": 17,
     "metadata": {},
     "output_type": "execute_result"
    }
   ],
   "source": [
    "gcd(57, 99)"
   ]
  },
  {
   "cell_type": "code",
   "execution_count": 18,
   "metadata": {},
   "outputs": [
    {
     "name": "stdout",
     "output_type": "stream",
     "text": [
      "a + b = 32/33\n"
     ]
    }
   ],
   "source": [
    "a = Fraction(1, 3)\n",
    "b = Fraction(7, 11)\n",
    "print(f\"a + b = {a + b}\")"
   ]
  },
  {
   "cell_type": "code",
   "execution_count": 19,
   "metadata": {},
   "outputs": [
    {
     "name": "stdout",
     "output_type": "stream",
     "text": [
      "All right\n"
     ]
    }
   ],
   "source": [
    "if Fraction(1, 10) + Fraction(2, 10) == Fraction(3, 10):\n",
    "    print('All right')\n",
    "else:\n",
    "    print('WTF?!')"
   ]
  },
  {
   "cell_type": "markdown",
   "metadata": {},
   "source": [
    "Fraction это вычисления в рациональных числах, они же дроби. Не очень быстро, зато 100% точно."
   ]
  },
  {
   "cell_type": "code",
   "execution_count": 20,
   "metadata": {},
   "outputs": [],
   "source": [
    "import decimal"
   ]
  },
  {
   "cell_type": "markdown",
   "metadata": {},
   "source": [
    "Угадаете в чем профит этой строчки?"
   ]
  },
  {
   "cell_type": "code",
   "execution_count": 21,
   "metadata": {},
   "outputs": [],
   "source": [
    "decimal.getcontext().prec = 10"
   ]
  },
  {
   "cell_type": "code",
   "execution_count": 22,
   "metadata": {},
   "outputs": [
    {
     "name": "stdout",
     "output_type": "stream",
     "text": [
      "2**0.5 = 1.4142135623730951454746218587388284504413604736328125000000000000000000000000000000000000000000000000\n"
     ]
    }
   ],
   "source": [
    "print(f'2**0.5 = {2**0.5:.100f}') # точность досточно быстро кончилась"
   ]
  },
  {
   "cell_type": "code",
   "execution_count": 23,
   "metadata": {},
   "outputs": [
    {
     "name": "stdout",
     "output_type": "stream",
     "text": [
      "1.414213562\n"
     ]
    }
   ],
   "source": [
    "print(decimal.Decimal(2).sqrt()) # каеф, да?"
   ]
  },
  {
   "cell_type": "code",
   "execution_count": 24,
   "metadata": {},
   "outputs": [
    {
     "name": "stdout",
     "output_type": "stream",
     "text": [
      "All right\n"
     ]
    }
   ],
   "source": [
    "decimal.getcontext().prec = 10\n",
    "\n",
    "D = decimal.Decimal\n",
    "a = D(1) / D(10)\n",
    "b = D(2) / D(10)\n",
    "c = D(3) / D(10)\n",
    "if a + b == c:\n",
    "    print('All right')\n",
    "else:\n",
    "    print('WTF?!')"
   ]
  },
  {
   "cell_type": "markdown",
   "metadata": {},
   "source": [
    "Спасение, класс, счастье?"
   ]
  },
  {
   "cell_type": "code",
   "execution_count": 25,
   "metadata": {},
   "outputs": [
    {
     "name": "stdout",
     "output_type": "stream",
     "text": [
      "All right\n"
     ]
    }
   ],
   "source": [
    "D = decimal.Decimal\n",
    "a = D(13) / D(179)\n",
    "b = D(2) / D(179)\n",
    "c = D(15) / D(179)\n",
    "if a + b == c:\n",
    "    print('All right')\n",
    "else:\n",
    "    print('WTF?!')"
   ]
  },
  {
   "cell_type": "code",
   "execution_count": 26,
   "metadata": {},
   "outputs": [
    {
     "name": "stdout",
     "output_type": "stream",
     "text": [
      "0.07262569832\n",
      "0.01117318436\n",
      "0.08379888268\n",
      "0.08379888268\n"
     ]
    }
   ],
   "source": [
    "print(a)\n",
    "print(b)\n",
    "print(a + b)\n",
    "print(c)"
   ]
  },
  {
   "cell_type": "markdown",
   "metadata": {},
   "source": [
    "### Операции со строками\n",
    "\n",
    "#### Срезы\n",
    "\n",
    "Срезы мы уже обсуждали. Что выведет следующий код."
   ]
  },
  {
   "cell_type": "code",
   "execution_count": 27,
   "metadata": {},
   "outputs": [
    {
     "name": "stdout",
     "output_type": "stream",
     "text": [
      "a[:] = test_string\n"
     ]
    }
   ],
   "source": [
    "a = \"test_string\"\n",
    "print(f'a[:] = {a[:]}')"
   ]
  },
  {
   "cell_type": "code",
   "execution_count": 28,
   "metadata": {},
   "outputs": [
    {
     "name": "stdout",
     "output_type": "stream",
     "text": [
      "a[::] = test_string\n"
     ]
    }
   ],
   "source": [
    "print(f'a[::] = {a[::]}')"
   ]
  },
  {
   "cell_type": "code",
   "execution_count": 29,
   "metadata": {},
   "outputs": [
    {
     "name": "stdout",
     "output_type": "stream",
     "text": [
      "a[4:] = _string\n"
     ]
    }
   ],
   "source": [
    "print(f'a[4:] = {a[4:]}')"
   ]
  },
  {
   "cell_type": "code",
   "execution_count": 30,
   "metadata": {},
   "outputs": [
    {
     "name": "stdout",
     "output_type": "stream",
     "text": [
      "a[:4] = test\n"
     ]
    }
   ],
   "source": [
    "print(f'a[:4] = {a[:4]}')"
   ]
  },
  {
   "cell_type": "code",
   "execution_count": 31,
   "metadata": {},
   "outputs": [
    {
     "name": "stdout",
     "output_type": "stream",
     "text": [
      "a[4:10000] = _string\n"
     ]
    }
   ],
   "source": [
    "print(f'a[4:10000] = {a[4:10000]}')"
   ]
  },
  {
   "cell_type": "code",
   "execution_count": 32,
   "metadata": {},
   "outputs": [
    {
     "name": "stdout",
     "output_type": "stream",
     "text": [
      "a[2:10] = st_strin\n"
     ]
    }
   ],
   "source": [
    "a = \"test_string\"\n",
    "print(f'a[2:10] = {a[2:10]}')"
   ]
  },
  {
   "cell_type": "code",
   "execution_count": 33,
   "metadata": {},
   "outputs": [
    {
     "name": "stdout",
     "output_type": "stream",
     "text": [
      "a[2:10:] = st_strin\n"
     ]
    }
   ],
   "source": [
    "print(f'a[2:10:] = {a[2:10:]}')"
   ]
  },
  {
   "cell_type": "code",
   "execution_count": 34,
   "metadata": {},
   "outputs": [
    {
     "name": "stdout",
     "output_type": "stream",
     "text": [
      "a[-1:0:-1] = gnirts_tse\n"
     ]
    }
   ],
   "source": [
    "print(f'a[-1:0:-1] = {a[-1:0:-1]}')"
   ]
  },
  {
   "cell_type": "markdown",
   "metadata": {},
   "source": [
    "#### find, rfind,  count, replace\n",
    "\n",
    "Вопрос, что делаю эти методы? Спросите у ```help```."
   ]
  },
  {
   "cell_type": "code",
   "execution_count": 35,
   "metadata": {},
   "outputs": [
    {
     "name": "stdout",
     "output_type": "stream",
     "text": [
      "Help on method_descriptor:\n",
      "\n",
      "find(...)\n",
      "    S.find(sub[, start[, end]]) -> int\n",
      "    \n",
      "    Return the lowest index in S where substring sub is found,\n",
      "    such that sub is contained within S[start:end].  Optional\n",
      "    arguments start and end are interpreted as in slice notation.\n",
      "    \n",
      "    Return -1 on failure.\n",
      "\n"
     ]
    }
   ],
   "source": [
    "help(str.find)"
   ]
  },
  {
   "cell_type": "code",
   "execution_count": 36,
   "metadata": {},
   "outputs": [
    {
     "name": "stdout",
     "output_type": "stream",
     "text": [
      "Help on built-in function rfind:\n",
      "\n",
      "rfind(...) method of builtins.str instance\n",
      "    S.rfind(sub[, start[, end]]) -> int\n",
      "    \n",
      "    Return the highest index in S where substring sub is found,\n",
      "    such that sub is contained within S[start:end].  Optional\n",
      "    arguments start and end are interpreted as in slice notation.\n",
      "    \n",
      "    Return -1 on failure.\n",
      "\n"
     ]
    }
   ],
   "source": [
    "help(\"\".rfind)"
   ]
  },
  {
   "cell_type": "code",
   "execution_count": 37,
   "metadata": {},
   "outputs": [
    {
     "name": "stdout",
     "output_type": "stream",
     "text": [
      "\"lolo\".find(\"o\") = 1\n",
      "\"lolo\".rfind(\"o\") = 3\n",
      "\"lolo\".rfind(\"a\") = -1\n"
     ]
    }
   ],
   "source": [
    "print(f'\"lolo\".find(\"o\") = {\"lolo\".find(\"o\")}')\n",
    "print(f'\"lolo\".rfind(\"o\") = {\"lolo\".rfind(\"o\")}')\n",
    "print(f'\"lolo\".rfind(\"a\") = {\"lolo\".rfind(\"a\")}')"
   ]
  },
  {
   "cell_type": "code",
   "execution_count": 38,
   "metadata": {},
   "outputs": [
    {
     "name": "stdout",
     "output_type": "stream",
     "text": [
      "\"lolo\".count(\"o\") = 2\n"
     ]
    }
   ],
   "source": [
    "print(f'\"lolo\".count(\"o\") = {\"lolo\".count(\"o\")}')"
   ]
  },
  {
   "cell_type": "code",
   "execution_count": 39,
   "metadata": {},
   "outputs": [
    {
     "name": "stdout",
     "output_type": "stream",
     "text": [
      "\"lolo\".replace(\"o\", \"a\") = lala\n"
     ]
    }
   ],
   "source": [
    "print(f'\"lolo\".replace(\"o\", \"a\") = {\"lolo\".replace(\"o\", \"a\")}')"
   ]
  },
  {
   "cell_type": "code",
   "execution_count": 40,
   "metadata": {},
   "outputs": [
    {
     "name": "stdout",
     "output_type": "stream",
     "text": [
      "\"lofoo_lo\".replace(\"lo\", \"buybobo_\") = buybobo_foo_buybobo_\n"
     ]
    }
   ],
   "source": [
    "print(f'\"lofoo_lo\".replace(\"lo\", \"buybobo_\") = {\"lofoo_lo\".replace(\"lo\", \"buybobo_\")}')"
   ]
  },
  {
   "cell_type": "code",
   "execution_count": 41,
   "metadata": {},
   "outputs": [
    {
     "name": "stdout",
     "output_type": "stream",
     "text": [
      "\"lofoo_lo\".count(\"lo\") = 2\n"
     ]
    }
   ],
   "source": [
    "print(f'\"lofoo_lo\".count(\"lo\") = {\"lofoo_lo\".count(\"lo\")}')"
   ]
  },
  {
   "cell_type": "code",
   "execution_count": 42,
   "metadata": {},
   "outputs": [
    {
     "name": "stdout",
     "output_type": "stream",
     "text": [
      "\"lolol\".count(\"lol\") = 1\n"
     ]
    }
   ],
   "source": [
    "# единственный интересный пример\n",
    "print(f'\"lolol\".count(\"lol\") = {\"lolol\".count(\"lol\")}')"
   ]
  },
  {
   "cell_type": "code",
   "execution_count": 43,
   "metadata": {},
   "outputs": [
    {
     "name": "stdout",
     "output_type": "stream",
     "text": [
      "\"lo\" in \"lol\" = True\n",
      "\"lo\" in \"lol\" = False\n"
     ]
    }
   ],
   "source": [
    "# еще я показывал такую штуку на семинаре\n",
    "print(f'\"lo\" in \"lol\" = {\"lo\" in \"lol\"}')\n",
    "print(f'\"lo\" in \"lol\" = {\"lo\" in \"lal\"}')"
   ]
  },
  {
   "cell_type": "markdown",
   "metadata": {},
   "source": [
    "### На этом ноутбук окончен, не забудьте глянуть в cpp_examples. Там бонус трек про double."
   ]
  }
 ],
 "metadata": {
  "kernelspec": {
   "display_name": "Python 3",
   "language": "python",
   "name": "python3"
  },
  "language_info": {
   "codemirror_mode": {
    "name": "ipython",
    "version": 3
   },
   "file_extension": ".py",
   "mimetype": "text/x-python",
   "name": "python",
   "nbconvert_exporter": "python",
   "pygments_lexer": "ipython3",
   "version": "3.7.0"
  }
 },
 "nbformat": 4,
 "nbformat_minor": 2
}
