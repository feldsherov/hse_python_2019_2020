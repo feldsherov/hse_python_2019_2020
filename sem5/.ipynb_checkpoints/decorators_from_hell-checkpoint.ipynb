{
 "cells": [
  {
   "cell_type": "markdown",
   "metadata": {},
   "source": [
    "## Декораторы возращаются!"
   ]
  },
  {
   "cell_type": "code",
   "execution_count": 23,
   "metadata": {},
   "outputs": [],
   "source": [
    "# Напишите декоратор, который вызывает функцию два раза\n",
    "def duplicate_decorator(func):\n",
    "    # your code here\n",
    "    pass\n",
    "    "
   ]
  },
  {
   "cell_type": "markdown",
   "metadata": {},
   "source": [
    "Я написал для вас тесты, проверьте, что все работает."
   ]
  },
  {
   "cell_type": "code",
   "execution_count": 24,
   "metadata": {},
   "outputs": [
    {
     "name": "stderr",
     "output_type": "stream",
     "text": [
      "test_simple (__main__.TestDuplicateDecorator) ... ERROR\n",
      "\n",
      "======================================================================\n",
      "ERROR: test_simple (__main__.TestDuplicateDecorator)\n",
      "----------------------------------------------------------------------\n",
      "Traceback (most recent call last):\n",
      "  File \"<ipython-input-24-8345bafc1b38>\", line 11, in test_simple\n",
      "    inner_func(2)\n",
      "TypeError: 'NoneType' object is not callable\n",
      "\n",
      "----------------------------------------------------------------------\n",
      "Ran 1 test in 0.003s\n",
      "\n",
      "FAILED (errors=1)\n"
     ]
    },
    {
     "data": {
      "text/plain": [
       "<unittest.main.TestProgram at 0x110e83390>"
      ]
     },
     "execution_count": 24,
     "metadata": {},
     "output_type": "execute_result"
    }
   ],
   "source": [
    "import unittest\n",
    "\n",
    "class TestDuplicateDecorator(unittest.TestCase):\n",
    "    def test_simple(self):\n",
    "        calls = list()\n",
    "        \n",
    "        @duplicate_decorator\n",
    "        def inner_func(arg):\n",
    "            calls.append(arg)\n",
    "        \n",
    "        inner_func(2)\n",
    "        self.assertEqual(calls, [2, 2])\n",
    "\n",
    "unittest.main(argv=['-m', 'TestDuplicateDecorator'], verbosity=2, exit=False)"
   ]
  },
  {
   "cell_type": "code",
   "execution_count": 25,
   "metadata": {},
   "outputs": [],
   "source": [
    "# Напишите декоратор, который вызывает n раз, где n параметр декоратора\n",
    "def call_n_times(n):\n",
    "    # your code here\n",
    "    pass"
   ]
  },
  {
   "cell_type": "markdown",
   "metadata": {},
   "source": [
    "Тут у нас тоже есть тесты."
   ]
  },
  {
   "cell_type": "code",
   "execution_count": 26,
   "metadata": {},
   "outputs": [
    {
     "name": "stderr",
     "output_type": "stream",
     "text": [
      "test_hard (__main__.TestCallNTimesDecorator) ... ERROR\n",
      "test_simple (__main__.TestCallNTimesDecorator) ... ERROR\n",
      "\n",
      "======================================================================\n",
      "ERROR: test_hard (__main__.TestCallNTimesDecorator)\n",
      "----------------------------------------------------------------------\n",
      "Traceback (most recent call last):\n",
      "  File \"<ipython-input-26-7fc958d24469>\", line 18, in test_hard\n",
      "    @call_n_times(n)\n",
      "TypeError: 'NoneType' object is not callable\n",
      "\n",
      "======================================================================\n",
      "ERROR: test_simple (__main__.TestCallNTimesDecorator)\n",
      "----------------------------------------------------------------------\n",
      "Traceback (most recent call last):\n",
      "  File \"<ipython-input-26-7fc958d24469>\", line 7, in test_simple\n",
      "    @call_n_times(2)\n",
      "TypeError: 'NoneType' object is not callable\n",
      "\n",
      "----------------------------------------------------------------------\n",
      "Ran 2 tests in 0.004s\n",
      "\n",
      "FAILED (errors=2)\n"
     ]
    },
    {
     "data": {
      "text/plain": [
       "<unittest.main.TestProgram at 0x110cf4860>"
      ]
     },
     "execution_count": 26,
     "metadata": {},
     "output_type": "execute_result"
    }
   ],
   "source": [
    "import unittest\n",
    "\n",
    "class TestCallNTimesDecorator(unittest.TestCase):\n",
    "    def test_simple(self):\n",
    "        calls = list()\n",
    "        \n",
    "        @call_n_times(2)\n",
    "        def inner_func(arg):\n",
    "            calls.append(arg)\n",
    "        \n",
    "        inner_func(2)\n",
    "        self.assertEqual(calls, [2, 2])\n",
    "\n",
    "    def test_hard(self):\n",
    "        calls = list()\n",
    "        n = 100\n",
    "        \n",
    "        @call_n_times(n)\n",
    "        def inner_func(arg):\n",
    "            calls.append(arg)\n",
    "        \n",
    "        inner_func(2)\n",
    "        self.assertEqual(calls, [2] * n)\n",
    "\n",
    "\n",
    "        \n",
    "unittest.main(argv=['-m', 'TestCallNTimesDecorator'], verbosity=2, exit=False)"
   ]
  },
  {
   "cell_type": "markdown",
   "metadata": {},
   "source": [
    "## Черная магия"
   ]
  },
  {
   "cell_type": "code",
   "execution_count": 27,
   "metadata": {},
   "outputs": [
    {
     "name": "stdout",
     "output_type": "stream",
     "text": [
      "hasattr(foo, '__call__') = True\n",
      "hasattr(foo, '__call__') = False\n"
     ]
    }
   ],
   "source": [
    "def foo():\n",
    "    print(\"Hi!\")\n",
    "    \n",
    "print(f\"hasattr(foo, '__call__') = {hasattr(foo, '__call__')}\")\n",
    "foo = 5\n",
    "print(f\"hasattr(foo, '__call__') = {hasattr(foo, '__call__')}\")"
   ]
  },
  {
   "cell_type": "markdown",
   "metadata": {},
   "source": [
    "Итого, проверив наличие аттрибута ```__call__```, можно понять передали ли вам объект, который можно вызвать, или просто что-то передали.\n",
    "\n",
    "Задача, использую это знание, напишите декоратор, который можно использовать с параметро и без."
   ]
  },
  {
   "cell_type": "code",
   "execution_count": 28,
   "metadata": {},
   "outputs": [],
   "source": [
    "# Улучшите call_n_times декоратор. Если декоратор был вызван без параметров, то нужно \n",
    "# вызывать функцию один раз, иначе n раз, где n параметр декоратора,\n",
    "def call_n_times_pro(arg):\n",
    "    # your code here\n",
    "    pass"
   ]
  },
  {
   "cell_type": "code",
   "execution_count": 29,
   "metadata": {},
   "outputs": [
    {
     "name": "stderr",
     "output_type": "stream",
     "text": [
      "test_hard (__main__.TestCallNTimesProDecorator) ... ERROR\n",
      "test_simple (__main__.TestCallNTimesProDecorator) ... ERROR\n",
      "test_without_args (__main__.TestCallNTimesProDecorator) ... ERROR\n",
      "\n",
      "======================================================================\n",
      "ERROR: test_hard (__main__.TestCallNTimesProDecorator)\n",
      "----------------------------------------------------------------------\n",
      "Traceback (most recent call last):\n",
      "  File \"<ipython-input-29-de2ab3e0c8cd>\", line 18, in test_hard\n",
      "    @call_n_times_pro(n)\n",
      "TypeError: 'NoneType' object is not callable\n",
      "\n",
      "======================================================================\n",
      "ERROR: test_simple (__main__.TestCallNTimesProDecorator)\n",
      "----------------------------------------------------------------------\n",
      "Traceback (most recent call last):\n",
      "  File \"<ipython-input-29-de2ab3e0c8cd>\", line 7, in test_simple\n",
      "    @call_n_times_pro(2)\n",
      "TypeError: 'NoneType' object is not callable\n",
      "\n",
      "======================================================================\n",
      "ERROR: test_without_args (__main__.TestCallNTimesProDecorator)\n",
      "----------------------------------------------------------------------\n",
      "Traceback (most recent call last):\n",
      "  File \"<ipython-input-29-de2ab3e0c8cd>\", line 33, in test_without_args\n",
      "    inner_func(2)\n",
      "TypeError: 'NoneType' object is not callable\n",
      "\n",
      "----------------------------------------------------------------------\n",
      "Ran 3 tests in 0.006s\n",
      "\n",
      "FAILED (errors=3)\n"
     ]
    },
    {
     "data": {
      "text/plain": [
       "<unittest.main.TestProgram at 0x110e869e8>"
      ]
     },
     "execution_count": 29,
     "metadata": {},
     "output_type": "execute_result"
    }
   ],
   "source": [
    "import unittest\n",
    "\n",
    "class TestCallNTimesProDecorator(unittest.TestCase):\n",
    "    def test_simple(self):\n",
    "        calls = list()\n",
    "        \n",
    "        @call_n_times_pro(2)\n",
    "        def inner_func(arg):\n",
    "            calls.append(arg)\n",
    "        \n",
    "        inner_func(2)\n",
    "        self.assertEqual(calls, [2, 2])\n",
    "\n",
    "    def test_hard(self):\n",
    "        calls = list()\n",
    "        n = 100\n",
    "        \n",
    "        @call_n_times_pro(n)\n",
    "        def inner_func(arg):\n",
    "            calls.append(arg)\n",
    "        \n",
    "        inner_func(2)\n",
    "        self.assertEqual(calls, [2] * n)\n",
    "\n",
    "    def test_without_args(self):\n",
    "        calls = list()\n",
    "        n = 100\n",
    "        \n",
    "        @call_n_times_pro\n",
    "        def inner_func(arg):\n",
    "            calls.append(arg)\n",
    "        \n",
    "        inner_func(2)\n",
    "        self.assertEqual(calls, [2])\n",
    "\n",
    "\n",
    "\n",
    "        \n",
    "unittest.main(argv=['-m', 'TestCallNTimesProDecorator'], verbosity=2, exit=False)"
   ]
  }
 ],
 "metadata": {
  "kernelspec": {
   "display_name": "Python 3",
   "language": "python",
   "name": "python3"
  },
  "language_info": {
   "codemirror_mode": {
    "name": "ipython",
    "version": 3
   },
   "file_extension": ".py",
   "mimetype": "text/x-python",
   "name": "python",
   "nbconvert_exporter": "python",
   "pygments_lexer": "ipython3",
   "version": "3.7.3"
  }
 },
 "nbformat": 4,
 "nbformat_minor": 2
}
