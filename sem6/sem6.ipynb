{
 "cells": [
  {
   "cell_type": "markdown",
   "metadata": {},
   "source": [
    "## Семинар 6\n",
    "\n",
    "Программа на сегодня:\n",
    "* Списки\n",
    "* Кортежи\n",
    "* Цикл фор, haha"
   ]
  },
  {
   "cell_type": "markdown",
   "metadata": {},
   "source": [
    "### Кортежи\n",
    "\n",
    "На самом деле мы уже сталкивались с кортежами, когда пытались научиться делали параллельное присваивание или возвращали пару из функции."
   ]
  },
  {
   "cell_type": "code",
   "execution_count": 2,
   "metadata": {},
   "outputs": [
    {
     "name": "stdout",
     "output_type": "stream",
     "text": [
      "type(return_two_values()) = <class 'tuple'>\n"
     ]
    }
   ],
   "source": [
    "def return_two_values():\n",
    "    return 1, 2\n",
    "\n",
    "print(f\"type(return_two_values()) = {type(return_two_values())}\")"
   ]
  },
  {
   "cell_type": "markdown",
   "metadata": {},
   "source": [
    "Функция type возвращает тип переменной, как легко догадаться."
   ]
  },
  {
   "cell_type": "code",
   "execution_count": 1,
   "metadata": {},
   "outputs": [
    {
     "name": "stdout",
     "output_type": "stream",
     "text": [
      "type(type) = <class 'type'>\n"
     ]
    }
   ],
   "source": [
    "print(f\"type(type) = {type(type)}\")"
   ]
  },
  {
   "cell_type": "markdown",
   "metadata": {},
   "source": [
    "Но это все мелочи."
   ]
  },
  {
   "cell_type": "code",
   "execution_count": 2,
   "metadata": {},
   "outputs": [
    {
     "name": "stdout",
     "output_type": "stream",
     "text": [
      "tuple('LoL') = ('L', 'o', 'L')\n"
     ]
    }
   ],
   "source": [
    "print(f\"tuple('LoL') = {tuple('LoL')}\")\n",
    "\n",
    "a, b = 1, 2 # это один кортеж присваивается другому. Как это проверить?"
   ]
  },
  {
   "cell_type": "code",
   "execution_count": 3,
   "metadata": {},
   "outputs": [
    {
     "name": "stdout",
     "output_type": "stream",
     "text": [
      "type(t) = <class 'tuple'>\n"
     ]
    }
   ],
   "source": [
    "t = 3, 4 # это тоже кортеж\n",
    "print(f\"type(t) = {type(t)}\")"
   ]
  },
  {
   "cell_type": "markdown",
   "metadata": {},
   "source": [
    "### Списки\n",
    "\n",
    "А список это последовательность произвjльных элементов.\n",
    "\n",
    "* Как работают списки?\n",
    "* Зачем нам и кортежи и списки, можно же было одним обойтись?"
   ]
  },
  {
   "cell_type": "code",
   "execution_count": 13,
   "metadata": {},
   "outputs": [
    {
     "ename": "TypeError",
     "evalue": "'tuple' object does not support item assignment",
     "output_type": "error",
     "traceback": [
      "\u001b[0;31m---------------------------------------------------------------------------\u001b[0m",
      "\u001b[0;31mTypeError\u001b[0m                                 Traceback (most recent call last)",
      "\u001b[0;32m<ipython-input-13-c74e908025b2>\u001b[0m in \u001b[0;36m<module>\u001b[0;34m\u001b[0m\n\u001b[1;32m      1\u001b[0m \u001b[0mt\u001b[0m \u001b[0;34m=\u001b[0m \u001b[0;36m3\u001b[0m\u001b[0;34m,\u001b[0m \u001b[0;36m4\u001b[0m\u001b[0;34m\u001b[0m\u001b[0m\n\u001b[0;32m----> 2\u001b[0;31m \u001b[0mt\u001b[0m\u001b[0;34m[\u001b[0m\u001b[0;36m0\u001b[0m\u001b[0;34m]\u001b[0m \u001b[0;34m=\u001b[0m \u001b[0;36m1\u001b[0m\u001b[0;34m\u001b[0m\u001b[0m\n\u001b[0m\u001b[1;32m      3\u001b[0m \u001b[0mprint\u001b[0m\u001b[0;34m(\u001b[0m\u001b[0mt\u001b[0m\u001b[0;34m)\u001b[0m\u001b[0;34m\u001b[0m\u001b[0m\n",
      "\u001b[0;31mTypeError\u001b[0m: 'tuple' object does not support item assignment"
     ]
    }
   ],
   "source": [
    "t = 3, 4\n",
    "t[0] = 1\n",
    "print(t)"
   ]
  },
  {
   "cell_type": "code",
   "execution_count": 14,
   "metadata": {},
   "outputs": [
    {
     "name": "stdout",
     "output_type": "stream",
     "text": [
      "[1, 4]\n"
     ]
    }
   ],
   "source": [
    "l = [3, 4]\n",
    "l[0] = 1\n",
    "print(l)"
   ]
  },
  {
   "cell_type": "markdown",
   "metadata": {},
   "source": [
    "Зачем нужны списки, более менее понятно.\n",
    "\n",
    "Боль списков. Она же классический вопрос на собеседованиях. И излюбленный баг всех питонистов."
   ]
  },
  {
   "cell_type": "code",
   "execution_count": 11,
   "metadata": {},
   "outputs": [
    {
     "name": "stdout",
     "output_type": "stream",
     "text": [
      "['Oh my God!', 2]\n"
     ]
    }
   ],
   "source": [
    "a = [1, 2]\n",
    "b = a\n",
    "\n",
    "a[0] = \"Oh my God!\"\n",
    "print(b)"
   ]
  },
  {
   "cell_type": "markdown",
   "metadata": {},
   "source": [
    "Вопрос, почему так?"
   ]
  },
  {
   "cell_type": "code",
   "execution_count": 12,
   "metadata": {},
   "outputs": [
    {
     "name": "stdout",
     "output_type": "stream",
     "text": [
      "list('LoL') = ['L', 'o', 'L']\n"
     ]
    }
   ],
   "source": [
    "print(f\"list('LoL') = {list('LoL')}\")"
   ]
  },
  {
   "cell_type": "markdown",
   "metadata": {},
   "source": [
    "Джентельменский набор работы со списками.\n",
    "1. Срезы\n",
    "2. count\n",
    "3. умножение, сложение"
   ]
  },
  {
   "cell_type": "code",
   "execution_count": 21,
   "metadata": {},
   "outputs": [
    {
     "name": "stdout",
     "output_type": "stream",
     "text": [
      "a[:] = [1, 2, 3, 4, 5, 6, 7, 2]\n",
      "a[3:] = [4, 5, 6, 7, 2]\n",
      "a[:5] = [1, 2, 3, 4, 5]\n",
      "a[-4:-2] = [5, 6]\n",
      "a[1:-2:2] = [2, 4, 6]\n",
      "a[::-1] = [2, 7, 6, 5, 4, 3, 2, 1]\n"
     ]
    }
   ],
   "source": [
    "a = [1, 2, 3, 4, 5, 6, 7, 2]\n",
    "\n",
    "print(f\"a[:] = {a[:]}\")\n",
    "print(f\"a[3:] = {a[3:]}\")\n",
    "print(f\"a[:5] = {a[:5]}\")\n",
    "print(f\"a[-4:-2] = {a[-4:-2]}\")\n",
    "print(f\"a[1:-2:2] = {a[1:-2:2]}\")\n",
    "print(f\"a[::-1] = {a[::-1]}\")"
   ]
  },
  {
   "cell_type": "code",
   "execution_count": 24,
   "metadata": {},
   "outputs": [
    {
     "name": "stdout",
     "output_type": "stream",
     "text": [
      "a.count(2) = 2\n",
      "a + a = [1, 2, 3, 4, 5, 6, 7, 2, 1, 2, 3, 4, 5, 6, 7, 2]\n",
      "a * 3 = [1, 2, 3, 4, 5, 6, 7, 2, 1, 2, 3, 4, 5, 6, 7, 2, 1, 2, 3, 4, 5, 6, 7, 2]\n"
     ]
    }
   ],
   "source": [
    "print(f\"a.count(2) = {a.count(2)}\")\n",
    "print(f\"a + a = {a + a}\")\n",
    "print(f\"a * 3 = {a * 3}\")"
   ]
  },
  {
   "cell_type": "markdown",
   "metadata": {},
   "source": [
    "Так. Тут все более менее понятно. Но не все так просто."
   ]
  },
  {
   "cell_type": "code",
   "execution_count": 50,
   "metadata": {},
   "outputs": [
    {
     "data": {
      "text/plain": [
       "['Oh my God!', 2, 3]"
      ]
     },
     "execution_count": 50,
     "metadata": {},
     "output_type": "execute_result"
    }
   ],
   "source": [
    "# помним, вот эту боль?\n",
    "a = [1, 2, 3]\n",
    "b = a\n",
    "a[0] = \"Oh my God!\"\n",
    "b"
   ]
  },
  {
   "cell_type": "markdown",
   "metadata": {},
   "source": [
    "Почему Бог покинул этот мир?"
   ]
  },
  {
   "cell_type": "code",
   "execution_count": 51,
   "metadata": {},
   "outputs": [
    {
     "data": {
      "text/plain": [
       "[1, 2, 3]"
      ]
     },
     "execution_count": 51,
     "metadata": {},
     "output_type": "execute_result"
    }
   ],
   "source": [
    "a = [1, 2, 3]\n",
    "b = a[:]\n",
    "a[0] = \"Oh my God!\"\n",
    "b"
   ]
  },
  {
   "cell_type": "markdown",
   "metadata": {},
   "source": [
    "Тут, надеюсь, разобрались.\n",
    "\n",
    "Захотели мы сделать двумерный список 10x10"
   ]
  },
  {
   "cell_type": "code",
   "execution_count": 52,
   "metadata": {},
   "outputs": [
    {
     "data": {
      "text/plain": [
       "[[0, 0, 0, 0, 0, 0, 0, 0, 0, 0],\n",
       " [0, 0, 0, 0, 0, 0, 0, 0, 0, 0],\n",
       " [0, 0, 0, 0, 0, 0, 0, 0, 0, 0],\n",
       " [0, 0, 0, 0, 0, 0, 0, 0, 0, 0],\n",
       " [0, 0, 0, 0, 0, 0, 0, 0, 0, 0],\n",
       " [0, 0, 0, 0, 0, 0, 0, 0, 0, 0],\n",
       " [0, 0, 0, 0, 0, 0, 0, 0, 0, 0],\n",
       " [0, 0, 0, 0, 0, 0, 0, 0, 0, 0],\n",
       " [0, 0, 0, 0, 0, 0, 0, 0, 0, 0],\n",
       " [0, 0, 0, 0, 0, 0, 0, 0, 0, 0]]"
      ]
     },
     "execution_count": 52,
     "metadata": {},
     "output_type": "execute_result"
    }
   ],
   "source": [
    "a = [[0] * 10] * 10\n",
    "a"
   ]
  },
  {
   "cell_type": "code",
   "execution_count": 53,
   "metadata": {},
   "outputs": [
    {
     "data": {
      "text/plain": [
       "[['BoBo', 0, 0, 0, 0, 0, 0, 0, 0, 0],\n",
       " ['BoBo', 0, 0, 0, 0, 0, 0, 0, 0, 0],\n",
       " ['BoBo', 0, 0, 0, 0, 0, 0, 0, 0, 0],\n",
       " ['BoBo', 0, 0, 0, 0, 0, 0, 0, 0, 0],\n",
       " ['BoBo', 0, 0, 0, 0, 0, 0, 0, 0, 0],\n",
       " ['BoBo', 0, 0, 0, 0, 0, 0, 0, 0, 0],\n",
       " ['BoBo', 0, 0, 0, 0, 0, 0, 0, 0, 0],\n",
       " ['BoBo', 0, 0, 0, 0, 0, 0, 0, 0, 0],\n",
       " ['BoBo', 0, 0, 0, 0, 0, 0, 0, 0, 0],\n",
       " ['BoBo', 0, 0, 0, 0, 0, 0, 0, 0, 0]]"
      ]
     },
     "execution_count": 53,
     "metadata": {},
     "output_type": "execute_result"
    }
   ],
   "source": [
    "a[0][0] = \"BoBo\"\n",
    "a"
   ]
  },
  {
   "cell_type": "markdown",
   "metadata": {},
   "source": [
    "Теперь погворим про copy."
   ]
  },
  {
   "cell_type": "code",
   "execution_count": 54,
   "metadata": {},
   "outputs": [],
   "source": [
    "import copy"
   ]
  },
  {
   "cell_type": "code",
   "execution_count": 55,
   "metadata": {},
   "outputs": [
    {
     "data": {
      "text/plain": [
       "[1, 2, 3]"
      ]
     },
     "execution_count": 55,
     "metadata": {},
     "output_type": "execute_result"
    }
   ],
   "source": [
    "a = [1, 2, 3]\n",
    "b = copy.copy(a)\n",
    "b"
   ]
  },
  {
   "cell_type": "code",
   "execution_count": 56,
   "metadata": {},
   "outputs": [
    {
     "data": {
      "text/plain": [
       "['BuBu', 2, 3]"
      ]
     },
     "execution_count": 56,
     "metadata": {},
     "output_type": "execute_result"
    }
   ],
   "source": [
    "b[0] = \"BuBu\"\n",
    "b"
   ]
  },
  {
   "cell_type": "code",
   "execution_count": 57,
   "metadata": {},
   "outputs": [
    {
     "data": {
      "text/plain": [
       "[1, 2, 3]"
      ]
     },
     "execution_count": 57,
     "metadata": {},
     "output_type": "execute_result"
    }
   ],
   "source": [
    "a"
   ]
  },
  {
   "cell_type": "markdown",
   "metadata": {},
   "source": [
    "Класс?? Счастье?\n",
    "\n",
    "Но только не для двумерных списков!"
   ]
  },
  {
   "cell_type": "code",
   "execution_count": 59,
   "metadata": {},
   "outputs": [
    {
     "data": {
      "text/plain": [
       "[[0, 0, 0, 0, 0, 0, 0, 0, 0, 0],\n",
       " [0, 0, 0, 0, 0, 0, 0, 0, 0, 0],\n",
       " [0, 0, 0, 0, 0, 0, 0, 0, 0, 0],\n",
       " [0, 0, 0, 0, 0, 0, 0, 0, 0, 0],\n",
       " [0, 0, 0, 0, 0, 0, 0, 0, 0, 0],\n",
       " [0, 0, 0, 0, 0, 0, 0, 0, 0, 0],\n",
       " [0, 0, 0, 0, 0, 0, 0, 0, 0, 0],\n",
       " [0, 0, 0, 0, 0, 0, 0, 0, 0, 0],\n",
       " [0, 0, 0, 0, 0, 0, 0, 0, 0, 0],\n",
       " [0, 0, 0, 0, 0, 0, 0, 0, 0, 0]]"
      ]
     },
     "execution_count": 59,
     "metadata": {},
     "output_type": "execute_result"
    }
   ],
   "source": [
    "a = [[0] * 10] * 10\n",
    "b = copy.copy(a)\n",
    "b"
   ]
  },
  {
   "cell_type": "code",
   "execution_count": 60,
   "metadata": {},
   "outputs": [],
   "source": [
    "b[0][0] = \"Nooooo!\""
   ]
  },
  {
   "cell_type": "code",
   "execution_count": 61,
   "metadata": {},
   "outputs": [
    {
     "data": {
      "text/plain": [
       "[['Nooooo!', 0, 0, 0, 0, 0, 0, 0, 0, 0],\n",
       " ['Nooooo!', 0, 0, 0, 0, 0, 0, 0, 0, 0],\n",
       " ['Nooooo!', 0, 0, 0, 0, 0, 0, 0, 0, 0],\n",
       " ['Nooooo!', 0, 0, 0, 0, 0, 0, 0, 0, 0],\n",
       " ['Nooooo!', 0, 0, 0, 0, 0, 0, 0, 0, 0],\n",
       " ['Nooooo!', 0, 0, 0, 0, 0, 0, 0, 0, 0],\n",
       " ['Nooooo!', 0, 0, 0, 0, 0, 0, 0, 0, 0],\n",
       " ['Nooooo!', 0, 0, 0, 0, 0, 0, 0, 0, 0],\n",
       " ['Nooooo!', 0, 0, 0, 0, 0, 0, 0, 0, 0],\n",
       " ['Nooooo!', 0, 0, 0, 0, 0, 0, 0, 0, 0]]"
      ]
     },
     "execution_count": 61,
     "metadata": {},
     "output_type": "execute_result"
    }
   ],
   "source": [
    "a"
   ]
  },
  {
   "cell_type": "code",
   "execution_count": 62,
   "metadata": {},
   "outputs": [
    {
     "data": {
      "text/plain": [
       "[['Nooooo!', 0, 0, 0, 0, 0, 0, 0, 0, 0],\n",
       " ['Nooooo!', 0, 0, 0, 0, 0, 0, 0, 0, 0],\n",
       " ['Nooooo!', 0, 0, 0, 0, 0, 0, 0, 0, 0],\n",
       " ['Nooooo!', 0, 0, 0, 0, 0, 0, 0, 0, 0],\n",
       " ['Nooooo!', 0, 0, 0, 0, 0, 0, 0, 0, 0],\n",
       " ['Nooooo!', 0, 0, 0, 0, 0, 0, 0, 0, 0],\n",
       " ['Nooooo!', 0, 0, 0, 0, 0, 0, 0, 0, 0],\n",
       " ['Nooooo!', 0, 0, 0, 0, 0, 0, 0, 0, 0],\n",
       " ['Nooooo!', 0, 0, 0, 0, 0, 0, 0, 0, 0],\n",
       " ['Nooooo!', 0, 0, 0, 0, 0, 0, 0, 0, 0]]"
      ]
     },
     "execution_count": 62,
     "metadata": {},
     "output_type": "execute_result"
    }
   ],
   "source": [
    "b = copy.deepcopy(a)\n",
    "b[0][0] = \"Yeeees!\"\n",
    "a"
   ]
  },
  {
   "cell_type": "code",
   "execution_count": 63,
   "metadata": {},
   "outputs": [
    {
     "data": {
      "text/plain": [
       "[['Yeeees!', 0, 0, 0, 0, 0, 0, 0, 0, 0],\n",
       " ['Yeeees!', 0, 0, 0, 0, 0, 0, 0, 0, 0],\n",
       " ['Yeeees!', 0, 0, 0, 0, 0, 0, 0, 0, 0],\n",
       " ['Yeeees!', 0, 0, 0, 0, 0, 0, 0, 0, 0],\n",
       " ['Yeeees!', 0, 0, 0, 0, 0, 0, 0, 0, 0],\n",
       " ['Yeeees!', 0, 0, 0, 0, 0, 0, 0, 0, 0],\n",
       " ['Yeeees!', 0, 0, 0, 0, 0, 0, 0, 0, 0],\n",
       " ['Yeeees!', 0, 0, 0, 0, 0, 0, 0, 0, 0],\n",
       " ['Yeeees!', 0, 0, 0, 0, 0, 0, 0, 0, 0],\n",
       " ['Yeeees!', 0, 0, 0, 0, 0, 0, 0, 0, 0]]"
      ]
     },
     "execution_count": 63,
     "metadata": {},
     "output_type": "execute_result"
    }
   ],
   "source": [
    "b"
   ]
  },
  {
   "cell_type": "markdown",
   "metadata": {},
   "source": [
    "### Цикл for"
   ]
  },
  {
   "cell_type": "code",
   "execution_count": 65,
   "metadata": {},
   "outputs": [
    {
     "name": "stdout",
     "output_type": "stream",
     "text": [
      "i**2 = 1\n",
      "i**2 = 4\n",
      "i**2 = 9\n"
     ]
    }
   ],
   "source": [
    "for i in 1, 2, 3:\n",
    "    print(f\"i**2 = {i**2}\")"
   ]
  },
  {
   "cell_type": "code",
   "execution_count": 66,
   "metadata": {},
   "outputs": [
    {
     "name": "stdout",
     "output_type": "stream",
     "text": [
      "i**2 = 1\n",
      "i**2 = 4\n",
      "i**2 = 9\n",
      "i**2 = 16\n"
     ]
    }
   ],
   "source": [
    "a = [1, 2, 3, 4]\n",
    "for i in a:\n",
    "    print(f\"i**2 = {i**2}\")"
   ]
  },
  {
   "cell_type": "code",
   "execution_count": 67,
   "metadata": {},
   "outputs": [
    {
     "name": "stdout",
     "output_type": "stream",
     "text": [
      "1\n",
      "3\n",
      "5\n",
      "7\n",
      "9\n"
     ]
    }
   ],
   "source": [
    "for i in range(1, 10, 2):\n",
    "    print(i)"
   ]
  },
  {
   "cell_type": "code",
   "execution_count": 68,
   "metadata": {},
   "outputs": [
    {
     "name": "stdout",
     "output_type": "stream",
     "text": [
      "All words are short!\n"
     ]
    }
   ],
   "source": [
    "words = [\"aaa\", \"bb\", \"cccc\"]\n",
    "\n",
    "for s in words:\n",
    "    if len(s) > 10:\n",
    "        break\n",
    "else:\n",
    "    print(\"All words are short!\")"
   ]
  },
  {
   "cell_type": "markdown",
   "metadata": {},
   "source": [
    "Теперь мы готовы первый раз собрать свой первый корректный двумерный список."
   ]
  },
  {
   "cell_type": "code",
   "execution_count": 72,
   "metadata": {},
   "outputs": [],
   "source": [
    "a = list() # это как str только list\n",
    "for i in range(10):\n",
    "    a.append([0] * 10) # супер полезная функция append, присмотритесь"
   ]
  },
  {
   "cell_type": "code",
   "execution_count": 71,
   "metadata": {},
   "outputs": [
    {
     "data": {
      "text/plain": [
       "[['Love', 0, 0, 0, 0, 0, 0, 0, 0, 0],\n",
       " [0, 0, 0, 0, 0, 0, 0, 0, 0, 0],\n",
       " [0, 0, 0, 0, 0, 0, 0, 0, 0, 0],\n",
       " [0, 0, 0, 0, 0, 0, 0, 0, 0, 0],\n",
       " [0, 0, 0, 0, 0, 0, 0, 0, 0, 0],\n",
       " [0, 0, 0, 0, 0, 0, 0, 0, 0, 0],\n",
       " [0, 0, 0, 0, 0, 0, 0, 0, 0, 0],\n",
       " [0, 0, 0, 0, 0, 0, 0, 0, 0, 0],\n",
       " [0, 0, 0, 0, 0, 0, 0, 0, 0, 0],\n",
       " [0, 0, 0, 0, 0, 0, 0, 0, 0, 0]]"
      ]
     },
     "execution_count": 71,
     "metadata": {},
     "output_type": "execute_result"
    }
   ],
   "source": [
    "a[0][0] = \"Love\"\n",
    "a # много любви не получилось"
   ]
  },
  {
   "cell_type": "markdown",
   "metadata": {},
   "source": [
    "### List comprehension"
   ]
  },
  {
   "cell_type": "code",
   "execution_count": 75,
   "metadata": {},
   "outputs": [
    {
     "data": {
      "text/plain": [
       "[0, 1, 2, 3, 4, 5, 6, 7, 8, 9]"
      ]
     },
     "execution_count": 75,
     "metadata": {},
     "output_type": "execute_result"
    }
   ],
   "source": [
    "a = [i for i in range(10)]\n",
    "a"
   ]
  },
  {
   "cell_type": "code",
   "execution_count": 78,
   "metadata": {},
   "outputs": [
    {
     "data": {
      "text/plain": [
       "[(0, 0),\n",
       " (0, 1),\n",
       " (0, 2),\n",
       " (0, 3),\n",
       " (0, 4),\n",
       " (1, 0),\n",
       " (1, 1),\n",
       " (1, 2),\n",
       " (1, 3),\n",
       " (2, 0),\n",
       " (2, 1),\n",
       " (2, 2),\n",
       " (3, 0),\n",
       " (3, 1),\n",
       " (4, 0)]"
      ]
     },
     "execution_count": 78,
     "metadata": {},
     "output_type": "execute_result"
    }
   ],
   "source": [
    "a = [(i, j) for i in range(5) for j in range(5) if i + j < 5] # класс?\n",
    "a"
   ]
  },
  {
   "cell_type": "markdown",
   "metadata": {},
   "source": [
    "### Боль феерическая"
   ]
  },
  {
   "cell_type": "code",
   "execution_count": 79,
   "metadata": {},
   "outputs": [
    {
     "data": {
      "text/plain": [
       "[[...], 2, 3]"
      ]
     },
     "execution_count": 79,
     "metadata": {},
     "output_type": "execute_result"
    }
   ],
   "source": [
    "a = [1, 2, 3]\n",
    "a[0] = a\n",
    "a"
   ]
  },
  {
   "cell_type": "markdown",
   "metadata": {},
   "source": [
    "### А теперь сами пишем код\n",
    "\n",
    "* Функция для поиска минимимума в списке\n",
    "* Функция, которая запикивает все сомнительные слова (боль, уныние, страдание)\n",
    "* Функция, которая сортирует список\n",
    "* Функция, которая вычисляет композицию функций"
   ]
  },
  {
   "cell_type": "markdown",
   "metadata": {},
   "source": [
    "### Муть которую я не рассказал\n",
    "* list.sort, sorted\n",
    "* reverse\n",
    "* ```(i for i in range(i))``` внимание на скобочки"
   ]
  }
 ],
 "metadata": {
  "kernelspec": {
   "display_name": "Python 3",
   "language": "python",
   "name": "python3"
  },
  "language_info": {
   "codemirror_mode": {
    "name": "ipython",
    "version": 3
   },
   "file_extension": ".py",
   "mimetype": "text/x-python",
   "name": "python",
   "nbconvert_exporter": "python",
   "pygments_lexer": "ipython3",
   "version": "3.7.0"
  }
 },
 "nbformat": 4,
 "nbformat_minor": 2
}
