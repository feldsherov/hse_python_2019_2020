{
 "cells": [
  {
   "cell_type": "markdown",
   "metadata": {},
   "source": [
    "## Семинар 9\n",
    "\n",
    "Введение в функциональное программирование.\n",
    "\n",
    "* Что за зверь?\n",
    "* Иммутабельность\n",
    "* Что есть про это в python.\n",
    "\n",
    "\n",
    "## Что за зверь?\n",
    "\n",
    "[Википедия отлично рассказывает](https://ru.wikipedia.org/wiki/Функциональное_программирование)\n",
    "\n",
    "* Бывают императивные языки, а бывают функциональные\n",
    "* Императивные -> автомат состояний, функциональные -> процесс вычисления функции\n",
    "* Как результат.\n",
    "    * Разделение функций на чистые и с сайд эффектами.\n",
    "    * Иммутабельность\n",
    "    * Ленивые вычисления\n",
    "    * Распараллеливаемоесть\n",
    "    * Доказательное программирование\n",
    "    \n",
    "Функциональный код описывает отношение между объектами, а императивный описывает шаги для получения результата, которые изменяют глобальный стейт.\n",
    "\n",
    "Заметим, что у функционального кода нет как такого стейта, который можно изменить. Из-за иммутабельности переменных. Хотя это все изотерика.\n",
    "\n",
    "Как я должен был сказать, в идеальном функциональном мире функции не имеют сайд эффектов, как следствие если функцию вызвать два раза то будет один и тот же результат.\n",
    "\n",
    "### Алло, а ввод вывод то куда?\n",
    "\n",
    "Ну вот как-то так... Либо костылить, либо жесть которую я так и не осилил раскурить.\n",
    "\n",
    "Для тех, кто хочет пожестче в это дело, есть такая история: http://learnyouahaskell.com/chapters\n",
    "Это супер классная книжка про чисто функциональный язык Haskell.\n",
    "\n",
    "### Теперь про Python\n",
    "\n",
    "* map\n",
    "* lambda\n",
    "* itertools\n",
    "    * chain\n",
    "    * accumulate\n",
    "* any, all\n",
    "* zip, enumerate\n",
    "* functools\n",
    "    * reduce\n",
    "* filter\n",
    "* list comprehesion"
   ]
  },
  {
   "cell_type": "code",
   "execution_count": 22,
   "metadata": {},
   "outputs": [
    {
     "data": {
      "text/plain": [
       "['mapped 1', 'mapped 2', 'mapped 3']"
      ]
     },
     "execution_count": 22,
     "metadata": {},
     "output_type": "execute_result"
    }
   ],
   "source": [
    "# map и lambda\n",
    "list(map(lambda a: f\"mapped {a}\", [1, 2, 3]))"
   ]
  },
  {
   "cell_type": "code",
   "execution_count": 23,
   "metadata": {},
   "outputs": [
    {
     "data": {
      "text/plain": [
       "[1, 2, 2, 3, 3, 3, 4]"
      ]
     },
     "execution_count": 23,
     "metadata": {},
     "output_type": "execute_result"
    }
   ],
   "source": [
    "# accumulate\n",
    "from itertools import accumulate\n",
    "list(accumulate([1, 2, 1, 3, 1, 3, 4], max))"
   ]
  },
  {
   "cell_type": "code",
   "execution_count": 24,
   "metadata": {},
   "outputs": [
    {
     "data": {
      "text/plain": [
       "[1, 3, 4, 7, 8, 11, 15]"
      ]
     },
     "execution_count": 24,
     "metadata": {},
     "output_type": "execute_result"
    }
   ],
   "source": [
    "list(accumulate([1, 2, 1, 3, 1, 3, 4], lambda x, y: x + y))"
   ]
  },
  {
   "cell_type": "code",
   "execution_count": 30,
   "metadata": {},
   "outputs": [
    {
     "data": {
      "text/plain": [
       "[1, 2, 2, 4, 1, 5]"
      ]
     },
     "execution_count": 30,
     "metadata": {},
     "output_type": "execute_result"
    }
   ],
   "source": [
    "from itertools import chain\n",
    "list(chain([1, 2], [2, 4], [1, 5]))"
   ]
  },
  {
   "cell_type": "markdown",
   "metadata": {},
   "source": [
    "В `itertools` еще много милых итериремых объектов."
   ]
  },
  {
   "cell_type": "code",
   "execution_count": 33,
   "metadata": {},
   "outputs": [
    {
     "data": {
      "text/plain": [
       "True"
      ]
     },
     "execution_count": 33,
     "metadata": {},
     "output_type": "execute_result"
    }
   ],
   "source": [
    "all([1, 2, True, \"lol\"])"
   ]
  },
  {
   "cell_type": "code",
   "execution_count": 35,
   "metadata": {},
   "outputs": [
    {
     "data": {
      "text/plain": [
       "False"
      ]
     },
     "execution_count": 35,
     "metadata": {},
     "output_type": "execute_result"
    }
   ],
   "source": [
    "all([1, 2, False, \"lol\"])"
   ]
  },
  {
   "cell_type": "code",
   "execution_count": 34,
   "metadata": {},
   "outputs": [
    {
     "data": {
      "text/plain": [
       "True"
      ]
     },
     "execution_count": 34,
     "metadata": {},
     "output_type": "execute_result"
    }
   ],
   "source": [
    "any([0, 2, \"\", True, \"lol\"])"
   ]
  },
  {
   "cell_type": "code",
   "execution_count": 36,
   "metadata": {},
   "outputs": [
    {
     "data": {
      "text/plain": [
       "False"
      ]
     },
     "execution_count": 36,
     "metadata": {},
     "output_type": "execute_result"
    }
   ],
   "source": [
    "any([0, \"\", False])"
   ]
  },
  {
   "cell_type": "code",
   "execution_count": 31,
   "metadata": {},
   "outputs": [
    {
     "data": {
      "text/plain": [
       "15"
      ]
     },
     "execution_count": 31,
     "metadata": {},
     "output_type": "execute_result"
    }
   ],
   "source": [
    "# reduce\n",
    "from functools import reduce\n",
    "reduce(lambda x, y: x + y, [1, 2, 1, 3, 1, 3, 4])"
   ]
  },
  {
   "cell_type": "markdown",
   "metadata": {},
   "source": [
    "В `functools` есть много милых штук. lru_cache, partial и wraps наиболее забавные по мне."
   ]
  },
  {
   "cell_type": "code",
   "execution_count": 39,
   "metadata": {},
   "outputs": [
    {
     "name": "stdout",
     "output_type": "stream",
     "text": [
      "a = 2, b = 1\n"
     ]
    }
   ],
   "source": [
    "from functools import partial\n",
    "\n",
    "def foo(a, b):\n",
    "    print(f\"a = {a}, b = {b}\")\n",
    "    \n",
    "pfoo = partial(foo, 2)\n",
    "pfoo(1)"
   ]
  },
  {
   "cell_type": "code",
   "execution_count": 43,
   "metadata": {},
   "outputs": [
    {
     "name": "stdout",
     "output_type": "stream",
     "text": [
      "a = 1\n",
      "a = 2\n",
      "a = 3\n"
     ]
    }
   ],
   "source": [
    "from functools import lru_cache\n",
    "\n",
    "\n",
    "@lru_cache(2)\n",
    "def foo(a):\n",
    "    print(f\"a = {a}\")\n",
    "    \n",
    "foo(1)\n",
    "foo(2)\n",
    "foo(1) # куда пропал этот вызов?\n",
    "foo(3)\n",
    "foo(1) # а почему тут появился?"
   ]
  },
  {
   "cell_type": "code",
   "execution_count": 50,
   "metadata": {},
   "outputs": [
    {
     "data": {
      "text/plain": [
       "[(1, 3), (2, 4)]"
      ]
     },
     "execution_count": 50,
     "metadata": {},
     "output_type": "execute_result"
    }
   ],
   "source": [
    "# zip\n",
    "list(zip([1, 2], [3, 4]))"
   ]
  },
  {
   "cell_type": "code",
   "execution_count": 51,
   "metadata": {},
   "outputs": [
    {
     "data": {
      "text/plain": [
       "[(1, 3, 5), (2, 4, 6)]"
      ]
     },
     "execution_count": 51,
     "metadata": {},
     "output_type": "execute_result"
    }
   ],
   "source": [
    "list(zip([1, 2], [3, 4], [5, 6]))"
   ]
  },
  {
   "cell_type": "code",
   "execution_count": 53,
   "metadata": {},
   "outputs": [
    {
     "data": {
      "text/plain": [
       "[(1, 3), (2, 4)]"
      ]
     },
     "execution_count": 53,
     "metadata": {},
     "output_type": "execute_result"
    }
   ],
   "source": [
    "list(zip([1, 2, 3, 4, 5, 6, 7, 8], [3, 4]))"
   ]
  },
  {
   "cell_type": "code",
   "execution_count": 55,
   "metadata": {},
   "outputs": [
    {
     "data": {
      "text/plain": [
       "[(0, 'a'), (1, 'b'), (2, 'c'), (3, 'd'), (4, 'e'), (5, 'f'), (6, 'g')]"
      ]
     },
     "execution_count": 55,
     "metadata": {},
     "output_type": "execute_result"
    }
   ],
   "source": [
    "list(enumerate([\"a\", \"b\", \"c\", \"d\", 'e', \"f\", \"g\"]))"
   ]
  },
  {
   "cell_type": "code",
   "execution_count": 32,
   "metadata": {},
   "outputs": [
    {
     "data": {
      "text/plain": [
       "[1, 4, 7]"
      ]
     },
     "execution_count": 32,
     "metadata": {},
     "output_type": "execute_result"
    }
   ],
   "source": [
    "# filter\n",
    "list(filter(lambda a: a % 3 == 1, [1, 2, 3, 4, 5, 6, 7]))"
   ]
  },
  {
   "cell_type": "code",
   "execution_count": 56,
   "metadata": {},
   "outputs": [],
   "source": [
    "# и стандартные list comprehesions, вы их должны знать"
   ]
  },
  {
   "cell_type": "markdown",
   "metadata": {},
   "source": [
    "### Spinoff про yield"
   ]
  },
  {
   "cell_type": "code",
   "execution_count": 76,
   "metadata": {},
   "outputs": [
    {
     "name": "stdout",
     "output_type": "stream",
     "text": [
      "0\n",
      "1\n",
      "4\n",
      "9\n",
      "16\n",
      "25\n",
      "36\n",
      "49\n",
      "64\n",
      "81\n"
     ]
    }
   ],
   "source": [
    "def generator(n):\n",
    "    for i in range(n):\n",
    "        yield i**2\n",
    "\n",
    "for i in generator(10):\n",
    "    print(i)"
   ]
  },
  {
   "cell_type": "markdown",
   "metadata": {},
   "source": [
    "### Класс?"
   ]
  },
  {
   "cell_type": "markdown",
   "metadata": {},
   "source": [
    "Теперь пришла пора пописать код. Одно последнее замечание. Как правило все задачки, можно решить используя только лямбды. Это забавное упражнение, но не надо так делать, наверное.\n",
    "\n",
    "И все задачки на функциональщину должны быть однострочные. Это не позволит вам создавать переменные, которых нет в функциональных языках."
   ]
  },
  {
   "cell_type": "code",
   "execution_count": 77,
   "metadata": {},
   "outputs": [],
   "source": [
    "# напишите однострочную функцию, которая создает из листа треугольный лист\n",
    "# то есть из листа [1, 2, 3], создаст лист [[1], [1, 2], [1, 2, 3]]\n",
    "def to_triangle_list(l):\n",
    "    return []"
   ]
  },
  {
   "cell_type": "code",
   "execution_count": 60,
   "metadata": {},
   "outputs": [],
   "source": [
    "# тут тесты, пожалуйста"
   ]
  },
  {
   "cell_type": "code",
   "execution_count": 62,
   "metadata": {},
   "outputs": [
    {
     "name": "stdout",
     "output_type": "stream",
     "text": [
      "123\n",
      "132\n"
     ]
    }
   ],
   "source": [
    "# напишите в одну строчку, то есть избавьтесь от переменной\n",
    "\n",
    "s = input()\n",
    "print(s[::2] + s[1::2])"
   ]
  },
  {
   "cell_type": "code",
   "execution_count": 63,
   "metadata": {},
   "outputs": [],
   "source": [
    "# тут нужно написать решение"
   ]
  },
  {
   "cell_type": "code",
   "execution_count": 65,
   "metadata": {},
   "outputs": [],
   "source": [
    "# Найдите произведение элементов листа в одну строчку\n",
    "\n",
    "def product(l):\n",
    "    return 1"
   ]
  },
  {
   "cell_type": "code",
   "execution_count": 69,
   "metadata": {},
   "outputs": [],
   "source": [
    "# Найдите сумму квадратов элемента листа в одну строчку\n",
    "\n",
    "def sum_of_squares(l):\n",
    "    return 0"
   ]
  },
  {
   "cell_type": "code",
   "execution_count": 73,
   "metadata": {},
   "outputs": [],
   "source": [
    "# Раскурите вот этот код и напишите однострочную реализацию функции sorted. \n",
    "# Конечно стандартной функцией sorted пользоваться нельзя\n",
    "qsort = lambda l : l if len(l)<=1 else qsort([x for x in l[1:] if x < l[0]]) + [l[0]] + qsort([x for x in l[1:] if x >= l[0]])\n",
    "\n",
    "def one_line_sorted(l):\n",
    "    return l"
   ]
  },
  {
   "cell_type": "code",
   "execution_count": 70,
   "metadata": {},
   "outputs": [],
   "source": [
    "# Найдите квадрат Евклидова расстояния между двумя n-мерными векторами.\n",
    "# (Это сумма квадратов разностей). [1, 2], [3, 4] -> (1 - 3) ** 2 + (2 - 4)**2 = 2\n",
    "def sum_of_squares(l):\n",
    "    return 1"
   ]
  },
  {
   "cell_type": "code",
   "execution_count": 66,
   "metadata": {},
   "outputs": [],
   "source": [
    "# Вычислите факториал в одну строчку\n",
    "def factorial(n):\n",
    "    return 1"
   ]
  },
  {
   "cell_type": "code",
   "execution_count": 68,
   "metadata": {},
   "outputs": [],
   "source": [
    "# вычислите число сочетаний из n по k в одну строчку\n",
    "def binomial(n, k):\n",
    "    return 1"
   ]
  },
  {
   "cell_type": "code",
   "execution_count": 75,
   "metadata": {},
   "outputs": [],
   "source": [
    "# проверьте число на простоту в одну строку\n",
    "\n",
    "def is_prime(n):\n",
    "    return False"
   ]
  },
  {
   "cell_type": "markdown",
   "metadata": {},
   "source": [
    "На этом упражнения на функциональное программирование кончились, давайте по делу попишем.\n",
    "\n",
    "Напишите свой декоратор cache, который работает как lru_cache, но никогда ничего не вытесняет из кэша. forzen_set и frozen_dict могут помочь."
   ]
  },
  {
   "cell_type": "code",
   "execution_count": 57,
   "metadata": {},
   "outputs": [],
   "source": [
    "def cache(f):\n",
    "    return f"
   ]
  },
  {
   "cell_type": "code",
   "execution_count": 58,
   "metadata": {},
   "outputs": [],
   "source": [
    "# напишите здесь тесты"
   ]
  },
  {
   "cell_type": "markdown",
   "metadata": {},
   "source": [
    "Напишите генератор, который будет генрировать все перестановки размера n. Используйте yield для этой истории.\n",
    "\n",
    "И тут очень много граблей с copy, будьте аккуратны!"
   ]
  },
  {
   "cell_type": "code",
   "execution_count": 99,
   "metadata": {},
   "outputs": [],
   "source": [
    "import copy\n",
    "def permutations(n, start=None, free=None):\n",
    "    yield []"
   ]
  },
  {
   "cell_type": "code",
   "execution_count": 100,
   "metadata": {},
   "outputs": [
    {
     "data": {
      "text/plain": [
       "[[]]"
      ]
     },
     "execution_count": 100,
     "metadata": {},
     "output_type": "execute_result"
    }
   ],
   "source": [
    "list(permutations(3))\n",
    "\n",
    "# напишите здесь тесты"
   ]
  }
 ],
 "metadata": {
  "kernelspec": {
   "display_name": "Python 3",
   "language": "python",
   "name": "python3"
  },
  "language_info": {
   "codemirror_mode": {
    "name": "ipython",
    "version": 3
   },
   "file_extension": ".py",
   "mimetype": "text/x-python",
   "name": "python",
   "nbconvert_exporter": "python",
   "pygments_lexer": "ipython3",
   "version": "3.7.3"
  }
 },
 "nbformat": 4,
 "nbformat_minor": 2
}
