{
 "cells": [
  {
   "cell_type": "markdown",
   "metadata": {},
   "source": [
    "## Семинар 4\n",
    "\n",
    "Программа минимум на сегодня\n",
    "* функции\n",
    "* рекурсия"
   ]
  },
  {
   "cell_type": "code",
   "execution_count": 1,
   "metadata": {},
   "outputs": [],
   "source": [
    "def factorial(n):\n",
    "    if n == 0:\n",
    "        return 1\n",
    "    return factorial(n - 1) * n"
   ]
  },
  {
   "cell_type": "code",
   "execution_count": 2,
   "metadata": {},
   "outputs": [
    {
     "name": "stdout",
     "output_type": "stream",
     "text": [
      "factorial(5) == 120\n"
     ]
    }
   ],
   "source": [
    "print(f\"factorial(5) == {factorial(5)}\")"
   ]
  },
  {
   "cell_type": "markdown",
   "metadata": {},
   "source": [
    "Рекурсия была, функция была. Программа минимум выполнена, расходимся!"
   ]
  },
  {
   "cell_type": "code",
   "execution_count": 3,
   "metadata": {},
   "outputs": [],
   "source": [
    "def binomial(n, k):\n",
    "    \"\"\"Calculate binomial coeficient\"\"\"\n",
    "    # please implement this function\n",
    "    return factorial(n) // factorial(k) // factorial(n - k)"
   ]
  },
  {
   "cell_type": "markdown",
   "metadata": {},
   "source": [
    "Вы уже большие давайте научимся писать тесты!!!"
   ]
  },
  {
   "cell_type": "code",
   "execution_count": 4,
   "metadata": {},
   "outputs": [
    {
     "name": "stderr",
     "output_type": "stream",
     "text": [
      "test_cornecases (__main__.TestBinomial) ... ok\n",
      "test_large (__main__.TestBinomial) ... ok\n",
      "test_simple (__main__.TestBinomial) ... ok\n",
      "\n",
      "----------------------------------------------------------------------\n",
      "Ran 3 tests in 0.002s\n",
      "\n",
      "OK\n"
     ]
    },
    {
     "data": {
      "text/plain": [
       "<unittest.main.TestProgram at 0x10f6d3a90>"
      ]
     },
     "execution_count": 4,
     "metadata": {},
     "output_type": "execute_result"
    }
   ],
   "source": [
    "import unittest\n",
    "\n",
    "#  Тут классы, все страшно, непонятно, на самом деле нет.\n",
    "#  https://docs.python.org/3/library/unittest.html#command-line-interface\n",
    "#  https://docs.python.org/3/library/unittest.html#command-line-interface\n",
    "class TestBinomial(unittest.TestCase):\n",
    "    def test_cornecases(self):\n",
    "        self.assertEqual(binomial(1, 1), 1)\n",
    "        self.assertEqual(binomial(1, 0), 1)\n",
    "        self.assertEqual(binomial(2, 2), 1)\n",
    "        self.assertEqual(binomial(2, 0), 1)\n",
    "        \n",
    "    def test_simple(self):\n",
    "        self.assertEqual(binomial(3, 0), 1)\n",
    "        self.assertEqual(binomial(3, 1), 3)\n",
    "        self.assertEqual(binomial(3, 2), 3)\n",
    "        self.assertEqual(binomial(3, 3), 1)\n",
    "        \n",
    "    def test_large(self):\n",
    "        self.assertEqual(binomial(179, 57), 278879298722207640447386651738273343486610700400)\n",
    "        self.assertEqual(binomial(10, 5), 252)\n",
    "        self.assertEqual(binomial(10, 2), 45)\n",
    "\n",
    "\n",
    "\n",
    "unittest.main(argv=['-m', 'TestBinomial'], verbosity=2, exit=False)"
   ]
  },
  {
   "cell_type": "markdown",
   "metadata": {},
   "source": [
    "### Устроили тут, функциональщину....\n",
    "\n",
    "Коль уж мы начали говорить про функции, давайте проговорим про \"High order functions\", они же функции высшего порядка! Есть идеи, что это."
   ]
  },
  {
   "cell_type": "code",
   "execution_count": 5,
   "metadata": {},
   "outputs": [
    {
     "name": "stdout",
     "output_type": "stream",
     "text": [
      "Big brother is watching you: I am free function. My aim is love\n"
     ]
    }
   ],
   "source": [
    "def high_order_func(some_usual_func, big_brother_action=\"watching\"):\n",
    "    def wrapper(*args, **kwargs): # Божечки, кошечки, что за *args, **kwargs.\n",
    "        print(f\"Big brother is watching you: \", end=\"\")\n",
    "        some_usual_func(*args, **kwargs)\n",
    "    return wrapper\n",
    "\n",
    "def usual_func(text):\n",
    "    print(f\"I am free function. My aim is {text}\")\n",
    "    \n",
    "result_func = high_order_func(usual_func)\n",
    "result_func(\"love\")"
   ]
  },
  {
   "cell_type": "code",
   "execution_count": 6,
   "metadata": {},
   "outputs": [
    {
     "name": "stdout",
     "output_type": "stream",
     "text": [
      "a=1, b=2, c=3\n",
      "1 2 3\n"
     ]
    }
   ],
   "source": [
    "a = [1, 2, 3] #  эт список, знакомьтесь\n",
    "def baz(a, b, c):\n",
    "    print(f\"a={a}, b={b}, c={c}\")\n",
    "\n",
    "baz(*a)\n",
    "print(*a)"
   ]
  },
  {
   "cell_type": "code",
   "execution_count": 7,
   "metadata": {},
   "outputs": [
    {
     "data": {
      "text/plain": [
       "3"
      ]
     },
     "execution_count": 7,
     "metadata": {},
     "output_type": "execute_result"
    }
   ],
   "source": [
    "mydict = {\"a\": 1, \"b\": 2} #  эт дикт, знаете, наверное\n",
    "def foo(a, b):\n",
    "    return a + b\n",
    "\n",
    "foo(**mydict)"
   ]
  },
  {
   "cell_type": "markdown",
   "metadata": {},
   "source": [
    "```*args``` и ```**kwargs``` созданы, чтобы получать параметры и именованные параметры, про количество которых вы заранее ничего не знаете. Как вы видите, очень нужная штука для декораторов."
   ]
  },
  {
   "cell_type": "markdown",
   "metadata": {},
   "source": [
    "Жуть, да? Идеи зачем нужна такая конструкция?"
   ]
  },
  {
   "cell_type": "code",
   "execution_count": 8,
   "metadata": {},
   "outputs": [
    {
     "name": "stdout",
     "output_type": "stream",
     "text": [
      "Big brother is hating you: I am free function 2. My aim is piece\n"
     ]
    }
   ],
   "source": [
    "#  Больше документации про функциональное счастье \n",
    "#  https://docs.python.org/3.7/library/functools.html\n",
    "\n",
    "def decorator_factory(big_brother_action=\"watching\"): #  Это же factory, Слава, прекрати!\n",
    "    def decorator(function):\n",
    "        def wrapper(*args, **kwargs):\n",
    "            print(f\"Big brother is {big_brother_action} you: \", end=\"\")\n",
    "            return function(*args, **kwargs)\n",
    "        return wrapper\n",
    "    return decorator\n",
    "\n",
    "\n",
    "@decorator_factory(\"hating\")\n",
    "def usual_func2(text):\n",
    "    print(f\"I am free function 2. My aim is {text}\")\n",
    "\n",
    "usual_func2(\"piece\")"
   ]
  },
  {
   "cell_type": "code",
   "execution_count": 9,
   "metadata": {},
   "outputs": [],
   "source": [
    "import functools\n",
    "\n",
    "@functools.lru_cache(3) #  LRU means least recently used\n",
    "def some_long_func(a):\n",
    "    print(f\"I was actually called. With a={a}\")\n",
    "    return a"
   ]
  },
  {
   "cell_type": "code",
   "execution_count": 10,
   "metadata": {},
   "outputs": [
    {
     "name": "stdout",
     "output_type": "stream",
     "text": [
      "I was actually called. With a=1\n",
      "call some_long_func(1)=1\n",
      "call some_long_func(1)=1\n",
      "I was actually called. With a=2\n",
      "call some_long_func(2)=2\n",
      "I was actually called. With a=3\n",
      "call some_long_func(3)=3\n",
      "I was actually called. With a=4\n",
      "call some_long_func(4)=4\n",
      "I was actually called. With a=1\n",
      "call some_long_func(1)=1\n"
     ]
    }
   ],
   "source": [
    "print(f\"call some_long_func(1)={some_long_func(1)}\")\n",
    "print(f\"call some_long_func(1)={some_long_func(1)}\")\n",
    "print(f\"call some_long_func(2)={some_long_func(2)}\")\n",
    "print(f\"call some_long_func(3)={some_long_func(3)}\")\n",
    "print(f\"call some_long_func(4)={some_long_func(4)}\")\n",
    "print(f\"call some_long_func(1)={some_long_func(1)}\")"
   ]
  },
  {
   "cell_type": "markdown",
   "metadata": {},
   "source": [
    "### А теперь давайте по делу"
   ]
  },
  {
   "cell_type": "markdown",
   "metadata": {},
   "source": [
    "Почему функции? Примеры, зачем, какие плюсы?"
   ]
  },
  {
   "cell_type": "code",
   "execution_count": 11,
   "metadata": {},
   "outputs": [],
   "source": [
    "import requests\n",
    "\n",
    "def say_hello_to_ya():\n",
    "    \"\"\"\n",
    "    Just sends GET request to ya.ru\n",
    "    returns: response payload \n",
    "    \"\"\" \n",
    "    #  doc string, пишите doc стринги для своих функций\n",
    "    #  https://www.python.org/dev/peps/pep-0257/\n",
    "\n",
    "    r = requests.get(\"https://ya.ru\",)\n",
    "    return r.text"
   ]
  },
  {
   "cell_type": "code",
   "execution_count": 12,
   "metadata": {},
   "outputs": [
    {
     "data": {
      "text/plain": [
       "'<!DOCTYPE html><html class=\"i-ua_js_no i-ua_css_standart i-ua_browser_unknown i-ua_browser_desktop i-ua_platform_other\" lang=\"ru\"><head xmlns:og=\"http://ogp.me/ns#\"><meta http-equiv=Content-Type content=\"text/html;charset=UTF-8\"><meta http-equiv=\"X-UA-Compatible\" content=\"IE=edge\"><title>Яндекс</title><link rel=\"shortcut icon\" href=\"//yastatic.net/iconostasis/_/8lFaTHLDzmsEZz-5XaQg9iTWZGE.png\"><link rel=\"apple-touch-icon\" href=\"//yastatic.net/iconostasis/_/5mdPq4V7ghRgzBvMkCaTzd2fjYg.png\" sizes=\"76x76\"><link rel=\"apple-touch-icon\" href=\"//yastatic.net/iconostasis/_/s-hGoCQMUosTziuARBks08IUxmc.png\" sizes=\"120x120\"><link rel=\"apple-touch-icon\" href=\"//yastatic.net/iconostasis/_/KnU823iWwj_vrPra7x9aQ-4yjRw.png\" sizes=\"152x152\"><link rel=\"apple-touch-icon\" href=\"//yastatic.net/iconostasis/_/wT9gfGZZ80sP0VsoR6dgDyXJf2Y.png\" sizes=\"180x180\"><link rel=\"alternate\" type=\"application/rss+xml\" title=\"Новости Яндекса\" href=\"https://yandex.ru/company/press_releases/news.rss\"><link rel=\"alternate\" type=\"application/rss+xml\" title=\"Блог Яндекса\" href=\"https://yandex.ru/blog/company/rss\"><link rel=\"search\" href=\"//yandex.ru/opensearch.xml\" title=\"Яндекс\" type=\"application/opensearchdescription+xml\"><meta name=\"description\" content=\"Яндекс - поисковая система и интернет-портал. Поиск по интернету и другие сервисы: карты и навигатор, транспорт и такси, погода, новости, музыка, телепрограмма, переводчик, покупки в интернете. Бесплатная электронная почта и облачное хранилище. Найдется всё!\"><meta property=\"og:title\" content=\"Яндекс\"><meta property=\"og:type\" content=\"website\"><meta property=\"og:image\" content=\"//yastatic.net/s3/home/logos/share/share-logo_ru.png\"><meta property=\"og:site_name\" content=\"Яндекс\"><meta property=\"og:locale\" content=\"ru_RU\"><meta property=\"og:description\" content=\"Найдётся всё\"><script>!function(){var e=[\"property \\'items\\' of undefined\",\"NS_ERROR\",\"Error loading script\",new RegExp(\"Undefined variable: (BEM|pl|AwapsJsonAPI|getcss|\\\\\\\\$|Lego)\"),new RegExp(\"(BEM|pl|AwapsJsonAPI|getcss|\\\\\\\\$|Lego) is not defined\"),/fc_getErrors|fc_read|fc_write/],n=0,t=function(t,s,r,i,o){var a,c,f=o&&o.stack,d=\"clienterror\";if(t){if(\"string\"!=typeof t)if(t.message)t=\"event.message: \"+t.message;else if(t.msg)t=\"event.msg: \"+t.msg;else if(t.stack)t=\"event.stack: \"+t.stack;else{if(!t.src)return;t=\"event.src: \"+t.src}for(c=0;c<e.length;++c)if(\"[object RegExp]\"===Object.prototype.toString.call(e[c])){if(e[c].test(t))return}else if(t.indexOf(e[c])>-1)return;if(!(t.indexOf(\"TypeError: undefined is not a function\")>-1&&s&&\"undefined\"===String(s)||s&&s.indexOf(\"suggest-ya.cgi\")>-1||f&&f.indexOf(\"__flash__removeCallback\")>-1||(e.push(t),++n>=10))){var g={},l=[];if(t.indexOf(\"Script error\")>-1)d=\"scripterror\",a=encodeURIComponent(\"[unknown][client_logger]\");else{for(c in s&&\"undefined\"!==String(s)&&(g.file=s),r&&(g.line=r),i&&(g.column=i),f&&(g.stack=f.split(\"\\\\n\").slice(1).join(\"->\").replace(/https:\\\\/\\\\/([^.]+\\\\.)?yastatic.net\\\\/s3\\\\/home-static/,\"$1\")),g)g.hasOwnProperty(c)&&l.push(c+\":\"+g[c]);t=t.substr(0,2048),a=encodeURIComponent(t)+\"&trace=\"+encodeURIComponent(l.join(\":\").replace(/\\\\s+/g,\" \"))}a&&((new Image).src=\"/instant/log?type=\"+d+\"&showid=1568929647.97939.160468.153012&message=\"+a)}}};window.onerror=t,\"Promise\"in window&&\"addEventListener\"in window&&window.addEventListener(\"unhandledrejection\",function(e){var n=e.reason;if(n)if(n.stack&&n.message)t(\"Unhandled rejection: \"+n.message,null,null,null,n);else{var s=String(n);if(\"[object Event]\"===s)s=\"event.type: \"+n.type+(n.target&&n.target.src?\" target.src: \"+n.target.src:\"\")+(n.message?\" event.message: \"+n.message:\"\");else if(\"[object Object]\"===s)try{s=JSON.stringify(n)}catch(r){s=\"unknown object\"}t(\"Unhandled rejection: \"+s)}})}();</script><script>!function(e,t){if(e.Ya=e.Ya||{},Ya.Rum)throw new Error(\"Rum: interface is already defined\");var n=e.performance,i=n&&n.timing&&n.timing.navigationStart||Ya.startPageLoad||+new Date,s=e.requestAnimationFrame;Ya.Rum={enabled:!!n,vsStart:document.visibilityState,vsChanged:!1,_defTimes:[],_defRes:[],_deltaMarks:{},_settings:{},_vars:{},init:function(e,t){this._settings=e,this._vars=t},getTime:n&&n.now?function(){return n.now()}:Date.now?function(){return Date.now()-i}:function(){return new Date-i},time:function(e){this._deltaMarks[e]=[this.getTime()]},timeEnd:function(e,t){var n=this._deltaMarks[e];n&&0!==n.length&&n.push(this.getTime(),t)},sendTimeMark:function(e,t,n,i){void 0===t&&(t=this.getTime()),this._defTimes.push([e,t,i]),this.mark(e,t)},sendResTiming:function(e,t){this._defRes.push([e,t])},sendRaf:function(e){var t=this.getSetting(\"forceFirstPaintTimeSending\");if(s&&(t||!this.isVisibilityChanged())){var n=this,i=\"2616.\"+e;s(function(){!t&&n.isVisibilityChanged()||(n.sendTimeMark(i+\".205\"),s(function(){!t&&n.isVisibilityChanged()||n.sendTimeMark(i+\".1928\")}))})}},isVisibilityChanged:function(){return this.vsStart&&(\"visible\"!==this.vsStart||this.vsChanged)},mark:n&&n.mark?function(e,t){n.mark(e+(t?\": \"+t:\"\"))}:function(){},getSetting:function(e){var t=this._settings[e];return null===t?null:t||\"\"}},document.addEventListener&&document.addEventListener(\"visibilitychange\",function a(){Ya.Rum.vsChanged=!0,document.removeEventListener(\"visibilitychange\",a)})}(window),function(){\"use strict\";Ya.Rum.observeDOMNode=window.IntersectionObserver?function(e,t,n){var i=this,s=Ya.Rum.getSetting(\"forceFirstPaintTimeSending\");!function a(){if(s||!i.isVisibilityChanged()){var r=\"string\"==typeof t?document.querySelector(t):t;r?new IntersectionObserver(function(t,n){!s&&i.isVisibilityChanged()||(Ya.Rum.sendTimeMark(e),n.unobserve(r))},n).observe(r):setTimeout(a,100)}}()}:function(){}}(),function(){\"use strict\";if(window.PerformanceLongTaskTiming){var e=Ya.Rum._tti={events:[],observer:new PerformanceObserver(function(t){e.events=e.events.concat(t.getEntries()),e.events.length>100&&e.events.shift()})};e.observer.observe({entryTypes:[\"longtask\"]})}}(),function(){\"use strict\";var e,t=[];function n(){var n=Ya.Rum.getSetting(\"clck\"),i=t.join(\"\\\\r\\\\n\");if(t=[],e=null,n&&!(navigator.sendBeacon&&Ya.Rum.getSetting(\"beacon\")&&navigator.sendBeacon(n,i))){var s=new XMLHttpRequest;s.open(\"POST\",n),s.send(i)}}Ya.Rum.send=function(i,s,a,r,o,u,c){clearTimeout(e);var d=function(e,t,n,i,s,a){var r=Ya.Rum.getSetting(\"slots\");return[a?\"/\"+a.join(\"/\"):\"\",\"/path=\"+t,r?\"/slots=\"+r.join(\";\"):\"\",n?\"/vars=\"+n:\"\",\"/cts=\"+(new Date).getTime(),\"/*\"]}(0,s,a,0,0,c);t.push(\"/reqid=\"+Ya.Rum.getSetting(\"reqid\")+d.join(\"\")),t.length<42?e=setTimeout(n,15):n()}}();Ya.Rum.init({\"beacon\":true,\"reqid\":\"1568929647.97939.160468.153012\",\"slots\":[],\"clck\":\"https://yandex.ru/clck/click\",\"sendStaticLocation\":false,\"enablePaintPerformanceObserver\":1},{\"143\":\"28.15.523\",\"287\":\"213\",\"1961\":1,\"1964\":0,\"1965\":1,\"-project\":\"morda\",\"-page\":\"yaru\",\"-platform\":\"desktop\",\"-env\":\"production\",\"-version\":\"2.2238\",\"-blocker\":\"\"});Ya.Rum.observeDOMNode(\\'2876\\',\\'form.search2\\')</script><script>!function(e){if(!window.Ya||!Ya.Rum)throw new Error(\"Rum: interface is not defined\");var r=Ya.Rum;r.getSetting=function(e){var n=r._settings[e];return null===n?null:n||\"\"}}(),function(e){var r={client:[\"690.2354\",-1,100,0],uncaught:[\"690.2361\",100,10,0],external:[\"690.2854\",100,10,0],script:[\"690.2609\",100,10,0]},n={};e.ERROR_LEVEL={INFO:\"info\",DEBUG:\"debug\",WARN:\"warn\",ERROR:\"error\",FATAL:\"fatal\"},e._errorSettings={clck:\"https://yandex.ru/clck/click\",beacon:!0,project:\"unknown\",page:\"\",env:\"\",experiments:[],additional:{},platform:\"\",region:\"\",level:\"\",version:\"\",yandexuid:\"\",preventError:!1,unhandledRejection:!1,debug:!1,limits:{},silent:{},filters:{}};var t=!1;function o(e,r){for(var n in r)r.hasOwnProperty(n)&&(e[n]=r[n]);return e}function i(e){return\"boolean\"==typeof e&&(e=+e),\"number\"==typeof e?e+\"\":null}e.initErrors=function(r){o(e._errorSettings,r),t||(window.addEventListener?(window.addEventListener(\"error\",a),\"Promise\"in window&&e._errorSettings.unhandledRejection&&window.addEventListener(\"unhandledrejection\",function(e){var r,n,t=e.reason;t&&(t.stack&&t.message?r=t.message:\"[object Event]\"===(r=String(t))?r=\"event.type: \"+t.type:\"[object Object]\"===r&&(n={unhandledObject:t}),a({message:\"Unhandled rejection: \"+r,stack:t.stack,additional:n}))})):window.onerror=function(e,r,n,t,o){a({error:o||new Error(e||\"Empty error\"),message:e,lineno:n,colno:t,filename:r})},t=!0)},e.updateErrors=function(r){o(e._errorSettings,r)},e._handleError=function(t,i){var a,s,l=e._errorSettings;if(l.preventError&&t.preventDefault&&t.preventDefault(),i)a=t,s=\"client\";else{a=e._normalizeError(t),s=a.type;var c=l.onError;\"function\"==typeof c&&c(a);var u=l.transform;\"function\"==typeof u&&(a=u(a))}var d=r[s][1];\"number\"==typeof l.limits[s]&&(d=l.limits[s]);var m=r[s][2];\"number\"==typeof l.silent[s]&&(m=l.silent[s]);var f=r[s][3];if(f<d||-1===d){a.path=r[s][0];var g=\"\";try{var p=o({},l.additional);g=JSON.stringify(o(p,a.additional))}catch(e){l.debug&&window.console&&console.error(\"[error-counter] json.stringify:\",e)}var v=function(){n[a.message]=!1,e._sendError(a,{additional:g,silent:f<m||-1===m?\"no\":\"yes\",isCustom:Boolean(i)}),r[s][3]++}.bind(this);if(void 0===l.throttleSend)v();else{if(n[a.message])return;n[a.message]=!0,setTimeout(v,l.throttleSend)}}},e._baseNormalizeError=function(e){var r=(e=e||{}).filename||e.fileName||\"\",n=e.error&&e.error.stack||e.stack||\"\",t=e.message||\"\";return{file:r,line:e.lineno||e.lineNumber,col:e.colno||e.colNumber,stack:n,message:t,additional:e.additional}},e._normalizeError=function(r){var n=e._baseNormalizeError(r),t=\"uncaught\",o=e._isExternalError(n.file,n.message,n.stack),i=\"\",a=\"\";return o.hasExternal?(t=\"external\",i=o.common,a=o.custom):/^Script error\\\\.?$/.test(n.message)&&(t=\"script\"),n.external=i,n.externalCustom=a,n.type=t,n},e._sendError=function(r,n){n=n||{};var t=e._errorSettings,o=t.experiments.length?t.experiments.join(\";\"):\"\",a={\"-url\":r.file,\"-line\":r.line,\"-col\":r.col,\"-stack\":r.stack,\"-env\":t.env,\"-msg\":r.message,\"-external\":r.external,\"-externalCustom\":r.externalCustom,\"-project\":t.project,\"-service\":r.service,\"-page\":r.page||t.page,\"-platform\":t.platform,\"-level\":r.level,\"-experiments\":o,\"-version\":t.version,\"-region\":t.region,\"-yandexuid\":t.yandexuid,\"-source\":r.source,\"-sourceMethod\":r.sourceMethod,\"-type\":n.isCustom?r.type:\"\",\"-block\":r.block,\"-method\":r.method,\"-additional\":n.additional,\"-adb\":i(Ya.blocker)||i(t.blocker),\"-ua\":navigator.userAgent,\"-silent\":n.silent,\"-ts\":+new Date};t.debug&&window.console&&console.error(\"[error-counter]\",a),e.send(null,r.path,function(e){var r=[];for(var n in e)e.hasOwnProperty(n)&&(e[n]||0===e[n])&&r.push(n+\"=\"+encodeURIComponent(e[n]).replace(/\\\\*/g,\"%2A\"));return r.join(\",\")}(a),null,null,null,null)};var a=function(e){Ya.Rum._handleError(e,!1)}}(Ya.Rum),function(e){var r={url:{0:/(miscellaneous|extension)_bindings/,1:/^chrome:/,2:/kaspersky-labs\\\\.com\\\\//,3:/^(?:moz|chrome)-extension:\\\\/\\\\//,4:/^file:/,5:/^resource:\\\\/\\\\//,6:/webnetc\\\\.top/,7:/local\\\\.adguard\\\\.com/},message:{0:/__adgRemoveDirect/,1:/Content Security Policy/,2:/vid_mate_check/,3:/ucapi/,4:/Access is denied/i,5:/^Uncaught SecurityError/i,6:/__ybro/,7:/__show__deepen/,8:/ntp is not defined/,9:/Cannot set property \\'install\\' of undefined/,10:/NS_ERROR/,11:/Error loading script/,12:/^TypeError: undefined is not a function$/,13:/__firefox__\\\\.(?:favicons|metadata|reader|searchQueryForField|searchLoginField)/},stack:{0:/(?:moz|chrome)-extension:\\\\/\\\\//,1:/adguard.*\\\\.user\\\\.js/i}};function n(e,r){if(e&&r){var n=[];for(var t in r)if(r.hasOwnProperty(t)){var o=r[t];\"string\"==typeof o&&(o=new RegExp(o)),o instanceof RegExp&&o.test(e)&&n.push(t)}return n.join(\"_\")}}function t(e,t){var o,i=[];for(var a in r)r.hasOwnProperty(a)&&(o=n(e[a],t[a]))&&i.push(a+\"~\"+o);return i.join(\";\")}e._isExternalError=function(n,o,i){var a=e._errorSettings.filters||{},s={url:(n||\"\")+\"\",message:(o||\"\")+\"\",stack:(i||\"\")+\"\"},l=t(s,r),c=t(s,a);return{common:l,custom:c,hasExternal:!(!l&&!c)}}}(Ya.Rum),function(){\"use strict\";var e;(e=Ya.Rum).logError=function(r,n){r=r||{},\"string\"!=typeof n&&void 0!==n||((n=new Error(n)).justCreated=!0);var t=r.message||\"\",o=e._baseNormalizeError(n);o.message&&(t&&(t+=\"; \"),t+=o.message),o.message=t||\"Empty error\";for(var i=[\"service\",\"source\",\"type\",\"block\",\"additional\",\"level\",\"page\",\"method\",\"sourceMethod\"],a=0;a<i.length;a++){var s=i[a];r[s]?o[s]=r[s]:n&&n[s]&&(o[s]=n[s])}e._handleError(o,!0)}}(),function(){\"use strict\";var e;(e=Ya.Rum).logAjaxError=function(r,n,t,o){r.type=\"network\",r.additional=r.additional||{},\"timeout\"===t?r.additional.timeout=1:n.status&&(r.additional.status=n.status),e.logError(r,o)}}();Ya.Rum.initErrors({\"project\":\"morda\",\"page\":\"yaru\",\"platform\":\"desktop\",\"region\":\"213\",\"env\":\"production\",\"version\":\"2.2238\",\"preventError\":false,\"unhandledRejection\":true,\"throttleSend\":0,\"limits\":{\"client\":1000},\"silent\":{\"external\":3},\"filters\":{\"url\":{\"0\":\"suggest-ya.cgi\"}},\"blocker\":\"\"});</script><link rel=\"stylesheet\" href=\"//yastatic.net/s3/home-static/_/F/S/sLNuVhmDl3rxvbm-qvz0ZjVdk.css\"><script>function Detector(){\"use strict\";var e=document.documentElement;return{isPlaceholderSupported:function(){return\"placeholder\"in document.createElement(\"input\")},getCSS3TransformProperty:function(){for(var e=document.documentElement.style,t=[\"transform\",\"MozTransform\",\"MsTransform\",\"msTransform\",\"WebkitTransform\",\"OTransform\"],n=\"\",i=0,r=t.length;i<r;++i)if(e[t[i]]!==undefined){n=t[i];break}return this.getCSS3TransformProperty=function(){return n},n},checkDataURLSupport:function(e){var t=new Image;t.onload=t.onerror=function(){e(1===this.width&&1===this.height)},t.src=\"data:image/gif;base64,R0lGODlhAQABAIAAAAAAAP///ywAAAAAAQABAAACAUwAOw==\"},isActivexEnabled:function(){var e=!1;try{e=!!new window.ActiveXObject(\"htmlfile\")}catch(t){e=!1}return e},isWin64:function(){return window.navigator&&\"Win64\"===window.navigator.platform},isFullScreen:function(){return window.innerWidth&&window.screen&&window.screen.width&&window.screen.height&&window.innerHeight&&window.innerWidth===screen.width&&window.innerHeight===screen.height},isIEMetroMode:function(){return this.isFullScreen()&&this.isWin64()&&!this.isActivexEnabled()},isSVGSupported:function(){if(\"opera\"in window)return!1;var e=document.createElement(\"svg\");return e.innerHTML=\"<svg/>\",e.firstChild&&\"http://www.w3.org/2000/svg\"===e.firstChild.namespaceURI},isAnimationSupported:function(){if(\"opera\"in window)return!1;for(var e=document.documentElement.style,t=[\"animationName\",\"webkitAnimationName\"],n=0,i=t.length;n<i;n++)if(e[t[n]]!==undefined)return!0},getUserFontSize:function(){var t,n,i=[],r=\"i-ua_user-font-size_\",o=document.createElement(\"div\");return o.style.height=\"1em\",e.appendChild(o),t=parseInt(o.offsetHeight),e.removeChild(o),n=16===t?\"normal\":t<16?\"small\":\"large\",i.push(r+n),i.push(r+t+\"px\"),i.join(\" \")},isRetina:function(){return(\"devicePixelRatio\"in window?window.devicePixelRatio:1)>=1.25}}}function MyMap(){this.rules={},this.rulesData=[]}MyMap.prototype={add:function(e){return(e=e||null)&&!this.rules[e]&&(this.rulesData.push(e),this.rules[e]=this.rulesData.length-1),this},get:function(e){var t=this.rules[e];return t&&this.rulesData[t]||null},getAll:function(){return this.rulesData.join(\" \")}};var detector=new Detector;!function(){var e,t=new MyMap;t.add(\"js\").add(\"i-ua_placeholder_\"+(detector.isPlaceholderSupported()?\"yes\":\"no\")).add(detector.isIEMetroMode()&&\"m-ie10-metro\").add(detector.isSVGSupported()?\"i-ua_inlinesvg_yes m-svg\":\"i-ua_inlinesvg_no no-data-url\").add(detector.isAnimationSupported()&&\"i-ua_animation_yes\").add(this.device&&\"m-touch\").add(detector.getUserFontSize()).add(\"i-ua_retina_\"+(detector.isRetina()?\"yes\":\"no\")),detector.checkDataURLSupport(function(e){e||(document.documentElement.className+=\" no-data-url\")}),this.document&&this.document.documentElement&&((e=this.document.documentElement).className=e.className.replace(\"i-ua_js_no\",\"i-ua_js_yes\")+\" \"+t.getAll())}();</script></head><body class=\"b-page css3-transition-off\"><table class=\"b-table layout__table\"><tr class=\"b-table__row layout__header\"><td class=\"b-table__cell layout__header-cell\"><div class=\"personal i-bem\" data-bem=\"{&quot;personal&quot;:{&quot;authUrl&quot;:&quot;https://yandex.ru/data/mail.js?yaru=y&quot;,&quot;retpath&quot;:&quot;https%3A%2F%2Fya.ru&quot;,&quot;stat&quot;:0}}\"><a href=\"https://mail.yandex.ru\" class=\"link_black_novisit link b-inline link_logout\" tabindex=\"3\"><div class=\"b-inline\">Войти&nbsp;в&nbsp;почту</div></a></div></td></tr><tr class=\"b-table__row layout__search\"><td class=\"b-table__cell\"><form class=\"search2 suggest2-form suggest2-form__node suggest2-counter i-bem\" action=\"https://yandex.ru/search/\" role=\"search\" aria-label=\"Поиск в интернете\" data-bem=\"{&quot;suggest2-form&quot;:{},&quot;suggest2-counter&quot;:{&quot;service&quot;:&quot;morda_ru_desktop&quot;,&quot;host&quot;:&quot;//yandex.ru/clck&quot;,&quot;path&quot;:&quot;jclck&quot;,&quot;submitBySelect&quot;:true,&quot;preventSubmit&quot;:true,&quot;suggestReqID&quot;:true,&quot;params&quot;:{&quot;dtype&quot;:&quot;stred&quot;,&quot;pid&quot;:&quot;0&quot;,&quot;cid&quot;:&quot;2873&quot;}},&quot;search2&quot;:{&quot;cleanOnSubmit&quot;:false,&quot;nl&quot;:true}}\" ><input type=\"hidden\" name=\"msid\" value=\"1568929647.97939.160468.153012\"/><div class=\"search2__input\"><span class=\"input suggest2-form__input input_size_xl input_theme_websearch input_search2-clear-hide_yes input_autofocus_capture input_clear_yes i-bem\" data-bem=\"{&quot;input&quot;:{&quot;live&quot;:false,&quot;autoFocus&quot;:true}}\"><span class=\"input__box\"><span class=\"input__clear\" unselectable=\"on\">&nbsp;</span><input class=\"input__control input__input\" tabindex=\"2\" autocomplete=\"off\" autocorrect=\"off\" autocapitalize=\"off\" spellcheck=\"false\" aria-autocomplete=\"list\" aria-label=\"Запрос\" id=\"text\" maxlength=\"400\" name=\"text\"/></span></span></div><div class=\"search2__button\"><button class=\"button suggest2-form__button button_theme_websearch button_size_xl i-bem\" data-bem=\"{&quot;button&quot;:{}}\" tabindex=\"-1\" role=\"button\" type=\"submit\"><span class=\"button__text\">Найти</span></button></div><div class=\"i-bem popup suggest2 suggest2-history suggest2_theme_transparent suggest2_size_m suggest2_adaptive_yes suggest2_type_advanced suggest2_ahead_yes suggest2_history_yes suggest2_rich_yes popup_adaptive_yes popup_animate_no popup_autoclosable_yes popup_no-return-focus_yes popup_theme_ffffff\" data-bem=\"{&quot;popup&quot;:{&quot;directions&quot;:&quot;bottom-left&quot;},&quot;suggest2&quot;:{&quot;url&quot;:&quot;//yandex.ru/suggest/suggest-ya.cgi?srv=morda_ru_desktop&amp;wiz=TrWth&amp;uil=ru&amp;fact=1&amp;v=4&amp;icon=1&amp;lr=213&amp;hl=1&amp;bemjson=1&amp;html=1&amp;platform=desktop&amp;rich_nav=1&amp;show_experiment=222&amp;show_experiment=224&amp;verified_nav=1&amp;rich_phone=1&amp;yu=4795210341568929647&amp;sn=5&quot;,&quot;onFocus&quot;:&quot;show&quot;,&quot;aheadFromServer&quot;:true,&quot;submitBySelect&quot;:true,&quot;requestOnEmptyInput&quot;:false,&quot;deleteHistoryUrl&quot;:&quot;//yandex.ru/suggest-delete-text?srv=morda_ru_desktop&amp;text_to_delete=&quot;,&quot;viewMods&quot;:{&quot;rich&quot;:&quot;yes&quot;}},&quot;suggest2-detect&quot;:{},&quot;suggest2-history&quot;:{&quot;other&quot;:[],&quot;running&quot;:[]}}\"><div class=\"popup__under\"></div><div class=\"popup__content\"> </div></div></form></td></tr><tr class=\"b-table__row layout__footer\"><td class=\"b-table__cell\"><a href=\"//yandex.ru\" class=\"link layout__footer-logo\" tabindex=\"6\" title=\"Яндекс\"></a></td></tr></table><script>window.home=window.home||{};window.home[\\'export\\']={\"common\":{\"click-href\":\"https://yandex.ru/clck/\"},\"statlog\":{\"config\":{\"statRoot\":\"\",\"showId\":\"1568929647.97939.160468.153012\",\"enabled\":false,\"redirHost\":\"https://yandex.ru/clck/\",\"clckDemonHost\":\"https://yandex.ru/clck/\",\"useBeacon\":0}},\"timing\":{\"reqid\":\"1568929647.97939.160468.153012\",\"exp\":\"\",\"page\":\"28.15.523\"},\"service-worker\":{\"mode\":\"off\",\"url\":\"/portal/service-worker/white/_yaru.js\"}};home.dataCallbacks&&home.dataCallbacks.forEach(function(callback){callback();});</script><script src=\"//yastatic.net/jquery/1.8.3/jquery.min.js\" crossorigin=\"anonymous\"></script><script src=\"//yastatic.net/s3/home-static/_/j/1/-FUW_mBChBwta4VlImm7hhX18.js\" crossorigin=\"anonymous\"></script><script>BEM.DOM.scope=$(\\'body\\');Lego.init({\"locale\":\"ru\",\"msid\":\"1568929647.97939.160468.153012\",\"jsMdaUrl\":\"https://yandex.ru/portal/set/any/?sk=yca56580024ed1003eaa8100a13aab0b1&mda=0&empty=1\",\"click-host\":\"//yandex.ru/clck\",\"reqid\":\"1568929647.97939.160468.153012\",\"statRoot\":\"\",\"retpath\":\"https://mail.yandex.ru\"});BEM.channel(\\'i-bem\\').trigger(\\'start-init\\');BEM.DOM.init(function() {BEM.channel(\\'i-bem\\').trigger(\\'init\\');});</script><script type=\"text/javascript\">!function(e){\"use strict\";var t=document.createElement(\"script\"),n={\"src\":\"https://mc.yandex.ru/metrika/watch.js\"};for(var a in t.onload=function(){try{var t=[{\"id\":723233,\"trackLinks\":true}];e.metrikaCounterInstances={};for(var n=0;n<t.length;n++){var a=t[n],o=e[\"yaCounter\"+a.id]=new Ya.Metrika(a);n||(e.defaultMetrikaCounter=o),e.metrikaCounterInstances[a.id]=o}}catch(d){}},n)n.hasOwnProperty(a)&&t.setAttribute(a,n[a]);var o=!1,d=function(){o||(o=!0,document.getElementsByTagName(\"head\")[0].appendChild(t))};\"complete\"===document.readyState||\"loading\"!==document.readyState&&!document.documentElement.doScroll?setTimeout(d,0):\"addEventListener\"in document?(document.addEventListener(\"DOMContentLoaded\",d,!1),document.addEventListener(\"load\",d,!1)):(window.attachEvent(\"onload\",d),window.attachEvent(\"onreadystatechange\",d))}(window);</script><noscript><img class=\"image a11y-hidden\" src=\"https://mc.yandex.ru/watch/723233\"/></noscript><!--noindex--><div style=\"display:none\" class=\"page-info\">{&quot;static&quot;:&quot;2.2238&quot;,&quot;content&quot;:&quot;yaru&quot;,&quot;domain&quot;:&quot;ru&quot;}</div><!--/noindex--><!--vla2-4730-08f-vla-portal-morda-deb-16891.gencfg-c.yandex.net--></body></html>'"
      ]
     },
     "execution_count": 12,
     "metadata": {},
     "output_type": "execute_result"
    }
   ],
   "source": [
    "say_hello_to_ya()"
   ]
  },
  {
   "cell_type": "markdown",
   "metadata": {},
   "source": [
    "### Боже, что это было!?\n",
    "\n",
    "Давайте поговорим, что произошло? Расскажите, что вы понимаете?"
   ]
  },
  {
   "cell_type": "markdown",
   "metadata": {},
   "source": [
    "### HTTP\n",
    "\n",
    "[Википедия](https://ru.wikipedia.org/wiki/HTTP). Вопрос, откуда название?\n",
    "\n",
    "Быстрый пример http запросы.\n",
    "\n",
    "```\n",
    "GET /homepage.html HTTP/1.1\n",
    "Host: localhost\n",
    "\n",
    "```\n",
    "\n",
    "Что-то более сложное, но идейно именно такое браузер посылает на сервер, когда вы делает запрос. ```http://locahost/homepage.html```\n",
    "\n",
    "Вкратце, есть методы. Нам интересен сейчас 1 ```GET```, означает \"дай мне документ по этому адресу\".\n",
    "\n",
    "```/homepage.html``` путь до документа. ```HTTP/1.1``` версия протокола. Сейчас все пересаживаются на ```HTTP/2```, он бинарный с ним так просто не поиграешься.\n",
    "\n",
    "```Host: localhost```, это обязательный хедер для ```HTTP 1.1```, говорит к какому домену ты обращаял. Например для ```ya.ru```, получится ```Host: ya.ru```.\n",
    "\n",
    "Описание всех методов есть на вики. [Описание всего протокола RFC(request for comments)](https://tools.ietf.org/html/rfc2616). В таких штуках тру пацаны и паценессы читаю про протоколы и стандарты. Еще в коде больших опенсорс проектов. Например в хроумиуме.\n",
    "\n",
    "\n",
    "А теперь давайте начнем писать код."
   ]
  },
  {
   "cell_type": "code",
   "execution_count": 13,
   "metadata": {},
   "outputs": [],
   "source": [
    "def parse_http_request(request):\n",
    "    '''Returns tuple of bytes (method, uri, http version)'''\n",
    "    first_row = request[:request.find('\\r\\n')]\n",
    "    return first_row.split()"
   ]
  },
  {
   "cell_type": "code",
   "execution_count": 14,
   "metadata": {},
   "outputs": [
    {
     "name": "stderr",
     "output_type": "stream",
     "text": [
      "test_caseinsensitive (__main__.TestHttpParse) ... ok\n",
      "test_simple (__main__.TestHttpParse) ... ok\n",
      "\n",
      "----------------------------------------------------------------------\n",
      "Ran 2 tests in 0.002s\n",
      "\n",
      "OK\n"
     ]
    },
    {
     "data": {
      "text/plain": [
       "<unittest.main.TestProgram at 0x10f9f5dd8>"
      ]
     },
     "execution_count": 14,
     "metadata": {},
     "output_type": "execute_result"
    }
   ],
   "source": [
    "class TestHttpParse(unittest.TestCase):\n",
    "    def test_simple(self):\n",
    "        method, uri, version = parse_http_request(\"GET / HTTP/1.1\\r\\nHost: ya.ru\")\n",
    "        self.assertEqual(method, \"GET\")\n",
    "        self.assertEqual(uri, \"/\")\n",
    "        self.assertEqual(version, \"HTTP/1.1\")\n",
    "        \n",
    "    def test_caseinsensitive(self):\n",
    "        method, uri, version = parse_http_request(\"Get /home_page.html HtTp/1.1\\r\\nhOsT: ya.ru\")\n",
    "        self.assertEqual(method, \"Get\")\n",
    "        self.assertEqual(uri, \"/home_page.html\")\n",
    "        self.assertEqual(version, \"HtTp/1.1\")\n",
    "                         \n",
    "unittest.main(argv=['-m', 'TestHttpParse'], verbosity=2, exit=False)"
   ]
  },
  {
   "cell_type": "markdown",
   "metadata": {},
   "source": [
    "### Сокеты\n",
    "\n",
    "Ну классно, а как по сети общаться то? \n",
    "Сейчас я расскажу [про то, что сам не знаю](https://docs.python.org/3.7/library/socket.html)"
   ]
  },
  {
   "cell_type": "code",
   "execution_count": 15,
   "metadata": {},
   "outputs": [],
   "source": [
    "import socket"
   ]
  },
  {
   "cell_type": "code",
   "execution_count": 16,
   "metadata": {},
   "outputs": [],
   "source": [
    "def simple_echo(port=8080):\n",
    "    # https://docs.python.org/3.7/library/socket.html#socket.socket\n",
    "    s = socket.socket()\n",
    "    s.setsockopt(socket.SOL_SOCKET, socket.SO_REUSEADDR, 1)\n",
    "    s.bind((\"0.0.0.0\", port))\n",
    "    s.listen(1) #  count of connetctions in queue\n",
    "    connection, addr = s.accept()\n",
    "    with connection:\n",
    "        print('Connected by', addr)\n",
    "        data = connection.recv(1024)\n",
    "        print(f'data={data}')\n",
    "        connection.sendall(data)\n",
    "    connection.close()\n",
    "    s.close()"
   ]
  },
  {
   "cell_type": "markdown",
   "metadata": {},
   "source": [
    "Небольшой кусочек моей консоли, как я дебагаю эту штуку.\n",
    "\n",
    "```\n",
    "> telnet localhost 8080                                                     \n",
    "Trying ::1...\n",
    "telnet: connect to address ::1: Connection refused\n",
    "Trying 127.0.0.1...\n",
    "Connected to localhost.\n",
    "Escape character is '^]'.\n",
    "GET /home_page.html HTTP/1.1\n",
    "\n",
    "\n",
    "```"
   ]
  },
  {
   "cell_type": "code",
   "execution_count": 17,
   "metadata": {},
   "outputs": [
    {
     "name": "stdout",
     "output_type": "stream",
     "text": [
      "Connected by ('127.0.0.1', 53221)\n",
      "data=b'GET /home_page.html HTTP/1.1\\r\\n'\n"
     ]
    }
   ],
   "source": [
    "simple_echo()"
   ]
  },
  {
   "cell_type": "markdown",
   "metadata": {},
   "source": [
    "Отлично, сеть есть. Давайте теперь научимся отвечать по HTTP.\n",
    "\n",
    "Это очень просто.\n",
    "\n",
    "```\n",
    "HTTP/1.1 200 OK\n",
    "Content-Length: 3\n",
    "\n",
    "LoL\n",
    "\n",
    "\n",
    "```\n",
    "\n",
    "Что там на самом деле написано:\n",
    "```\n",
    "<версия> <код ответа> <расшифровка ответа> <- вот тут один \\r\\n\n",
    "Content-Length: <длинна документа в ответе>\n",
    "<- вот тут два \\r\\n\n",
    "<документ данной длинны>\n",
    "<- вот тут два \\r\\n\n",
    "```"
   ]
  },
  {
   "cell_type": "code",
   "execution_count": 18,
   "metadata": {},
   "outputs": [],
   "source": [
    "def prepare_http_response(data):\n",
    "    '''Returns 200 OK HTTP1.1 response with given payload'''\n",
    "    return f\"HTTP/1.1 200 OK\\r\\nContent-Length: {len(data)}\\r\\n\\r\\n{data}\\r\\n\\r\\n\""
   ]
  },
  {
   "cell_type": "code",
   "execution_count": 19,
   "metadata": {},
   "outputs": [
    {
     "name": "stderr",
     "output_type": "stream",
     "text": [
      "test_simple (__main__.TestHttpResponse) ... ok\n",
      "\n",
      "----------------------------------------------------------------------\n",
      "Ran 1 test in 0.001s\n",
      "\n",
      "OK\n"
     ]
    },
    {
     "data": {
      "text/plain": [
       "<unittest.main.TestProgram at 0x10fa1acc0>"
      ]
     },
     "execution_count": 19,
     "metadata": {},
     "output_type": "execute_result"
    }
   ],
   "source": [
    "class TestHttpResponse(unittest.TestCase):\n",
    "    def test_simple(self):\n",
    "        self.assertEqual(prepare_http_response(\"LoL\"), \"HTTP/1.1 200 OK\\r\\nContent-Length: 3\\r\\n\\r\\nLoL\\r\\n\\r\\n\")\n",
    "        \n",
    "unittest.main(argv=['-m', 'TestHttpResponse'], verbosity=2, exit=False)"
   ]
  },
  {
   "cell_type": "markdown",
   "metadata": {},
   "source": [
    "![Ну вы поняли](https://cs5.pikabu.ru/images/big_size_comm/2014-10_6/14145771591262.jpg)"
   ]
  },
  {
   "cell_type": "code",
   "execution_count": 34,
   "metadata": {},
   "outputs": [],
   "source": [
    "import os\n",
    "\n",
    "def simple_http(port=8080):\n",
    "    s = socket.socket()\n",
    "    s.setsockopt(socket.SOL_SOCKET, socket.SO_REUSEADDR, 1)\n",
    "    s.bind((\"0.0.0.0\", port))\n",
    "    s.listen(1) #  count of connetctions in queue\n",
    "    connection, addr = s.accept()\n",
    "    try:\n",
    "        with connection:\n",
    "            data = \"\"\n",
    "            print('Connected by', addr)\n",
    "            while '\\r\\n\\r\\n' not in data:\n",
    "                data += connection.recv(1024).decode('utf-8')\n",
    "                print(f'data={data}')\n",
    "            method, uri, version = parse_http_request(data)\n",
    "            with open(uri[1:], \"r\") as fin:\n",
    "                response = prepare_http_response(fin.read())\n",
    "            connection.sendall(response.encode('utf-8'))\n",
    "        connection.close()\n",
    "    except Exception as e:\n",
    "        s.close()\n",
    "        raise e\n",
    "    s.close()"
   ]
  },
  {
   "cell_type": "code",
   "execution_count": 36,
   "metadata": {},
   "outputs": [
    {
     "name": "stdout",
     "output_type": "stream",
     "text": [
      "Connected by ('127.0.0.1', 53518)\n",
      "data=GET /home_page.html HTTP/1.1\r\n",
      "Host: localhost:8080\r\n",
      "Connection: keep-alive\r\n",
      "Upgrade-Insecure-Requests: 1\r\n",
      "User-Agent: Mozilla/5.0 (Macintosh; Intel Mac OS X 10_14_6) AppleWebKit/537.36 (KHTML, like Gecko) Chrome/75.0.3770.100 YaBrowser/19.7.0.2015 Yowser/2.5 Safari/537.36\r\n",
      "Accept: text/html,application/xhtml+xml,application/xml;q=0.9,image/webp,image/apng,*/*;q=0.8,application/signed-exchange;v=b3\r\n",
      "Accept-Encoding: gzip, deflate, br\r\n",
      "Accept-Language: ru,en;q=0.9\r\n",
      "Cookie: _xsrf=2|4baa7200|43207df584cdca739f83ae4d9b689c51|1568290744; username-localhost-8889=\"2|1:0|10:1568317167|23:username-localhost-8889|44:YTU4NmFjMjZiYjI4NGFjYWFiZTAyZWU2YmZkNTBiMDA=|d36c7bbe572cd1ab2372f0ba278fb995ec1f64431d158ae97b2d420dc88ae657\"; username-localhost-8888=\"2|1:0|10:1568918402|23:username-localhost-8888|44:YWJmZWJhYjJhMTRmNDFjNzk2NTE1OTE1ZmJiY2VmZmE=|988c950daf58f4d281fd07d2704b47d14ef35c9a1d25b0bfdf0a571a54b8ed4b\"\r\n",
      "\r\n",
      "\n"
     ]
    }
   ],
   "source": [
    "simple_http()"
   ]
  },
  {
   "cell_type": "markdown",
   "metadata": {},
   "source": [
    "Теперь осталось совсем чуть-чуть. Открыть в браузере адрес [localhost:8080/home_page.html](localhost:8080/home_page.html)"
   ]
  }
 ],
 "metadata": {
  "kernelspec": {
   "display_name": "Python 3",
   "language": "python",
   "name": "python3"
  },
  "language_info": {
   "codemirror_mode": {
    "name": "ipython",
    "version": 3
   },
   "file_extension": ".py",
   "mimetype": "text/x-python",
   "name": "python",
   "nbconvert_exporter": "python",
   "pygments_lexer": "ipython3",
   "version": "3.7.0"
  }
 },
 "nbformat": 4,
 "nbformat_minor": 2
}
