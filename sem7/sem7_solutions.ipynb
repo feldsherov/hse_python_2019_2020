{
 "cells": [
  {
   "cell_type": "markdown",
   "metadata": {},
   "source": [
    "## Семинар 7"
   ]
  },
  {
   "cell_type": "markdown",
   "metadata": {},
   "source": [
    "Давайте проверим, что все умеют в считывание из файла."
   ]
  },
  {
   "cell_type": "code",
   "execution_count": 124,
   "metadata": {},
   "outputs": [
    {
     "name": "stdout",
     "output_type": "stream",
     "text": [
      "1 2 3\n",
      "\n",
      "4 5 6\n",
      "\n"
     ]
    }
   ],
   "source": [
    "fin = open(\"input.txt\", \"r\", encoding=\"utf-8\") # что за encoding?\n",
    "for row in fin:\n",
    "    print(row)\n",
    "fin.close()"
   ]
  },
  {
   "cell_type": "markdown",
   "metadata": {},
   "source": [
    "Что за пустые строки?"
   ]
  },
  {
   "cell_type": "code",
   "execution_count": 125,
   "metadata": {},
   "outputs": [
    {
     "name": "stdout",
     "output_type": "stream",
     "text": [
      "a.strip() = |1|\n",
      "a.rstrip() = |   1|\n",
      "a.lstrip() = |1   \n",
      "|\n"
     ]
    }
   ],
   "source": [
    "a = \"   1   \\n\"\n",
    "print(f\"a.strip() = |{a.strip()}|\")\n",
    "print(f\"a.rstrip() = |{a.rstrip()}|\") # всегда пользуйте rstrip в олимпиадном коде\n",
    "print(f\"a.lstrip() = |{a.lstrip()}|\")"
   ]
  },
  {
   "cell_type": "code",
   "execution_count": 126,
   "metadata": {},
   "outputs": [
    {
     "name": "stdout",
     "output_type": "stream",
     "text": [
      "1 2 3\n",
      "4 5 6\n",
      "\n"
     ]
    }
   ],
   "source": [
    "fin = open(\"input.txt\", \"r\", encoding=\"utf-8\")\n",
    "print(fin.read())\n",
    "fin.close()"
   ]
  },
  {
   "cell_type": "code",
   "execution_count": 127,
   "metadata": {},
   "outputs": [
    {
     "name": "stdout",
     "output_type": "stream",
     "text": [
      "['1 2 3\\n', '4 5 6\\n']\n"
     ]
    }
   ],
   "source": [
    "fin = open(\"input.txt\", \"r\", encoding=\"utf-8\")\n",
    "print(fin.readlines())\n",
    "fin.close()"
   ]
  },
  {
   "cell_type": "markdown",
   "metadata": {},
   "source": [
    "Можно то же самое навернуть со стандартным потоком ввода. Но это надо честно из косоли запускать.\n",
    "\n",
    "Выглядит так."
   ]
  },
  {
   "cell_type": "code",
   "execution_count": 129,
   "metadata": {},
   "outputs": [],
   "source": [
    "import sys\n",
    "\n",
    "sys.stdin.readlines()\n",
    "sys.stdin.read()\n",
    "\n",
    "for row in sys.stdin:\n",
    "    print(row)"
   ]
  },
  {
   "cell_type": "markdown",
   "metadata": {},
   "source": [
    "Стандартная олимпиадная задачка с файлами выглядит так."
   ]
  },
  {
   "cell_type": "code",
   "execution_count": 130,
   "metadata": {},
   "outputs": [],
   "source": [
    "fin = open(\"input.txt\", \"r\", encoding=\"utf-8\")\n",
    "fout = open(\"output.txt\", \"w\", encoding=\"utf-8\")\n",
    "# your code here\n",
    "fin.close()\n",
    "fout.close()"
   ]
  },
  {
   "cell_type": "markdown",
   "metadata": {},
   "source": [
    "Если лень писать close для `fout` используйте with, оно автоматически вызовет close за Вас."
   ]
  },
  {
   "cell_type": "code",
   "execution_count": 128,
   "metadata": {},
   "outputs": [],
   "source": [
    "with open(\"output.txt\", \"w\", encoding=\"utf-8\") as fout:\n",
    "    print(\"test\", file=fout)"
   ]
  },
  {
   "cell_type": "markdown",
   "metadata": {},
   "source": [
    "***Если не вызовете сlose, данные могут не доехать до файла!***"
   ]
  },
  {
   "cell_type": "markdown",
   "metadata": {},
   "source": [
    "С прошлого раза, у меня остался должок. `map` и `join`. Давайте кто-нибудь расскажет, что это и как работает?"
   ]
  },
  {
   "cell_type": "code",
   "execution_count": 66,
   "metadata": {},
   "outputs": [
    {
     "data": {
      "text/plain": [
       "'1; 2; 3'"
      ]
     },
     "execution_count": 66,
     "metadata": {},
     "output_type": "execute_result"
    }
   ],
   "source": [
    "\"; \".join([\"1\", \"2\", \"3\"])"
   ]
  },
  {
   "cell_type": "markdown",
   "metadata": {},
   "source": [
    "Обычно у нас будет лист чисел и лист еще чего-то такого, чего хочется вывести, так что нам бы научиться просто получать список строк из списка чего-то.\n",
    "\n",
    "В этом случае нам на помощь приходит `map`."
   ]
  },
  {
   "cell_type": "code",
   "execution_count": 71,
   "metadata": {},
   "outputs": [
    {
     "data": {
      "text/plain": [
       "['1', '2', '3']"
      ]
     },
     "execution_count": 71,
     "metadata": {},
     "output_type": "execute_result"
    }
   ],
   "source": [
    "list(map(str, [1, 2, 3]))"
   ]
  },
  {
   "cell_type": "code",
   "execution_count": 72,
   "metadata": {},
   "outputs": [
    {
     "data": {
      "text/plain": [
       "'1; 2; 3'"
      ]
     },
     "execution_count": 72,
     "metadata": {},
     "output_type": "execute_result"
    }
   ],
   "source": [
    "\"; \".join(map(str, [1, 2, 3])) # куда исчез явный вызов list?"
   ]
  },
  {
   "cell_type": "markdown",
   "metadata": {},
   "source": [
    "Но на самом деле можно выводить и попроще, но это может знатно тормозить."
   ]
  },
  {
   "cell_type": "code",
   "execution_count": 75,
   "metadata": {},
   "outputs": [
    {
     "name": "stdout",
     "output_type": "stream",
     "text": [
      "1; 2; 3\n"
     ]
    }
   ],
   "source": [
    "print(*[1, 2, 3], sep=\"; \") # кто объяснит, что произошло?"
   ]
  },
  {
   "cell_type": "markdown",
   "metadata": {},
   "source": [
    "Класс? И это еще не все."
   ]
  },
  {
   "cell_type": "code",
   "execution_count": 73,
   "metadata": {},
   "outputs": [
    {
     "name": "stdout",
     "output_type": "stream",
     "text": [
      "a = 2, b = 4\n"
     ]
    }
   ],
   "source": [
    "a, b = map(int, \"2 4\".split()) # что тут происходит?\n",
    "print(f\"a = {a}, b = {b}\")"
   ]
  },
  {
   "cell_type": "code",
   "execution_count": 56,
   "metadata": {},
   "outputs": [
    {
     "data": {
      "text/plain": [
       "<map at 0x106a64ac8>"
      ]
     },
     "execution_count": 56,
     "metadata": {},
     "output_type": "execute_result"
    }
   ],
   "source": [
    "map(int, \"2 4\".split()) # что за map at blah-blah-blah?"
   ]
  },
  {
   "cell_type": "markdown",
   "metadata": {},
   "source": [
    "Давайте напишем что-нибудь с map. Напишите однострочную фунцию, которая принимает лист чисел, и возвращает новый лист в котором все элементы увеличины на единичку."
   ]
  },
  {
   "cell_type": "code",
   "execution_count": 48,
   "metadata": {},
   "outputs": [],
   "source": [
    "from typing import List\n",
    "\n",
    "def add_one_int(i):\n",
    "    return i + 1\n",
    "\n",
    "# https://www.python.org/dev/peps/pep-0484/#runtime-or-type-checking\n",
    "def add_one(l: List[int]) -> List[int]:\n",
    "    # your code here\n",
    "    return list(map(lambda a: a + 1, l))\n"
   ]
  },
  {
   "cell_type": "markdown",
   "metadata": {},
   "source": [
    "Но для начала будем большими мальчикми и девочками, давайте напишем тесмты на эту функцию."
   ]
  },
  {
   "cell_type": "code",
   "execution_count": 46,
   "metadata": {},
   "outputs": [
    {
     "data": {
      "text/plain": [
       "[]"
      ]
     },
     "execution_count": 46,
     "metadata": {},
     "output_type": "execute_result"
    }
   ],
   "source": [
    "add_one([])"
   ]
  },
  {
   "cell_type": "code",
   "execution_count": 52,
   "metadata": {},
   "outputs": [
    {
     "name": "stderr",
     "output_type": "stream",
     "text": [
      "...\n",
      "----------------------------------------------------------------------\n",
      "Ran 3 tests in 0.002s\n",
      "\n",
      "OK\n"
     ]
    },
    {
     "data": {
      "text/plain": [
       "<unittest.main.TestProgram at 0x106aa37f0>"
      ]
     },
     "execution_count": 52,
     "metadata": {},
     "output_type": "execute_result"
    }
   ],
   "source": [
    "import unittest\n",
    "\n",
    "class TestAddOneFunction(unittest.TestCase):\n",
    "    def test_type(self):\n",
    "        self.assertIsInstance(add_one([]), list)\n",
    "\n",
    "    def test_empty_list(self):\n",
    "        self.assertSequenceEqual(add_one([]), [])\n",
    "            \n",
    "    def test_simple(self):\n",
    "        # you code here\n",
    "        self.assertEqual(add_one([1, 2, 3]), [2, 3, 4])\n",
    "        \n",
    "unittest.main(argv=[\"\", \"TestAddOneFunction\"], exit=False)"
   ]
  },
  {
   "cell_type": "markdown",
   "metadata": {},
   "source": [
    "## Лямбды"
   ]
  },
  {
   "cell_type": "markdown",
   "metadata": {},
   "source": [
    "У нас здесь явно есть сомнительная функция ```add_one_int```. Каждый раз для этого создавать функцию не хочется. Для таких случаем придумали **lambda** функции."
   ]
  },
  {
   "cell_type": "code",
   "execution_count": 53,
   "metadata": {},
   "outputs": [
    {
     "name": "stdout",
     "output_type": "stream",
     "text": [
      "<class 'function'>\n"
     ]
    }
   ],
   "source": [
    "f = lambda a: a + 1\n",
    "print(type(f))"
   ]
  },
  {
   "cell_type": "markdown",
   "metadata": {},
   "source": [
    "С новыми знаниями напишите функцию выше с использованием лямбды."
   ]
  },
  {
   "cell_type": "markdown",
   "metadata": {},
   "source": [
    "Напишите функцию, поторая принимает ```n``` и возвращает функцию, которая умножает на ```n```."
   ]
  },
  {
   "cell_type": "code",
   "execution_count": 62,
   "metadata": {},
   "outputs": [],
   "source": [
    "from typing import Callable\n",
    "\n",
    "def multiplier_factory(n: int) -> Callable:\n",
    "    # your code here\n",
    "    return lambda a: a * n"
   ]
  },
  {
   "cell_type": "code",
   "execution_count": 63,
   "metadata": {},
   "outputs": [
    {
     "name": "stderr",
     "output_type": "stream",
     "text": [
      "..\n",
      "----------------------------------------------------------------------\n",
      "Ran 2 tests in 0.002s\n",
      "\n",
      "OK\n"
     ]
    },
    {
     "data": {
      "text/plain": [
       "<unittest.main.TestProgram at 0x106ace208>"
      ]
     },
     "execution_count": 63,
     "metadata": {},
     "output_type": "execute_result"
    }
   ],
   "source": [
    "import unittest\n",
    "\n",
    "class TestMultiplierFactory(unittest.TestCase):\n",
    "    def test_simple(self):\n",
    "        # you code here\n",
    "        self.assertEqual(multiplier_factory(2)(2), 4)\n",
    "\n",
    "    def test_order(self):\n",
    "        # you code here\n",
    "        self.assertEqual(multiplier_factory(3)(2), 6)\n",
    "        \n",
    "unittest.main(argv=[\"\", \"TestMultiplierFactory\"], exit=False)"
   ]
  },
  {
   "cell_type": "markdown",
   "metadata": {},
   "source": [
    "Повторение. Напишите функцию, которая сравнивает два кортежа или два списка."
   ]
  },
  {
   "cell_type": "code",
   "execution_count": 76,
   "metadata": {},
   "outputs": [],
   "source": [
    "def compare_tuple_or_list(lhs, rhs):\n",
    "    for i, j in zip(lhs, rhs):\n",
    "        if i < j:\n",
    "            return True\n",
    "    return False"
   ]
  },
  {
   "cell_type": "code",
   "execution_count": 85,
   "metadata": {},
   "outputs": [
    {
     "name": "stderr",
     "output_type": "stream",
     "text": [
      "........\n",
      "----------------------------------------------------------------------\n",
      "Ran 8 tests in 0.005s\n",
      "\n",
      "OK\n"
     ]
    },
    {
     "data": {
      "text/plain": [
       "<unittest.main.TestProgram at 0x106affe10>"
      ]
     },
     "execution_count": 85,
     "metadata": {},
     "output_type": "execute_result"
    }
   ],
   "source": [
    "import unittest\n",
    "\n",
    "class TestCompareTupleOrList(unittest.TestCase):\n",
    "    def test_eq(self):\n",
    "        lhs = (1, 2)\n",
    "        rhs = (1, 2)\n",
    "        self.assertEqual(compare_tuple_or_list(lhs, rhs), lhs < rhs)\n",
    "\n",
    "    def test_gt(self):\n",
    "        lhs = (1, 3)\n",
    "        rhs = (1, 2)\n",
    "        self.assertEqual(compare_tuple_or_list(lhs, rhs), lhs < rhs)\n",
    "\n",
    "    def test_ls(self):\n",
    "        lhs = (1, 1)\n",
    "        rhs = (1, 2)\n",
    "        self.assertEqual(compare_tuple_or_list(lhs, rhs), lhs < rhs)\n",
    "\n",
    "    def test_empty(self):\n",
    "        lhs = (1, 1)\n",
    "        rhs = (1, 2)\n",
    "        self.assertEqual(compare_tuple_or_list(lhs, rhs), lhs < rhs)\n",
    "\n",
    "    def test_different_length_ls(self):\n",
    "        lhs = (1, 1, 1)\n",
    "        rhs = (1, 2)\n",
    "        self.assertEqual(compare_tuple_or_list(lhs, rhs), lhs < rhs)\n",
    "\n",
    "    def test_different_length_gt(self):\n",
    "        lhs = (1, 3, 1)\n",
    "        rhs = (1, 2)\n",
    "        self.assertEqual(compare_tuple_or_list(lhs, rhs), lhs < rhs)\n",
    "\n",
    "    def test_different_length_ls_2(self):\n",
    "        lhs = (1, 1)\n",
    "        rhs = (1, 2, 1)\n",
    "        self.assertEqual(compare_tuple_or_list(lhs, rhs), lhs < rhs)\n",
    "\n",
    "    def test_different_length_gt_2(self):\n",
    "        lhs = (1, 3)\n",
    "        rhs = (1, 2, 1)\n",
    "        self.assertEqual(compare_tuple_or_list(lhs, rhs), lhs < rhs)\n",
    "\n",
    "        \n",
    "unittest.main(argv=[\"\", \"TestCompareTupleOrList\"], exit=False)"
   ]
  },
  {
   "cell_type": "code",
   "execution_count": 89,
   "metadata": {},
   "outputs": [
    {
     "data": {
      "text/plain": [
       "True"
      ]
     },
     "execution_count": 89,
     "metadata": {},
     "output_type": "execute_result"
    }
   ],
   "source": [
    "(1, 1) < (1, 3, 2)"
   ]
  },
  {
   "cell_type": "markdown",
   "metadata": {},
   "source": [
    "Напишите функцию, которая просто суммирует все свои аргументы. Аргументов может быть сколько угодно. Давайте сичтать, что аргументы должны быть числами."
   ]
  },
  {
   "cell_type": "code",
   "execution_count": 91,
   "metadata": {},
   "outputs": [],
   "source": [
    "def sum_all(*args):\n",
    "    return sum(args)"
   ]
  },
  {
   "cell_type": "code",
   "execution_count": 95,
   "metadata": {},
   "outputs": [
    {
     "name": "stderr",
     "output_type": "stream",
     "text": [
      "...\n",
      "----------------------------------------------------------------------\n",
      "Ran 3 tests in 0.003s\n",
      "\n",
      "OK\n"
     ]
    },
    {
     "data": {
      "text/plain": [
       "<unittest.main.TestProgram at 0x106ac6be0>"
      ]
     },
     "execution_count": 95,
     "metadata": {},
     "output_type": "execute_result"
    }
   ],
   "source": [
    "import unittest\n",
    "\n",
    "class TestSumAll(unittest.TestCase):\n",
    "    def test_empty(self):\n",
    "        self.assertEqual(sum_all(), 0)\n",
    "\n",
    "    def test_one(self):\n",
    "        self.assertEqual(sum_all(1), 1)\n",
    "\n",
    "    def test_ten(self):\n",
    "        self.assertEqual(sum_all(0, 1, 2, 3, 4, 5, 6, 7, 8, 9), 45)\n",
    "\n",
    "        \n",
    "unittest.main(argv=[\"\", \"TestSumAll\"], exit=False)"
   ]
  },
  {
   "cell_type": "markdown",
   "metadata": {},
   "source": [
    "### Сортировка\n",
    "\n",
    "В питоне списки можно сортировать. Это просто."
   ]
  },
  {
   "cell_type": "code",
   "execution_count": 109,
   "metadata": {},
   "outputs": [
    {
     "data": {
      "text/plain": [
       "[1, 2, 3]"
      ]
     },
     "execution_count": 109,
     "metadata": {},
     "output_type": "execute_result"
    }
   ],
   "source": [
    "a = [2, 3, 1]\n",
    "a.sort()\n",
    "a"
   ]
  },
  {
   "cell_type": "code",
   "execution_count": 110,
   "metadata": {},
   "outputs": [
    {
     "data": {
      "text/plain": [
       "[2, 3, 5]"
      ]
     },
     "execution_count": 110,
     "metadata": {},
     "output_type": "execute_result"
    }
   ],
   "source": [
    "sorted([3, 2, 5])"
   ]
  },
  {
   "cell_type": "markdown",
   "metadata": {},
   "source": [
    "В питоне у `sorted` и `sort` есть параметр `key`. Который принимает функцию, которая принимает объект из списка и возвращает ключ по которому сортировать.\n",
    "\n",
    "Например, так можно отсортировать список таплов по второму значению в тапле."
   ]
  },
  {
   "cell_type": "code",
   "execution_count": 112,
   "metadata": {},
   "outputs": [
    {
     "data": {
      "text/plain": [
       "[(0, 2, 10), (100, 4, 2), (3, 5, 1), (0, 10, 4)]"
      ]
     },
     "execution_count": 112,
     "metadata": {},
     "output_type": "execute_result"
    }
   ],
   "source": [
    "sorted([(100, 4, 2), (0, 2, 10), (0, 10, 4), (3, 5, 1)], key=lambda t: t[1])"
   ]
  },
  {
   "cell_type": "code",
   "execution_count": 114,
   "metadata": {},
   "outputs": [
    {
     "data": {
      "text/plain": [
       "[(0, 2, 10), (100, 4, 2), (3, 5, 1), (0, 10, 4)]"
      ]
     },
     "execution_count": 114,
     "metadata": {},
     "output_type": "execute_result"
    }
   ],
   "source": [
    "# аналогично с методом sort\n",
    "l = [(100, 4, 2), (0, 2, 10), (0, 10, 4), (3, 5, 1)]\n",
    "l.sort(key=lambda t: t[1])\n",
    "l"
   ]
  },
  {
   "cell_type": "markdown",
   "metadata": {},
   "source": [
    "**Упражнение.**\n",
    "\n",
    "Напишите функцию, которая возвращает строку `key=value\\tkey=value` из своих именованных аргументов. Для исключения неоднозначности, отсортируйте строки `key=value` в лексикографическом порядке.\n",
    "\n",
    "Этот формат называется TSKV(tab separated key value) и широко используется в Яндексе. К несчатью, наверное."
   ]
  },
  {
   "cell_type": "code",
   "execution_count": 106,
   "metadata": {},
   "outputs": [
    {
     "name": "stdout",
     "output_type": "stream",
     "text": [
      "a=1\n",
      "b=2\n"
     ]
    }
   ],
   "source": [
    "# подсказка\n",
    "for k, v in {\"a\": 1, \"b\": 2}.items():\n",
    "    print(f\"{k}={v}\")"
   ]
  },
  {
   "cell_type": "code",
   "execution_count": 107,
   "metadata": {},
   "outputs": [],
   "source": [
    "def to_tskv(**kwargs):\n",
    "    # your code here\n",
    "    return \"\\t\".join(sorted([f\"{k}={v}\" for k, v in kwargs.items()]))"
   ]
  },
  {
   "cell_type": "code",
   "execution_count": 108,
   "metadata": {},
   "outputs": [
    {
     "name": "stderr",
     "output_type": "stream",
     "text": [
      "...\n",
      "----------------------------------------------------------------------\n",
      "Ran 3 tests in 0.002s\n",
      "\n",
      "OK\n"
     ]
    },
    {
     "data": {
      "text/plain": [
       "<unittest.main.TestProgram at 0x106b2b668>"
      ]
     },
     "execution_count": 108,
     "metadata": {},
     "output_type": "execute_result"
    }
   ],
   "source": [
    "import unittest\n",
    "\n",
    "class TestToTSKV(unittest.TestCase):\n",
    "    def test_empty(self):\n",
    "        self.assertEqual(to_tskv(), \"\")\n",
    "\n",
    "    def test_one(self):\n",
    "        self.assertEqual(to_tskv(lol=1), \"lol=1\")\n",
    "\n",
    "    def test_three(self):\n",
    "        self.assertEqual(to_tskv(a=1, b=2, c=1), \"a=1\\tb=2\\tc=1\")\n",
    "\n",
    "        \n",
    "unittest.main(argv=[\"\", \"TestToTSKV\"], exit=False)"
   ]
  },
  {
   "cell_type": "markdown",
   "metadata": {},
   "source": [
    "**Упражнение со звездочкой.**\n",
    "\n",
    "Напишите функцию, которая работает так же как и `sorted`. То есть принимает параметр `key`, а если его не передали, то сортирует используя обычное сравнение.\n",
    "\n",
    "Последостальность действий следующая.\n",
    "\n",
    "* Написать тесты на обычную сортировку (без параметра key). Используйте unittest и примеры выше.\n",
    "* Реализовать функциональность сортировки (без функции key)\n",
    "* Написать тесты на параметр key\n",
    "* Поддержать параметр key"
   ]
  }
 ],
 "metadata": {
  "kernelspec": {
   "display_name": "Python 3",
   "language": "python",
   "name": "python3"
  },
  "language_info": {
   "codemirror_mode": {
    "name": "ipython",
    "version": 3
   },
   "file_extension": ".py",
   "mimetype": "text/x-python",
   "name": "python",
   "nbconvert_exporter": "python",
   "pygments_lexer": "ipython3",
   "version": "3.7.0"
  }
 },
 "nbformat": 4,
 "nbformat_minor": 2
}
