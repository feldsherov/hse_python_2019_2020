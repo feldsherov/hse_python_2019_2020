{
 "cells": [
  {
   "cell_type": "markdown",
   "metadata": {},
   "source": [
    "## Декораторы возращаются!"
   ]
  },
  {
   "cell_type": "code",
   "execution_count": 13,
   "metadata": {},
   "outputs": [],
   "source": [
    "# Напишите декоратор, который вызывает функцию два раза\n",
    "def duplicate_decorator(func):\n",
    "    def wrap(*args, **kwargs):\n",
    "        func(*args, **kwargs)\n",
    "        func(*args, **kwargs)\n",
    "    return wrap\n",
    "    "
   ]
  },
  {
   "cell_type": "markdown",
   "metadata": {},
   "source": [
    "Я написал для вас тесты, проверьте, что все работает."
   ]
  },
  {
   "cell_type": "code",
   "execution_count": 15,
   "metadata": {},
   "outputs": [
    {
     "name": "stderr",
     "output_type": "stream",
     "text": [
      "test_simple (__main__.TestDuplicatDecorator) ... ok\n",
      "\n",
      "----------------------------------------------------------------------\n",
      "Ran 1 test in 0.002s\n",
      "\n",
      "OK\n"
     ]
    },
    {
     "data": {
      "text/plain": [
       "<unittest.main.TestProgram at 0x110e83400>"
      ]
     },
     "execution_count": 15,
     "metadata": {},
     "output_type": "execute_result"
    }
   ],
   "source": [
    "import unittest\n",
    "\n",
    "class TestDuplicateDecorator(unittest.TestCase):\n",
    "    def test_simple(self):\n",
    "        calls = list()\n",
    "        \n",
    "        @duplicate_decorator\n",
    "        def inner_func(arg):\n",
    "            calls.append(arg)\n",
    "        \n",
    "        inner_func(2)\n",
    "        self.assertEqual(calls, [2, 2])\n",
    "\n",
    "unittest.main(argv=['-m', 'TestDuplicateDecorator'], verbosity=2, exit=False)"
   ]
  },
  {
   "cell_type": "code",
   "execution_count": 5,
   "metadata": {},
   "outputs": [],
   "source": [
    "# Напишите декоратор, который вызывает n раз, где n параметр декоратора\n",
    "def call_n_times(n):\n",
    "    def some_generic_decorator(func):\n",
    "        def wrap(*args, **kwargs):\n",
    "            for _ in range(n):\n",
    "                func(*args, **kwargs)\n",
    "        return wrap\n",
    "    return some_generic_decorator"
   ]
  },
  {
   "cell_type": "markdown",
   "metadata": {},
   "source": [
    "Тут у нас тоже есть тесты."
   ]
  },
  {
   "cell_type": "code",
   "execution_count": 17,
   "metadata": {},
   "outputs": [
    {
     "name": "stderr",
     "output_type": "stream",
     "text": [
      "test_hard (__main__.TestCallNTimesDecorator) ... ok\n",
      "test_simple (__main__.TestCallNTimesDecorator) ... ok\n",
      "\n",
      "----------------------------------------------------------------------\n",
      "Ran 2 tests in 0.005s\n",
      "\n",
      "OK\n"
     ]
    },
    {
     "data": {
      "text/plain": [
       "<unittest.main.TestProgram at 0x110e86da0>"
      ]
     },
     "execution_count": 17,
     "metadata": {},
     "output_type": "execute_result"
    }
   ],
   "source": [
    "import unittest\n",
    "\n",
    "class TestCallNTimesDecorator(unittest.TestCase):\n",
    "    def test_simple(self):\n",
    "        calls = list()\n",
    "        \n",
    "        @call_n_times(2)\n",
    "        def inner_func(arg):\n",
    "            calls.append(arg)\n",
    "        \n",
    "        inner_func(2)\n",
    "        self.assertEqual(calls, [2, 2])\n",
    "\n",
    "    def test_hard(self):\n",
    "        calls = list()\n",
    "        n = 100\n",
    "        \n",
    "        @call_n_times(n)\n",
    "        def inner_func(arg):\n",
    "            calls.append(arg)\n",
    "        \n",
    "        inner_func(2)\n",
    "        self.assertEqual(calls, [2] * n)\n",
    "\n",
    "\n",
    "        \n",
    "unittest.main(argv=['-m', 'TestCallNTimesDecorator'], verbosity=2, exit=False)"
   ]
  },
  {
   "cell_type": "markdown",
   "metadata": {},
   "source": [
    "## Черная магия"
   ]
  },
  {
   "cell_type": "code",
   "execution_count": 4,
   "metadata": {},
   "outputs": [
    {
     "name": "stdout",
     "output_type": "stream",
     "text": [
      "hasattr(foo, '__call__') = True\n",
      "hasattr(foo, '__call__') = False\n"
     ]
    }
   ],
   "source": [
    "def foo():\n",
    "    print(\"Hi!\")\n",
    "    \n",
    "print(f\"hasattr(foo, '__call__') = {hasattr(foo, '__call__')}\")\n",
    "foo = 5\n",
    "print(f\"hasattr(foo, '__call__') = {hasattr(foo, '__call__')}\")"
   ]
  },
  {
   "cell_type": "markdown",
   "metadata": {},
   "source": [
    "Итого, проверив наличие аттрибута ```__call__```, можно понять передали ли вам объект, который можно вызвать, или просто что-то передали.\n",
    "\n",
    "Задача, использую это знание, напишите декоратор, который можно использовать с параметро и без."
   ]
  },
  {
   "cell_type": "code",
   "execution_count": 20,
   "metadata": {},
   "outputs": [],
   "source": [
    "# Улучшите call_n_times декоратор. Если декоратор был вызван без параметров, то нужно \n",
    "# вызывать функцию один раз, иначе n раз, где n параметр декоратора,\n",
    "def call_n_times_pro(arg):\n",
    "    if hasattr(arg, \"__call__\"):\n",
    "        return arg\n",
    "    else:\n",
    "        n = arg\n",
    "        def some_generic_decorator(func):\n",
    "            def wrap(*args, **kwargs):\n",
    "                for _ in range(n):\n",
    "                    func(*args, **kwargs)\n",
    "            return wrap\n",
    "        return some_generic_decorator"
   ]
  },
  {
   "cell_type": "code",
   "execution_count": 21,
   "metadata": {},
   "outputs": [
    {
     "name": "stderr",
     "output_type": "stream",
     "text": [
      "test_hard (__main__.TestCallNTimesProDecorator) ... ok\n",
      "test_simple (__main__.TestCallNTimesProDecorator) ... ok\n",
      "test_without_args (__main__.TestCallNTimesProDecorator) ... ok\n",
      "\n",
      "----------------------------------------------------------------------\n",
      "Ran 3 tests in 0.007s\n",
      "\n",
      "OK\n"
     ]
    },
    {
     "data": {
      "text/plain": [
       "<unittest.main.TestProgram at 0x110e83080>"
      ]
     },
     "execution_count": 21,
     "metadata": {},
     "output_type": "execute_result"
    }
   ],
   "source": [
    "import unittest\n",
    "\n",
    "class TestCallNTimesProDecorator(unittest.TestCase):\n",
    "    def test_simple(self):\n",
    "        calls = list()\n",
    "        \n",
    "        @call_n_times_pro(2)\n",
    "        def inner_func(arg):\n",
    "            calls.append(arg)\n",
    "        \n",
    "        inner_func(2)\n",
    "        self.assertEqual(calls, [2, 2])\n",
    "\n",
    "    def test_hard(self):\n",
    "        calls = list()\n",
    "        n = 100\n",
    "        \n",
    "        @call_n_times_pro(n)\n",
    "        def inner_func(arg):\n",
    "            calls.append(arg)\n",
    "        \n",
    "        inner_func(2)\n",
    "        self.assertEqual(calls, [2] * n)\n",
    "\n",
    "    def test_without_args(self):\n",
    "        calls = list()\n",
    "        n = 100\n",
    "        \n",
    "        @call_n_times_pro\n",
    "        def inner_func(arg):\n",
    "            calls.append(arg)\n",
    "        \n",
    "        inner_func(2)\n",
    "        self.assertEqual(calls, [2])\n",
    "\n",
    "\n",
    "\n",
    "        \n",
    "unittest.main(argv=['-m', 'TestCallNTimesProDecorator'], verbosity=2, exit=False)"
   ]
  }
 ],
 "metadata": {
  "kernelspec": {
   "display_name": "Python 3",
   "language": "python",
   "name": "python3"
  },
  "language_info": {
   "codemirror_mode": {
    "name": "ipython",
    "version": 3
   },
   "file_extension": ".py",
   "mimetype": "text/x-python",
   "name": "python",
   "nbconvert_exporter": "python",
   "pygments_lexer": "ipython3",
   "version": "3.7.3"
  }
 },
 "nbformat": 4,
 "nbformat_minor": 2
}
