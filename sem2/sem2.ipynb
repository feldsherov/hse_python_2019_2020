{
 "cells": [
  {
   "cell_type": "markdown",
   "metadata": {},
   "source": [
    "# Семинар 2"
   ]
  },
  {
   "cell_type": "markdown",
   "metadata": {},
   "source": [
    "\n",
    "## Программа минимум на сегодня\n",
    "\n",
    "* тип bool\n",
    "* логические выражения\n",
    "* if\n",
    "* while\n",
    "* float"
   ]
  },
  {
   "cell_type": "markdown",
   "metadata": {},
   "source": [
    "### bool и логические выражения\n",
    "\n",
    "С первого взгляда, все супер просто. Есть ```True```, есть ```False```, они ведут себя, как ожидалось."
   ]
  },
  {
   "cell_type": "code",
   "execution_count": 19,
   "metadata": {},
   "outputs": [
    {
     "name": "stdout",
     "output_type": "stream",
     "text": [
      "not A = False\n",
      "A and B = False\n",
      "A and B = True\n"
     ]
    }
   ],
   "source": [
    "A = True\n",
    "B = False \n",
    "\n",
    "# f-strings чуть умнее, чем может показаться. Можно писать целые выражения в фигурных скобках!\n",
    "# https://www.python.org/dev/peps/pep-0498/#supporting-full-python-expressions\n",
    "# но не делайте так лишний раз, это может убить читаемость кода\n",
    "print(f\"not A = {not A}\")\n",
    "print(f\"A and B = {A and B}\")\n",
    "print(f\"A and B = {A or B}\")"
   ]
  },
  {
   "cell_type": "code",
   "execution_count": 18,
   "metadata": {},
   "outputs": [
    {
     "name": "stdout",
     "output_type": "stream",
     "text": [
      "int(True) = 1\n",
      "int(Flase) = 0\n"
     ]
    }
   ],
   "source": [
    "# Можно bool привести к int\n",
    "print(f\"int(True) = {int(True)}\")\n",
    "print(f\"int(Flase) = {int(False)}\")"
   ]
  },
  {
   "cell_type": "markdown",
   "metadata": {},
   "source": [
    "Так же есть ожидаемый пак операторов."
   ]
  },
  {
   "cell_type": "code",
   "execution_count": 7,
   "metadata": {},
   "outputs": [
    {
     "name": "stdout",
     "output_type": "stream",
     "text": [
      "2 < 3 = True\n",
      "2 > 3 = False\n",
      "2 != 3 = True\n",
      "2 <= 3 = True\n",
      "2 >= 3 = False\n",
      "2 == 3 = False\n"
     ]
    }
   ],
   "source": [
    "print(f\"2 < 3 = {2 < 3}\")\n",
    "print(f\"2 > 3 = {2 > 3}\")\n",
    "print(f\"2 != 3 = {2 != 3}\")\n",
    "print(f\"2 <= 3 = {2 <= 3}\")\n",
    "print(f\"2 >= 3 = {2 >= 3}\")\n",
    "print(f\"2 == 3 = {2 == 3}\")"
   ]
  },
  {
   "cell_type": "markdown",
   "metadata": {},
   "source": [
    "Еще эти операторы умеют быть множественными. И работаю ожидаемо.\n",
    "\n",
    "Примечательно, что в C/С++ это совсем не так."
   ]
  },
  {
   "cell_type": "code",
   "execution_count": 57,
   "metadata": {},
   "outputs": [
    {
     "name": "stdout",
     "output_type": "stream",
     "text": [
      "2 < 3 <= 3 < 4  = True\n",
      "2 < 3 > 1 < 4 == 4 = True\n",
      "2 < 3 > 1 >= 4 == 4 = False\n"
     ]
    }
   ],
   "source": [
    "print(f\"2 < 3 <= 3 < 4  = {2 < 3 <= 3 < 4}\")\n",
    "print(f\"2 < 3 > 1 < 4 == 4 = {2 < 3 > 1 < 4 == 4}\")\n",
    "print(f\"2 < 3 > 1 >= 4 == 4 = {2 < 3 > 1 >= 4 == 4}\")"
   ]
  },
  {
   "cell_type": "markdown",
   "metadata": {},
   "source": [
    "#### И есть не ожидаемый оператор is. (этот кусок не обязателен)\n",
    "\n",
    "Помните магические константы -5 и 256 для оптимизации маленьких чиселок\n"
   ]
  },
  {
   "cell_type": "code",
   "execution_count": 50,
   "metadata": {},
   "outputs": [
    {
     "name": "stdout",
     "output_type": "stream",
     "text": [
      "n == m = True\n",
      "n is m = True\n",
      "id(n) = 4478705616, id(m) = 4478705616\n",
      "hash(n) = 256, hash(m) = 256\n"
     ]
    }
   ],
   "source": [
    "n = 255 + 1\n",
    "m = 255 + 1\n",
    "print(f\"n == m = {n == m}\")\n",
    "print(f\"n is m = {n is m}\")\n",
    "print(f\"id(n) = {id(n)}, id(m) = {id(m)}\")\n",
    "print(f\"hash(n) = {hash(n)}, hash(m) = {hash(m)}\")"
   ]
  },
  {
   "cell_type": "markdown",
   "metadata": {},
   "source": [
    "A еще меня кто-то спрашивал, если два раза результатом вычисления было одно и тоже число, то получится ли один и тот же PyObject."
   ]
  },
  {
   "cell_type": "code",
   "execution_count": 74,
   "metadata": {},
   "outputs": [
    {
     "name": "stdout",
     "output_type": "stream",
     "text": [
      "n == m = True\n",
      "n is m = False\n",
      "id(n) = 4512045072, id(m) = 4512045936\n",
      "hash(n) = 257, hash(m) = 257\n"
     ]
    }
   ],
   "source": [
    "n = 256 + 1\n",
    "m = 256 + 1\n",
    "print(f\"n == m = {n == m}\")\n",
    "print(f\"n is m = {n is m}\")\n",
    "print(f\"id(n) = {id(n)}, id(m) = {id(m)}\")\n",
    "print(f\"hash(n) = {hash(n)}, hash(m) = {hash(m)}\")"
   ]
  },
  {
   "cell_type": "markdown",
   "metadata": {},
   "source": [
    "И похожая боль про строки."
   ]
  },
  {
   "cell_type": "code",
   "execution_count": 54,
   "metadata": {},
   "outputs": [
    {
     "name": "stdout",
     "output_type": "stream",
     "text": [
      "====kitten=====\n",
      "a == b = True\n",
      "a is b = True\n",
      "id(a) = 4512122392, id(b) = 4512122392\n",
      "hash(a) = 5152323417804772102, hash(b) = 5152323417804772102\n",
      "====kitten2=====\n",
      "c == d = True\n",
      "c is d = False\n",
      "id(c) = 4512122392, id(d) = 4512627320\n",
      "hash(c) = 5152323417804772102, hash(d) = 5152323417804772102\n"
     ]
    }
   ],
   "source": [
    "print(\"====kitten=====\")\n",
    "a = \"kitten\"\n",
    "b = \"kitten\"\n",
    "print(f\"a == b = {a == b}\")\n",
    "print(f\"a is b = {a is b}\")\n",
    "print(f\"id(a) = {id(a)}, id(b) = {id(b)}\")\n",
    "print(f\"hash(a) = {hash(a)}, hash(b) = {hash(b)}\")\n",
    "print(\"====kitten2=====\")\n",
    "c = \"kitten\"\n",
    "d = \"kittens\"[:-1]\n",
    "print(f\"c == d = {c == d}\")\n",
    "print(f\"c is d = {c is d}\")\n",
    "print(f\"id(c) = {id(c)}, id(d) = {id(d)}\")\n",
    "print(f\"hash(c) = {hash(c)}, hash(d) = {hash(d)}\")"
   ]
  },
  {
   "cell_type": "markdown",
   "metadata": {},
   "source": [
    "Резюме. \n",
    "\n",
    "* ```is``` очень прохож на ```==```, но проверяет, что переменные указывают на один и тот же объект.\n",
    "* ```hash``` вычисляет какой-то hash от объекта.  \n",
    "* ```==``` привычным образом проверяет на равенство\n",
    "* ```id``` возвращает id объекта, при том id уникален для всех объектов. То есть ```a is b``` эквивалентно ```id(a) == id(b)```"
   ]
  },
  {
   "cell_type": "markdown",
   "metadata": {},
   "source": [
    "### if\n",
    "\n",
    "Тут почти нет веселых штук."
   ]
  },
  {
   "cell_type": "code",
   "execution_count": 58,
   "metadata": {},
   "outputs": [
    {
     "name": "stdout",
     "output_type": "stream",
     "text": [
      "I am here\n"
     ]
    }
   ],
   "source": [
    "a = True\n",
    "if a:\n",
    "    print(\"I am here\")"
   ]
  },
  {
   "cell_type": "code",
   "execution_count": 59,
   "metadata": {},
   "outputs": [],
   "source": [
    "a = 0\n",
    "if a:\n",
    "    print(\"I am here\")"
   ]
  },
  {
   "cell_type": "code",
   "execution_count": 60,
   "metadata": {},
   "outputs": [
    {
     "name": "stdout",
     "output_type": "stream",
     "text": [
      "I am here\n"
     ]
    }
   ],
   "source": [
    "a = 1\n",
    "if a:\n",
    "    print(\"I am here\")"
   ]
  },
  {
   "cell_type": "code",
   "execution_count": 61,
   "metadata": {},
   "outputs": [
    {
     "name": "stdout",
     "output_type": "stream",
     "text": [
      "I am here\n"
     ]
    }
   ],
   "source": [
    "a = 10\n",
    "if a > 3:\n",
    "    print(\"I am here\")"
   ]
  },
  {
   "cell_type": "code",
   "execution_count": 62,
   "metadata": {},
   "outputs": [
    {
     "name": "stdout",
     "output_type": "stream",
     "text": [
      "I am here\n"
     ]
    }
   ],
   "source": [
    "a = 10\n",
    "if 10 >= a > 3:\n",
    "    print(\"I am here\")"
   ]
  },
  {
   "cell_type": "code",
   "execution_count": 63,
   "metadata": {},
   "outputs": [
    {
     "name": "stdout",
     "output_type": "stream",
     "text": [
      "No. Not a chance.\n"
     ]
    }
   ],
   "source": [
    "a = 10\n",
    "if 10 > a > 3:\n",
    "    print(\"I am here\")\n",
    "else:\n",
    "    print(\"No. Not a chance.\")"
   ]
  },
  {
   "cell_type": "code",
   "execution_count": 64,
   "metadata": {},
   "outputs": [
    {
     "name": "stdout",
     "output_type": "stream",
     "text": [
      "You r lucky.\n"
     ]
    }
   ],
   "source": [
    "a = 10\n",
    "if 10 > a > 3:\n",
    "    print(\"I am here\")\n",
    "elif 10 >= a >= 3 and a % 2 == 0: # elif это отдельное ключевое слово\n",
    "    print(\"You r lucky.\")\n",
    "else:\n",
    "    print(\"No. Not a chance.\")"
   ]
  },
  {
   "cell_type": "code",
   "execution_count": 67,
   "metadata": {},
   "outputs": [
    {
     "name": "stdout",
     "output_type": "stream",
     "text": [
      "No. Not a chance.\n"
     ]
    }
   ],
   "source": [
    "a = \"\" # пустая строка приводится к False\n",
    "if a:\n",
    "    print(\"I am here\")\n",
    "else:\n",
    "    print(\"No. Not a chance.\")"
   ]
  },
  {
   "cell_type": "markdown",
   "metadata": {},
   "source": [
    "Как мы могли заметить, в ```if``` условием может быть не только ```True``` или ```False```, а еще куча других типов и они все как-то приводятся к ```bool```. Чтобы ближе понаблюдать этот процесс, можно воспользоваться функцей ```bool()```."
   ]
  },
  {
   "cell_type": "code",
   "execution_count": 69,
   "metadata": {},
   "outputs": [
    {
     "name": "stdout",
     "output_type": "stream",
     "text": [
      "bool(0) = False\n",
      "bool(1) = True\n",
      "bool('') = False\n",
      "bool('some_text') = True\n"
     ]
    }
   ],
   "source": [
    "print(f\"bool(0) = {bool(0)}\")\n",
    "print(f\"bool(1) = {bool(1)}\")\n",
    "print(f\"bool('') = {bool('')}\")\n",
    "print(f\"bool('some_text') = {bool('some_text')}\")"
   ]
  },
  {
   "cell_type": "markdown",
   "metadata": {},
   "source": [
    "##### Вот тут забавный момент. Опять же не обязательный.\n",
    "\n",
    "Что возвращают логические операторы ```and``` и ```or```?"
   ]
  },
  {
   "cell_type": "code",
   "execution_count": 79,
   "metadata": {},
   "outputs": [
    {
     "name": "stdout",
     "output_type": "stream",
     "text": [
      "5 or 170 = 5\n",
      "'' or 170 = 170\n",
      "170 or ''= 170\n",
      "5 and 170 = 170\n",
      "'' and 170 = \n",
      "170 and '' = \n"
     ]
    }
   ],
   "source": [
    "# https://docs.python.org/3/reference/expressions.html#or\n",
    "print(f\"5 or 170 = {5 or 170}\")\n",
    "print(f\"'' or 170 = {'' or 170}\")\n",
    "print(f\"170 or ''= {170 or ''}\")\n",
    "print(f\"5 and 170 = {5 and 170}\")\n",
    "print(f\"'' and 170 = {'' and 170}\")\n",
    "print(f\"170 and '' = {170 and ''}\")"
   ]
  },
  {
   "cell_type": "markdown",
   "metadata": {},
   "source": [
    "The expression x and y first evaluates x; if x is false, its value is returned; otherwise, y is evaluated and the resulting value is returned.\n",
    "\n",
    "The expression x or y first evaluates x; if x is true, its value is returned; otherwise, y is evaluated and the resulting value is returned."
   ]
  },
  {
   "cell_type": "markdown",
   "metadata": {},
   "source": [
    "#### while\n",
    "\n",
    "Все просто\n",
    "\n",
    "```\n",
    "while condition:\n",
    "    some code\n",
    "```"
   ]
  },
  {
   "cell_type": "code",
   "execution_count": 71,
   "metadata": {},
   "outputs": [
    {
     "name": "stdout",
     "output_type": "stream",
     "text": [
      "170\n"
     ]
    }
   ],
   "source": [
    "print(\"\" or 170)"
   ]
  },
  {
   "cell_type": "code",
   "execution_count": 2,
   "metadata": {},
   "outputs": [
    {
     "name": "stdout",
     "output_type": "stream",
     "text": [
      "57\n",
      "57 is not prime, 3 is divisor\n"
     ]
    }
   ],
   "source": [
    "import sys\n",
    "n = int(input())\n",
    "\n",
    "if n <= 1:\n",
    "    print(\"Ha-ha, not funny!\")\n",
    "else:    \n",
    "    c = 2\n",
    "    to = int(n**0.5 + 1) # сохраним в переменную, чтобы не перевычислять корень много раз\n",
    "    while n % c != 0 and c < to:\n",
    "        c += 1\n",
    "\n",
    "    if n % c == 0:\n",
    "        print(f\"{n} is not prime, {c} is divisor\")\n",
    "    else:\n",
    "        print(f\"{n} is prime\")"
   ]
  },
  {
   "cell_type": "markdown",
   "metadata": {},
   "source": [
    "Так же есть ```continue```, который себя ведет, как и в С++.\n",
    "\n",
    "Единственная смешная особенность у ```break```. Он прерывает выполнение цикла."
   ]
  },
  {
   "cell_type": "code",
   "execution_count": 7,
   "metadata": {},
   "outputs": [
    {
     "name": "stdout",
     "output_type": "stream",
     "text": [
      "i = 10, j = 10\n"
     ]
    }
   ],
   "source": [
    "i, j = 0, 0 # параллельное присваивание, присмотритесь к нему, если не знакомы\n",
    "while i < 10:\n",
    "    i += 1\n",
    "    while j < 10:\n",
    "        j += 1\n",
    "        break\n",
    "        \n",
    "print(f\"i = {i}, j = {j}\") # прерывается только внутренний цикл"
   ]
  },
  {
   "cell_type": "markdown",
   "metadata": {},
   "source": [
    "А теперь смотрите."
   ]
  },
  {
   "cell_type": "code",
   "execution_count": 12,
   "metadata": {},
   "outputs": [
    {
     "name": "stdout",
     "output_type": "stream",
     "text": [
      "I love kittens!\n",
      "'I love kittens!' is a good sentence.\n"
     ]
    }
   ],
   "source": [
    "STOP_WORDS = (\"pain\", \"sadness\", \"depression\")\n",
    "\n",
    "sentence = input()\n",
    "for word in STOP_WORDS:\n",
    "    if word in sentence:\n",
    "        print(\"sentence is !!!!CENSORED!!!!\")\n",
    "        break\n",
    "else:\n",
    "    print(f\"'{sentence}' is a good sentence.\")"
   ]
  },
  {
   "cell_type": "markdown",
   "metadata": {},
   "source": [
    "Ветка ```else``` к циклу выполнится, если цикл доработал до концa, то есть ни один ```break``` не сработал. В ```while``` я просто не смог придумать нормального примера."
   ]
  },
  {
   "cell_type": "markdown",
   "metadata": {},
   "source": [
    "#### float, или числа с плавающей точкой\n",
    "\n",
    "Я полагаю, что Вы уже когда-то трогали числа с плавающей точкой."
   ]
  },
  {
   "cell_type": "code",
   "execution_count": 13,
   "metadata": {},
   "outputs": [
    {
     "name": "stdout",
     "output_type": "stream",
     "text": [
      "1.0\n",
      "2.5\n",
      "a + b = 3.5\n"
     ]
    }
   ],
   "source": [
    "a = float(input())\n",
    "b = float(input())\n",
    "\n",
    "print(f\"a + b = {a + b}\")"
   ]
  },
  {
   "cell_type": "markdown",
   "metadata": {},
   "source": [
    "Есдинственное, что стоит знать, что в Python float это 64-х битное число с палавющей точкой. То есть аналог double.(На самом деле double не гарантирует быть 64-х битным, но по факту это так)"
   ]
  },
  {
   "cell_type": "code",
   "execution_count": 16,
   "metadata": {},
   "outputs": [
    {
     "data": {
      "text/plain": [
       "24"
      ]
     },
     "execution_count": 16,
     "metadata": {},
     "output_type": "execute_result"
    }
   ],
   "source": [
    "import sys\n",
    "sys.getsizeof(float(1.0))"
   ]
  },
  {
   "cell_type": "markdown",
   "metadata": {},
   "source": [
    "Вау, 24 байта, из которых только 8 по делу. Смотрим почему так:\n",
    "\n",
    "Описание объекта: [floatobject.h](https://github.com/python/cpython/blob/master/Include/floatobject.h#L15)\n",
    "\n",
    "Операции над float: [floatobject.c](https://github.com/python/cpython/blob/master/Objects/floatobject.c)\n",
    "\n",
    "\n",
    "Видим привычную нам структурку: \n",
    "\n",
    "```c\n",
    "typedef struct {\n",
    "    PyObject_HEAD\n",
    "    double ob_fval;\n",
    "} PyFloatObject;\n",
    "```\n",
    "\n",
    "Где PyObject_HEAD [приезжает отсюда](https://github.com/python/cpython/blob/master/Include/object.h#L104). _PyObject_HEAD_EXTRA это дебажная штука, она в релизной сборке интерпретатора выключена.\n",
    "\n",
    "[PyObject_VAR_HEAD](https://github.com/python/cpython/blob/master/Include/longintrepr.h#L86), который мы видели в целый числах [тоже тут](https://github.com/python/cpython/blob/master/Include/object.h#L104).\n",
    "\n",
    "Считаем:\n",
    "```sizeof(PyFloatObject) = sizeof(Py_ssize_t) + sizeof(struct _typeobject *ob_type) + sizeof(double) = 3 * 8 = 24```\n",
    "\n",
    "Сошлось. Еще набросьте `8` байт на переменную и оцените, насколько тяжело жить с Python."
   ]
  },
  {
   "cell_type": "markdown",
   "metadata": {},
   "source": [
    "## Бонус трек\n",
    "\n",
    "Я на прошлом семинаре пытался говорить, что интерпретатор первым делом, превращает код в [abstract syntax tree](https://en.wikipedia.org/wiki/Abstract_syntax_tree). Скорее всего вы не прочувствалали этот момент, давайте разберемся что это такое и зачем надо.\n",
    "\n",
    "Нельзя просто взять и испольнить код. Поэтому под капотом жизнь любого интерпретатора и компилятора имеет общие черты.\n",
    "\n",
    "Эти черты следующие:\n",
    "* [лексический анализ](https://en.wikipedia.org/wiki/Lexical_analysis)\n",
    "* построение AST\n",
    "\n",
    "Мы сейчас научимся получать ast, как его видит Python."
   ]
  },
  {
   "cell_type": "code",
   "execution_count": 21,
   "metadata": {},
   "outputs": [],
   "source": [
    "import ast"
   ]
  },
  {
   "cell_type": "code",
   "execution_count": 22,
   "metadata": {},
   "outputs": [],
   "source": [
    "code = '''\n",
    "a = input()\n",
    "b = input()\n",
    "print(a + b)\n",
    "'''"
   ]
  },
  {
   "cell_type": "code",
   "execution_count": 30,
   "metadata": {},
   "outputs": [
    {
     "data": {
      "text/plain": [
       "\"Module(body=[Assign(targets=[Name(id='a', ctx=Store())], value=Call(func=Name(id='input', ctx=Load()), args=[], keywords=[])), Assign(targets=[Name(id='b', ctx=Store())], value=Call(func=Name(id='input', ctx=Load()), args=[], keywords=[])), Expr(value=Call(func=Name(id='print', ctx=Load()), args=[BinOp(left=Name(id='a', ctx=Load()), op=Add(), right=Name(id='b', ctx=Load()))], keywords=[]))])\""
      ]
     },
     "execution_count": 30,
     "metadata": {},
     "output_type": "execute_result"
    }
   ],
   "source": [
    "parsed_ast = ast.parse(code)\n",
    "\n",
    "ast.dump(parsed_ast)"
   ]
  },
  {
   "cell_type": "markdown",
   "metadata": {},
   "source": [
    "Если присмотреться, можно рассмотреть, что ```ast.parse``` начинается с Module, то есть как будто код написан в отдельном файлике. Нам это не очень интересно, мы хотим посмотреть ноды . самого кода, давайте заскипаем эту чать."
   ]
  },
  {
   "cell_type": "code",
   "execution_count": 33,
   "metadata": {},
   "outputs": [
    {
     "name": "stdout",
     "output_type": "stream",
     "text": [
      "Assign(targets=[Name(id='a', ctx=Store())], value=Call(func=Name(id='input', ctx=Load()), args=[], keywords=[]))\n",
      "Assign(targets=[Name(id='b', ctx=Store())], value=Call(func=Name(id='input', ctx=Load()), args=[], keywords=[]))\n",
      "Expr(value=Call(func=Name(id='print', ctx=Load()), args=[BinOp(left=Name(id='a', ctx=Load()), op=Add(), right=Name(id='b', ctx=Load()))], keywords=[]))\n"
     ]
    }
   ],
   "source": [
    "for row in parsed_ast.body:\n",
    "    print(ast.dump(row))"
   ]
  },
  {
   "cell_type": "markdown",
   "metadata": {},
   "source": [
    "Сейчас я буду пользоваться внешней либой, чтобы более симпатично выводить ast. Получить ее можно так.\n",
    "```bash\n",
    "pip install astpretty\n",
    "```\n",
    "\n"
   ]
  },
  {
   "cell_type": "code",
   "execution_count": 34,
   "metadata": {},
   "outputs": [],
   "source": [
    "import astpretty"
   ]
  },
  {
   "cell_type": "code",
   "execution_count": 37,
   "metadata": {},
   "outputs": [
    {
     "name": "stdout",
     "output_type": "stream",
     "text": [
      "Assign(\n",
      "    lineno=2,\n",
      "    col_offset=0,\n",
      "    targets=[Name(lineno=2, col_offset=0, id='a', ctx=Store())],\n",
      "    value=Call(\n",
      "        lineno=2,\n",
      "        col_offset=4,\n",
      "        func=Name(lineno=2, col_offset=4, id='input', ctx=Load()),\n",
      "        args=[],\n",
      "        keywords=[],\n",
      "    ),\n",
      ")\n",
      "Assign(\n",
      "    lineno=3,\n",
      "    col_offset=0,\n",
      "    targets=[Name(lineno=3, col_offset=0, id='b', ctx=Store())],\n",
      "    value=Call(\n",
      "        lineno=3,\n",
      "        col_offset=4,\n",
      "        func=Name(lineno=3, col_offset=4, id='input', ctx=Load()),\n",
      "        args=[],\n",
      "        keywords=[],\n",
      "    ),\n",
      ")\n",
      "Expr(\n",
      "    lineno=4,\n",
      "    col_offset=0,\n",
      "    value=Call(\n",
      "        lineno=4,\n",
      "        col_offset=0,\n",
      "        func=Name(lineno=4, col_offset=0, id='print', ctx=Load()),\n",
      "        args=[\n",
      "            BinOp(\n",
      "                lineno=4,\n",
      "                col_offset=6,\n",
      "                left=Name(lineno=4, col_offset=6, id='a', ctx=Load()),\n",
      "                op=Add(),\n",
      "                right=Name(lineno=4, col_offset=10, id='b', ctx=Load()),\n",
      "            ),\n",
      "        ],\n",
      "        keywords=[],\n",
      "    ),\n",
      ")\n"
     ]
    }
   ],
   "source": [
    "for row in parsed_ast.body:\n",
    "    astpretty.pprint(row)"
   ]
  },
  {
   "cell_type": "markdown",
   "metadata": {},
   "source": [
    "Здесь, все, вроде, очевидно, давайте изучать как выглядят всяки странные конструкции с точки зрения Python, то есть какое получается ```ast```."
   ]
  },
  {
   "cell_type": "code",
   "execution_count": 40,
   "metadata": {},
   "outputs": [],
   "source": [
    "def pretty_print_ast(code):\n",
    "    parsed_ast = ast.parse(code)\n",
    "    for row in parsed_ast.body:\n",
    "        astpretty.pprint(row)"
   ]
  },
  {
   "cell_type": "code",
   "execution_count": 53,
   "metadata": {},
   "outputs": [
    {
     "name": "stdout",
     "output_type": "stream",
     "text": [
      "If(\n",
      "    lineno=2,\n",
      "    col_offset=0,\n",
      "    test=Compare(\n",
      "        lineno=2,\n",
      "        col_offset=3,\n",
      "        left=Num(lineno=2, col_offset=3, n=5),\n",
      "        ops=[Lt()],\n",
      "        comparators=[Num(lineno=2, col_offset=7, n=3)],\n",
      "    ),\n",
      "    body=[\n",
      "        Expr(\n",
      "            lineno=3,\n",
      "            col_offset=4,\n",
      "            value=Call(\n",
      "                lineno=3,\n",
      "                col_offset=4,\n",
      "                func=Name(lineno=3, col_offset=4, id='print', ctx=Load()),\n",
      "                args=[Str(lineno=3, col_offset=10, s='hi!')],\n",
      "                keywords=[],\n",
      "            ),\n",
      "        ),\n",
      "    ],\n",
      "    orelse=[],\n",
      ")\n"
     ]
    }
   ],
   "source": [
    "pretty_print_ast('''\n",
    "if 5 < 3:\n",
    "    print(\"hi!\")\n",
    "''')"
   ]
  },
  {
   "cell_type": "code",
   "execution_count": 51,
   "metadata": {
    "scrolled": true
   },
   "outputs": [
    {
     "name": "stdout",
     "output_type": "stream",
     "text": [
      "If(\n",
      "    lineno=2,\n",
      "    col_offset=0,\n",
      "    test=Compare(\n",
      "        lineno=2,\n",
      "        col_offset=3,\n",
      "        left=Num(lineno=2, col_offset=3, n=5),\n",
      "        ops=[Lt()],\n",
      "        comparators=[Num(lineno=2, col_offset=7, n=3)],\n",
      "    ),\n",
      "    body=[\n",
      "        Expr(\n",
      "            lineno=3,\n",
      "            col_offset=4,\n",
      "            value=Call(\n",
      "                lineno=3,\n",
      "                col_offset=4,\n",
      "                func=Name(lineno=3, col_offset=4, id='print', ctx=Load()),\n",
      "                args=[Str(lineno=3, col_offset=10, s='hi!')],\n",
      "                keywords=[],\n",
      "            ),\n",
      "        ),\n",
      "    ],\n",
      "    orelse=[\n",
      "        If(\n",
      "            lineno=4,\n",
      "            col_offset=5,\n",
      "            test=Compare(\n",
      "                lineno=4,\n",
      "                col_offset=5,\n",
      "                left=Num(lineno=4, col_offset=5, n=3),\n",
      "                ops=[Eq()],\n",
      "                comparators=[Num(lineno=4, col_offset=10, n=4)],\n",
      "            ),\n",
      "            body=[Pass(lineno=5, col_offset=4)],\n",
      "            orelse=[\n",
      "                Expr(\n",
      "                    lineno=7,\n",
      "                    col_offset=4,\n",
      "                    value=Call(\n",
      "                        lineno=7,\n",
      "                        col_offset=4,\n",
      "                        func=Name(lineno=7, col_offset=4, id='print', ctx=Load()),\n",
      "                        args=[Str(lineno=7, col_offset=10, s='THE END!')],\n",
      "                        keywords=[],\n",
      "                    ),\n",
      "                ),\n",
      "            ],\n",
      "        ),\n",
      "    ],\n",
      ")\n"
     ]
    }
   ],
   "source": [
    "pretty_print_ast('''\n",
    "if 5 < 3:\n",
    "    print(\"hi!\")\n",
    "elif 3 == 4:\n",
    "    pass\n",
    "else:\n",
    "    print(\"THE END!\")\n",
    "''')"
   ]
  },
  {
   "cell_type": "markdown",
   "metadata": {},
   "source": [
    "Получается, что в питоне нет никакого особенного elif, просто есть синтаксический сахар."
   ]
  },
  {
   "cell_type": "code",
   "execution_count": 45,
   "metadata": {},
   "outputs": [
    {
     "name": "stdout",
     "output_type": "stream",
     "text": [
      "Assign(\n",
      "    lineno=1,\n",
      "    col_offset=0,\n",
      "    targets=[\n",
      "        Tuple(\n",
      "            lineno=1,\n",
      "            col_offset=0,\n",
      "            elts=[\n",
      "                Name(lineno=1, col_offset=0, id='a', ctx=Store()),\n",
      "                Name(lineno=1, col_offset=3, id='b', ctx=Store()),\n",
      "            ],\n",
      "            ctx=Store(),\n",
      "        ),\n",
      "    ],\n",
      "    value=Tuple(\n",
      "        lineno=1,\n",
      "        col_offset=7,\n",
      "        elts=[\n",
      "            Name(lineno=1, col_offset=7, id='b', ctx=Load()),\n",
      "            Name(lineno=1, col_offset=10, id='a', ctx=Load()),\n",
      "        ],\n",
      "        ctx=Load(),\n",
      "    ),\n",
      ")\n"
     ]
    }
   ],
   "source": [
    "# негодяй, но ты же не не определил переменные a и b, все же сломается!\n",
    "# вопрос, почему не сломалось?\n",
    "pretty_print_ast(\"a, b = b, a\")"
   ]
  },
  {
   "cell_type": "code",
   "execution_count": 54,
   "metadata": {},
   "outputs": [
    {
     "name": "stdout",
     "output_type": "stream",
     "text": [
      "Expr(\n",
      "    lineno=1,\n",
      "    col_offset=0,\n",
      "    value=Compare(\n",
      "        lineno=1,\n",
      "        col_offset=0,\n",
      "        left=Name(lineno=1, col_offset=0, id='a', ctx=Load()),\n",
      "        ops=[\n",
      "            LtE(),\n",
      "            LtE(),\n",
      "            Eq(),\n",
      "        ],\n",
      "        comparators=[\n",
      "            Name(lineno=1, col_offset=5, id='b', ctx=Load()),\n",
      "            Name(lineno=1, col_offset=10, id='c', ctx=Load()),\n",
      "            Name(lineno=1, col_offset=15, id='d', ctx=Load()),\n",
      "        ],\n",
      "    ),\n",
      ")\n"
     ]
    }
   ],
   "source": [
    "# загадка, как бы выглядело ast для С/С++\n",
    "pretty_print_ast(\"a <= b <= c == d\")"
   ]
  },
  {
   "cell_type": "markdown",
   "metadata": {},
   "source": [
    "Посмотрим, как выглядит обычное сишное множественное присваивание."
   ]
  },
  {
   "cell_type": "code",
   "execution_count": 57,
   "metadata": {},
   "outputs": [
    {
     "name": "stdout",
     "output_type": "stream",
     "text": [
      "a = 3, b = 3, c = 3\n"
     ]
    }
   ],
   "source": [
    "a, b, c = 1, 2, 3\n",
    "a = b = c\n",
    "print(f\"a = {a}, b = {b}, c = {c}\")"
   ]
  },
  {
   "cell_type": "code",
   "execution_count": 58,
   "metadata": {},
   "outputs": [
    {
     "name": "stdout",
     "output_type": "stream",
     "text": [
      "Assign(\n",
      "    lineno=1,\n",
      "    col_offset=0,\n",
      "    targets=[\n",
      "        Name(lineno=1, col_offset=0, id='a', ctx=Store()),\n",
      "        Name(lineno=1, col_offset=4, id='b', ctx=Store()),\n",
      "    ],\n",
      "    value=Name(lineno=1, col_offset=8, id='c', ctx=Load()),\n",
      ")\n"
     ]
    }
   ],
   "source": [
    "pretty_print_ast(\"a = b = c\")"
   ]
  },
  {
   "cell_type": "code",
   "execution_count": 59,
   "metadata": {},
   "outputs": [
    {
     "name": "stdout",
     "output_type": "stream",
     "text": [
      "While(\n",
      "    lineno=2,\n",
      "    col_offset=0,\n",
      "    test=NameConstant(lineno=2, col_offset=6, value=True),\n",
      "    body=[\n",
      "        If(\n",
      "            lineno=3,\n",
      "            col_offset=4,\n",
      "            test=NameConstant(lineno=3, col_offset=7, value=False),\n",
      "            body=[Break(lineno=4, col_offset=8)],\n",
      "            orelse=[],\n",
      "        ),\n",
      "    ],\n",
      "    orelse=[\n",
      "        Expr(\n",
      "            lineno=6,\n",
      "            col_offset=4,\n",
      "            value=Call(\n",
      "                lineno=6,\n",
      "                col_offset=4,\n",
      "                func=Name(lineno=6, col_offset=4, id='print', ctx=Load()),\n",
      "                args=[Str(lineno=6, col_offset=10, s='Let eat bee.')],\n",
      "                keywords=[],\n",
      "            ),\n",
      "        ),\n",
      "    ],\n",
      ")\n"
     ]
    }
   ],
   "source": [
    "pretty_print_ast('''\n",
    "while True:\n",
    "    if False:\n",
    "        break\n",
    "else:\n",
    "    print(\"Let eat bee.\")\n",
    "''')"
   ]
  },
  {
   "cell_type": "code",
   "execution_count": null,
   "metadata": {},
   "outputs": [],
   "source": []
  }
 ],
 "metadata": {
  "kernelspec": {
   "display_name": "Python 3",
   "language": "python",
   "name": "python3"
  },
  "language_info": {
   "codemirror_mode": {
    "name": "ipython",
    "version": 3
   },
   "file_extension": ".py",
   "mimetype": "text/x-python",
   "name": "python",
   "nbconvert_exporter": "python",
   "pygments_lexer": "ipython3",
   "version": "3.7.0"
  }
 },
 "nbformat": 4,
 "nbformat_minor": 2
}
