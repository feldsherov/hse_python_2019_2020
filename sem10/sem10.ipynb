{
 "cells": [
  {
   "cell_type": "markdown",
   "metadata": {},
   "source": [
    "## Семинар 10\n",
    "\n",
    "Программа минимум на сегодня: области видимости, три слова про ООП, классы, наследование, перегрузка операторов"
   ]
  },
  {
   "cell_type": "markdown",
   "metadata": {},
   "source": [
    "## Области видимости"
   ]
  },
  {
   "cell_type": "code",
   "execution_count": 89,
   "metadata": {},
   "outputs": [
    {
     "name": "stdout",
     "output_type": "stream",
     "text": [
      "10\n"
     ]
    }
   ],
   "source": [
    "# что не так с этим кодом?\n",
    "a = 10\n",
    "\n",
    "def foo():\n",
    "    global a\n",
    "    print(a)\n",
    "\n",
    "foo()"
   ]
  },
  {
   "cell_type": "code",
   "execution_count": 92,
   "metadata": {},
   "outputs": [
    {
     "name": "stdout",
     "output_type": "stream",
     "text": [
      "11\n",
      "11\n"
     ]
    }
   ],
   "source": [
    "# что не так с этим кодом?\n",
    "a = 10\n",
    "\n",
    "def foo():\n",
    "    global a\n",
    "    a += 1\n",
    "    print(a)\n",
    "\n",
    "foo()\n",
    "print(a)"
   ]
  },
  {
   "cell_type": "code",
   "execution_count": 93,
   "metadata": {},
   "outputs": [
    {
     "name": "stdout",
     "output_type": "stream",
     "text": [
      "inner: 2\n",
      "outer: 1\n",
      "global: 0\n"
     ]
    }
   ],
   "source": [
    "# пример отсюда: https://stackoverflow.com/questions/1261875/python-nonlocal-statement\n",
    "\n",
    "x = 0\n",
    "def outer():\n",
    "    x = 1\n",
    "    def inner():\n",
    "        x = 2\n",
    "        print(\"inner:\", x)\n",
    "\n",
    "    inner()\n",
    "    print(\"outer:\", x)\n",
    "\n",
    "outer()\n",
    "print(\"global:\", x)"
   ]
  },
  {
   "cell_type": "code",
   "execution_count": 100,
   "metadata": {},
   "outputs": [
    {
     "name": "stdout",
     "output_type": "stream",
     "text": [
      "Code 1\n"
     ]
    }
   ],
   "source": [
    "# пример отсюда: https://stackoverflow.com/questions/1261875/python-nonlocal-statement\n",
    "\n",
    "def call_once(f):\n",
    "    print(\"Code 1\")\n",
    "    called = False\n",
    "    def wrap(*args, **argv):\n",
    "        print(\"Code 2\")\n",
    "        nonlocal called\n",
    "        if not called:\n",
    "            called = True\n",
    "            f(*args, **argv)\n",
    "    return wrap\n",
    "        \n",
    "\n",
    "@call_once\n",
    "def foo():\n",
    "    print(\"Hi!\")"
   ]
  },
  {
   "cell_type": "code",
   "execution_count": 101,
   "metadata": {},
   "outputs": [
    {
     "name": "stdout",
     "output_type": "stream",
     "text": [
      "Code 2\n",
      "Hi!\n",
      "Code 2\n"
     ]
    }
   ],
   "source": [
    "foo()\n",
    "foo()"
   ]
  },
  {
   "cell_type": "code",
   "execution_count": 102,
   "metadata": {},
   "outputs": [
    {
     "name": "stdout",
     "output_type": "stream",
     "text": [
      "inner: 2\n",
      "outer: 2\n",
      "global: 0\n"
     ]
    }
   ],
   "source": [
    "# пример отсюда: https://stackoverflow.com/questions/1261875/python-nonlocal-statement\n",
    "\n",
    "x = 0\n",
    "def outer():\n",
    "    x = 1\n",
    "    def inner():\n",
    "        nonlocal x\n",
    "        x = 2\n",
    "        print(\"inner:\", x)\n",
    "\n",
    "    inner()\n",
    "    print(\"outer:\", x)\n",
    "\n",
    "outer()\n",
    "print(\"global:\", x)"
   ]
  },
  {
   "cell_type": "code",
   "execution_count": 86,
   "metadata": {},
   "outputs": [
    {
     "name": "stdout",
     "output_type": "stream",
     "text": [
      "inner: 2\n",
      "outer: 1\n",
      "global: 2\n"
     ]
    }
   ],
   "source": [
    "# пример отсюда: https://stackoverflow.com/questions/1261875/python-nonlocal-statement\n",
    "\n",
    "x = 0\n",
    "def outer():\n",
    "    x = 1\n",
    "    def inner():\n",
    "        global x\n",
    "        x = 2\n",
    "        print(\"inner:\", x)\n",
    "\n",
    "    inner()\n",
    "    print(\"outer:\", x)\n",
    "\n",
    "outer()\n",
    "print(\"global:\", x)"
   ]
  },
  {
   "cell_type": "markdown",
   "metadata": {},
   "source": [
    "## ООП\n",
    "\n",
    "![Three rules](three-rules.png)"
   ]
  },
  {
   "cell_type": "markdown",
   "metadata": {},
   "source": [
    "## class"
   ]
  },
  {
   "cell_type": "code",
   "execution_count": 123,
   "metadata": {},
   "outputs": [],
   "source": [
    "class CounterInterface():\n",
    "    def request(self):\n",
    "        raise NotImplementedError(\"request is not implemented\")\n",
    "        \n",
    "    def get_counter(self):\n",
    "        raise NotImplementedError(\"get_counter is not implemented\")"
   ]
  },
  {
   "cell_type": "code",
   "execution_count": 126,
   "metadata": {},
   "outputs": [],
   "source": [
    "class CounterClass(CounterInterface):\n",
    "    def __init__(self):\n",
    "        self.requests_count = 0\n",
    "    \n",
    "    def request(self):\n",
    "        self.requests_count += 1\n",
    "    \n",
    "    def get_counter(self):\n",
    "        return self.requests_count"
   ]
  },
  {
   "cell_type": "code",
   "execution_count": 127,
   "metadata": {},
   "outputs": [
    {
     "name": "stderr",
     "output_type": "stream",
     "text": [
      ".\n",
      "----------------------------------------------------------------------\n",
      "Ran 1 test in 0.001s\n",
      "\n",
      "OK\n"
     ]
    },
    {
     "data": {
      "text/plain": [
       "<unittest.main.TestProgram at 0x105312a90>"
      ]
     },
     "execution_count": 127,
     "metadata": {},
     "output_type": "execute_result"
    }
   ],
   "source": [
    "import unittest\n",
    "\n",
    "class TestCounterClass(unittest.TestCase):\n",
    "    def test_simple(self):\n",
    "        counter = CounterClass()\n",
    "        self.assertEqual(counter.get_counter(), 0)\n",
    "        counter.request()\n",
    "        self.assertEqual(counter.get_counter(), 1)\n",
    "        \n",
    "unittest.main(argv=[\"\", \"TestCounterClass\"], exit=False)"
   ]
  },
  {
   "cell_type": "markdown",
   "metadata": {},
   "source": [
    "Сейчас код юниттестов должен был стать намного понятнее."
   ]
  },
  {
   "cell_type": "code",
   "execution_count": 132,
   "metadata": {},
   "outputs": [],
   "source": [
    "class CounterClass2(CounterClass):\n",
    "    def request(self):\n",
    "        self.requests_count += 2"
   ]
  },
  {
   "cell_type": "code",
   "execution_count": 133,
   "metadata": {},
   "outputs": [
    {
     "name": "stderr",
     "output_type": "stream",
     "text": [
      ".\n",
      "----------------------------------------------------------------------\n",
      "Ran 1 test in 0.001s\n",
      "\n",
      "OK\n"
     ]
    },
    {
     "data": {
      "text/plain": [
       "<unittest.main.TestProgram at 0x10533fe10>"
      ]
     },
     "execution_count": 133,
     "metadata": {},
     "output_type": "execute_result"
    }
   ],
   "source": [
    "import unittest\n",
    "\n",
    "class TestCounterClass2(unittest.TestCase):\n",
    "    def test_simple(self):\n",
    "        counter = CounterClass2()\n",
    "        self.assertEqual(counter.get_counter(), 0)\n",
    "        counter.request()\n",
    "        self.assertEqual(counter.get_counter(), 2)\n",
    "        \n",
    "unittest.main(argv=[\"\", \"TestCounterClass2\"], exit=False)"
   ]
  },
  {
   "cell_type": "markdown",
   "metadata": {},
   "source": [
    "Вопрос, а что делать, если я хочу переопрелить конструктор."
   ]
  },
  {
   "cell_type": "code",
   "execution_count": 140,
   "metadata": {},
   "outputs": [],
   "source": [
    "class A():\n",
    "    count = 1\n",
    "    def __init__(self, n):\n",
    "        print(self.count)\n",
    "        self.count = n\n",
    "        self.bubu = 2\n",
    "    def request(self):\n",
    "        self.count += 1\n",
    "        self.bubu = 2\n"
   ]
  },
  {
   "cell_type": "code",
   "execution_count": 145,
   "metadata": {},
   "outputs": [
    {
     "name": "stdout",
     "output_type": "stream",
     "text": [
      "1\n",
      "3\n",
      "2\n"
     ]
    }
   ],
   "source": [
    "c = A(3)\n",
    "print(c.count)\n",
    "print(c.bubu)"
   ]
  },
  {
   "cell_type": "code",
   "execution_count": 150,
   "metadata": {},
   "outputs": [],
   "source": [
    "class B():\n",
    "    l = list()\n",
    "    def __init__(self, n):\n",
    "        self.l.append(n)\n"
   ]
  },
  {
   "cell_type": "code",
   "execution_count": 152,
   "metadata": {},
   "outputs": [
    {
     "data": {
      "text/plain": [
       "[1, 2, 1, 2]"
      ]
     },
     "execution_count": 152,
     "metadata": {},
     "output_type": "execute_result"
    }
   ],
   "source": [
    "b = B(1)\n",
    "b = B(2)\n",
    "B.l\n",
    "b.l"
   ]
  },
  {
   "cell_type": "code",
   "execution_count": 154,
   "metadata": {},
   "outputs": [
    {
     "data": {
      "text/plain": [
       "[1, 2, 1, 2, 3, 3]"
      ]
     },
     "execution_count": 154,
     "metadata": {},
     "output_type": "execute_result"
    }
   ],
   "source": [
    "c = B(3)\n",
    "c.l"
   ]
  },
  {
   "cell_type": "code",
   "execution_count": 162,
   "metadata": {},
   "outputs": [],
   "source": [
    "class CounterClass3(CounterClass2):\n",
    "    def __init__(self, n):\n",
    "        super(CounterClass3, self).__init__()\n",
    "        self.requests_count = n"
   ]
  },
  {
   "cell_type": "code",
   "execution_count": 163,
   "metadata": {},
   "outputs": [
    {
     "name": "stderr",
     "output_type": "stream",
     "text": [
      ".\n",
      "----------------------------------------------------------------------\n",
      "Ran 1 test in 0.001s\n",
      "\n",
      "OK\n"
     ]
    },
    {
     "data": {
      "text/plain": [
       "<unittest.main.TestProgram at 0x1053680f0>"
      ]
     },
     "execution_count": 163,
     "metadata": {},
     "output_type": "execute_result"
    }
   ],
   "source": [
    "import unittest\n",
    "\n",
    "class TestCounterClass3(unittest.TestCase):\n",
    "    def test_simple(self):\n",
    "        counter = CounterClass3(3)\n",
    "        self.assertEqual(counter.get_counter(), 3)\n",
    "        counter.request()\n",
    "        self.assertEqual(counter.get_counter(), 5)\n",
    "        \n",
    "unittest.main(argv=[\"\", \"TestCounterClass3\"], exit=False)"
   ]
  },
  {
   "cell_type": "markdown",
   "metadata": {},
   "source": [
    "Полезная тема `isinstance`. Позволяет писать функции и методы, которые работают с разными типами по-разному."
   ]
  },
  {
   "cell_type": "code",
   "execution_count": 53,
   "metadata": {},
   "outputs": [],
   "source": [
    "a = CounterClass2()"
   ]
  },
  {
   "cell_type": "code",
   "execution_count": 54,
   "metadata": {},
   "outputs": [
    {
     "name": "stdout",
     "output_type": "stream",
     "text": [
      "isinstance(a, CounterClass3) = False\n",
      "isinstance(a, CounterClass2) = True\n",
      "isinstance(a, CounterClass) = True\n",
      "isinstance(a, CounterInterface) = True\n"
     ]
    }
   ],
   "source": [
    "print(f\"isinstance(a, CounterClass3) = {isinstance(a, CounterClass3)}\")\n",
    "print(f\"isinstance(a, CounterClass2) = {isinstance(a, CounterClass2)}\")\n",
    "print(f\"isinstance(a, CounterClass) = {isinstance(a, CounterClass)}\")\n",
    "print(f\"isinstance(a, CounterInterface) = {isinstance(a, CounterInterface)}\")"
   ]
  },
  {
   "cell_type": "markdown",
   "metadata": {},
   "source": [
    "Красткое введение в исключения"
   ]
  },
  {
   "cell_type": "code",
   "execution_count": 4,
   "metadata": {},
   "outputs": [
    {
     "ename": "Exception",
     "evalue": "some error",
     "output_type": "error",
     "traceback": [
      "\u001b[0;31m---------------------------------------------------------------------------\u001b[0m",
      "\u001b[0;31mException\u001b[0m                                 Traceback (most recent call last)",
      "\u001b[0;32m<ipython-input-4-4431b5b32f8b>\u001b[0m in \u001b[0;36m<module>\u001b[0;34m\u001b[0m\n\u001b[0;32m----> 1\u001b[0;31m \u001b[0;32mraise\u001b[0m \u001b[0mException\u001b[0m\u001b[0;34m(\u001b[0m\u001b[0;34m\"some error\"\u001b[0m\u001b[0;34m)\u001b[0m\u001b[0;34m\u001b[0m\u001b[0m\n\u001b[0m",
      "\u001b[0;31mException\u001b[0m: some error"
     ]
    }
   ],
   "source": [
    "raise Exception(\"some error\")"
   ]
  },
  {
   "cell_type": "code",
   "execution_count": 18,
   "metadata": {},
   "outputs": [],
   "source": [
    "def raising_func():\n",
    "    raise Exception(\"some error\")\n",
    "    \n",
    "def value_error_func():\n",
    "    raise ValueError(\"some value error\")\n",
    "    \n",
    "def usual_func():\n",
    "    return 0"
   ]
  },
  {
   "cell_type": "code",
   "execution_count": 19,
   "metadata": {},
   "outputs": [
    {
     "name": "stderr",
     "output_type": "stream",
     "text": [
      "Traceback (most recent call last):\n",
      "  File \"<ipython-input-19-7c506dfbe47f>\", line 4, in <module>\n",
      "    raising_func()\n",
      "  File \"<ipython-input-18-9219a0160b6a>\", line 2, in raising_func\n",
      "    raise Exception(\"some error\")\n",
      "Exception: some error\n"
     ]
    }
   ],
   "source": [
    "import traceback\n",
    "\n",
    "try:\n",
    "    raising_func()\n",
    "except Exception as e:\n",
    "    traceback.print_exc()"
   ]
  },
  {
   "cell_type": "code",
   "execution_count": 20,
   "metadata": {},
   "outputs": [
    {
     "name": "stdout",
     "output_type": "stream",
     "text": [
      "OK\n"
     ]
    }
   ],
   "source": [
    "\n",
    "try:\n",
    "    usual_func()\n",
    "except Exception as e:\n",
    "    traceback.print_exc()\n",
    "else:\n",
    "    print(\"OK\")"
   ]
  },
  {
   "cell_type": "markdown",
   "metadata": {},
   "source": [
    "Вызывается первый подходящий обработчик"
   ]
  },
  {
   "cell_type": "code",
   "execution_count": 22,
   "metadata": {},
   "outputs": [
    {
     "name": "stdout",
     "output_type": "stream",
     "text": [
      "value error\n"
     ]
    },
    {
     "name": "stderr",
     "output_type": "stream",
     "text": [
      "Traceback (most recent call last):\n",
      "  File \"<ipython-input-22-f8dfe9c70f52>\", line 2, in <module>\n",
      "    value_error_func()\n",
      "  File \"<ipython-input-18-9219a0160b6a>\", line 5, in value_error_func\n",
      "    raise ValueError(\"some value error\")\n",
      "ValueError: some value error\n"
     ]
    }
   ],
   "source": [
    "try:\n",
    "    value_error_func()\n",
    "except ValueError as e:\n",
    "    print(\"value error\")\n",
    "    traceback.print_exc()\n",
    "except Exception as e:\n",
    "    print(\"any error\")\n",
    "    traceback.print_exc()\n",
    "else:\n",
    "    print(\"OK\")"
   ]
  },
  {
   "cell_type": "markdown",
   "metadata": {},
   "source": [
    "Переопределение операторов.\n",
    "\n",
    "Вам в большинстве случаев понадобятся только:\n",
    "`__repr__`, `__str__`, [базовые операторы](https://docs.python.org/3/reference/datamodel.html#basic-customization), [операторы числовых типов](https://docs.python.org/3/reference/datamodel.html#emulating-numeric-types), [доступ к атрибутам](https://docs.python.org/3/reference/datamodel.html#customizing-attribute-access) и может быть [контексты](https://docs.python.org/3/reference/datamodel.html#with-statement-context-managers)"
   ]
  },
  {
   "cell_type": "code",
   "execution_count": 2,
   "metadata": {},
   "outputs": [],
   "source": [
    "class AlwaysBigger():\n",
    "    def __ge__(self, other):\n",
    "        return True\n",
    "    \n",
    "    def __gt__(self, other):\n",
    "        return True"
   ]
  },
  {
   "cell_type": "code",
   "execution_count": 3,
   "metadata": {},
   "outputs": [],
   "source": [
    "very_big = AlwaysBigger()"
   ]
  },
  {
   "cell_type": "code",
   "execution_count": 70,
   "metadata": {},
   "outputs": [
    {
     "name": "stdout",
     "output_type": "stream",
     "text": [
      "very_big > 10 = True\n",
      "very_big > 10**100 = True\n",
      "very_big > 'lol' = True\n"
     ]
    }
   ],
   "source": [
    "print(f\"very_big > 10 = {very_big > 10}\")\n",
    "print(f\"very_big > 10**100 = {very_big >= 10**100}\")\n",
    "print(f\"very_big > 'lol' = {'lol' < very_big}\")"
   ]
  },
  {
   "cell_type": "markdown",
   "metadata": {},
   "source": [
    "Вопрос, как же быть, что мы пытаемся сравнивать и слева и справа и у нас получается?\n",
    "\n",
    "Напишите класс, который умеет красиво выводиться функцией `print`, для этого вам нужно переопределить функцию `__repr__`."
   ]
  },
  {
   "cell_type": "code",
   "execution_count": 71,
   "metadata": {},
   "outputs": [],
   "source": [
    "class Printable():\n",
    "    def __init__(self, first, second):\n",
    "        self.first = first\n",
    "        self.second = second\n",
    "        \n",
    "    def __repr__(self):\n",
    "        # your code here\n",
    "        return \"\"\n",
    "    \n",
    "    def __str__(self):\n",
    "        # your code here\n",
    "        return \"\""
   ]
  },
  {
   "cell_type": "code",
   "execution_count": 72,
   "metadata": {},
   "outputs": [
    {
     "name": "stdout",
     "output_type": "stream",
     "text": [
      "\n"
     ]
    }
   ],
   "source": [
    "print(Printable(1, 2))"
   ]
  },
  {
   "cell_type": "markdown",
   "metadata": {},
   "source": [
    "Напишите свой реализацию `Counter`, который считает количество различных объектов, которые в него добавили, сделайте так, чтобы с вашим классом работал оператор `in`. [сслыка](https://docs.python.org/3/reference/datamodel.html#object.__contains__)"
   ]
  },
  {
   "cell_type": "code",
   "execution_count": 73,
   "metadata": {},
   "outputs": [],
   "source": [
    "# код здесь"
   ]
  },
  {
   "cell_type": "code",
   "execution_count": 74,
   "metadata": {},
   "outputs": [],
   "source": [
    "# тесты здесь"
   ]
  },
  {
   "cell_type": "markdown",
   "metadata": {},
   "source": [
    "Напишите свою реализацию defaultdict. Вам понадобится вот [этот метод](https://docs.python.org/3/reference/datamodel.html#object.__missing__)"
   ]
  },
  {
   "cell_type": "code",
   "execution_count": 75,
   "metadata": {},
   "outputs": [],
   "source": [
    "# код здесь"
   ]
  },
  {
   "cell_type": "code",
   "execution_count": 76,
   "metadata": {},
   "outputs": [],
   "source": [
    "# тесты здесь"
   ]
  },
  {
   "cell_type": "markdown",
   "metadata": {},
   "source": [
    "Напишите класс, который считает сколько раз его вызывали. \n",
    "Вам понадобится метод [`__call__`](https://docs.python.org/3/reference/datamodel.html#object.__call__)"
   ]
  },
  {
   "cell_type": "code",
   "execution_count": 87,
   "metadata": {},
   "outputs": [],
   "source": [
    "# код здесь"
   ]
  },
  {
   "cell_type": "code",
   "execution_count": 88,
   "metadata": {},
   "outputs": [],
   "source": [
    "# тесты здесь"
   ]
  },
  {
   "cell_type": "markdown",
   "metadata": {},
   "source": [
    "Напишите контекст, который на создание выводит \"я начал\", а на финализацию \"я закончил\"."
   ]
  },
  {
   "cell_type": "code",
   "execution_count": 1,
   "metadata": {},
   "outputs": [],
   "source": [
    "# код здесь"
   ]
  },
  {
   "cell_type": "markdown",
   "metadata": {},
   "source": [
    "Напишите класс декоратор. То есть callable класс, который принимает в качестве аргумента функцию. Подойдет любой декоратор из упражнений про декораторы."
   ]
  },
  {
   "cell_type": "code",
   "execution_count": null,
   "metadata": {},
   "outputs": [],
   "source": [
    "# код здесь"
   ]
  },
  {
   "cell_type": "markdown",
   "metadata": {},
   "source": [
    "Напишите класс двумерного вектора, который умеет складываться, вычитаться и скалярно умножаться на число и другой вектор. А еще должен уметь красиво выводиться."
   ]
  },
  {
   "cell_type": "code",
   "execution_count": null,
   "metadata": {},
   "outputs": [],
   "source": [
    "# код здесь"
   ]
  },
  {
   "cell_type": "code",
   "execution_count": null,
   "metadata": {},
   "outputs": [],
   "source": [
    "# тесты здесь"
   ]
  },
  {
   "cell_type": "markdown",
   "metadata": {},
   "source": [
    "Если вы дошли до сюда, то давайте начинать писать игру Сапер. У вас будут следующие шаги.\n",
    "\n",
    "1. Научиться генерировать поле размера N с K бомбами. N и K передаются аргументами командной строки. \n",
    "2. Научиться считывать с клавиатуры один символ и оторажать его на поле. Движение будет стрелочками, а открытие клетки enter.\n",
    "3. Научиться отображать результат нажатия.\n",
    "\n",
    "Задача очень неформально поставлена. Если есть проблемы как подступиться, спрашивайте.\n",
    "\n",
    "Начните с создание Python проекта в PyCharm."
   ]
  }
 ],
 "metadata": {
  "kernelspec": {
   "display_name": "Python 3",
   "language": "python",
   "name": "python3"
  },
  "language_info": {
   "codemirror_mode": {
    "name": "ipython",
    "version": 3
   },
   "file_extension": ".py",
   "mimetype": "text/x-python",
   "name": "python",
   "nbconvert_exporter": "python",
   "pygments_lexer": "ipython3",
   "version": "3.7.0"
  }
 },
 "nbformat": 4,
 "nbformat_minor": 2
}
